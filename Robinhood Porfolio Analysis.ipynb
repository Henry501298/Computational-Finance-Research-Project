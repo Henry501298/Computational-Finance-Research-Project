{
 "cells": [
  {
   "cell_type": "markdown",
   "metadata": {},
   "source": [
    " # Robinhood Portfolio Analysis, Using Modern Portfolio Theory (MPT)\n",
    " \n",
    "Modern portfolio theory (MPT) is a theory on how risk-averse investors can construct portfolios to optimize or maximize expected return based on a given level of market risk, emphasizing that risk is an inherent part of higher reward. According to the theory, it's possible to construct an \"efficient frontier\" of optimal portfolios offering the maximum possible expected return for a given level of risk.\n",
    "\n",
    "MPT shows that an investor can construct a portfolio of multiple assets that will maximize returns for a given level of risk. Likewise, given a desired level of expected return, an investor can construct a portfolio with the lowest possible risk. Based on statistical measures such as variance and correlation, an individual investment's return is less important than how the investment behaves in the context of the entire portfolio.\n",
    "\n",
    "##### Stocks mentioned in this portfolio should not be taken as a recommendation to buy or sell any security. This portfolio was created for perspective research only using Financial Engineering strategies for portfolio management and optimization. Taking the data and making a story"
   ]
  },
  {
   "cell_type": "code",
   "execution_count": 1,
   "metadata": {},
   "outputs": [],
   "source": [
    "import pandas as pd\n",
    "import numpy as np\n",
    "import matplotlib.pyplot as plt\n",
    "plt.style.use(\"seaborn\")\n",
    "\n",
    "pd.options.display.float_format = '{:.2f}'.format"
   ]
  },
  {
   "cell_type": "code",
   "execution_count": 2,
   "metadata": {},
   "outputs": [],
   "source": [
    "Robin_Stocks = pd.read_csv(\"Robin_Stocks.csv\", header = [0,1], index_col = [0], parse_dates = [0])[\"Adj Close\"]"
   ]
  },
  {
   "cell_type": "code",
   "execution_count": 3,
   "metadata": {},
   "outputs": [],
   "source": [
    "Robin_Stocks = Robin_Stocks.loc[\"2020-3-23\":\"2020-5-29\"]"
   ]
  },
  {
   "cell_type": "code",
   "execution_count": 4,
   "metadata": {},
   "outputs": [
    {
     "data": {
      "text/html": [
       "<div>\n",
       "<style scoped>\n",
       "    .dataframe tbody tr th:only-of-type {\n",
       "        vertical-align: middle;\n",
       "    }\n",
       "\n",
       "    .dataframe tbody tr th {\n",
       "        vertical-align: top;\n",
       "    }\n",
       "\n",
       "    .dataframe thead th {\n",
       "        text-align: right;\n",
       "    }\n",
       "</style>\n",
       "<table border=\"1\" class=\"dataframe\">\n",
       "  <thead>\n",
       "    <tr style=\"text-align: right;\">\n",
       "      <th></th>\n",
       "      <th>AAL</th>\n",
       "      <th>BAC</th>\n",
       "      <th>CSCO</th>\n",
       "      <th>DAL</th>\n",
       "      <th>KO</th>\n",
       "      <th>MSFT</th>\n",
       "    </tr>\n",
       "    <tr>\n",
       "      <th>Date</th>\n",
       "      <th></th>\n",
       "      <th></th>\n",
       "      <th></th>\n",
       "      <th></th>\n",
       "      <th></th>\n",
       "      <th></th>\n",
       "    </tr>\n",
       "  </thead>\n",
       "  <tbody>\n",
       "    <tr>\n",
       "      <th>2020-05-21</th>\n",
       "      <td>9.89</td>\n",
       "      <td>22.90</td>\n",
       "      <td>44.64</td>\n",
       "      <td>23.16</td>\n",
       "      <td>45.17</td>\n",
       "      <td>183.43</td>\n",
       "    </tr>\n",
       "    <tr>\n",
       "      <th>2020-05-22</th>\n",
       "      <td>9.70</td>\n",
       "      <td>22.66</td>\n",
       "      <td>44.90</td>\n",
       "      <td>22.69</td>\n",
       "      <td>45.03</td>\n",
       "      <td>183.51</td>\n",
       "    </tr>\n",
       "    <tr>\n",
       "      <th>2020-05-26</th>\n",
       "      <td>11.14</td>\n",
       "      <td>24.28</td>\n",
       "      <td>44.84</td>\n",
       "      <td>25.65</td>\n",
       "      <td>46.09</td>\n",
       "      <td>181.57</td>\n",
       "    </tr>\n",
       "    <tr>\n",
       "      <th>2020-05-27</th>\n",
       "      <td>11.98</td>\n",
       "      <td>25.98</td>\n",
       "      <td>45.96</td>\n",
       "      <td>26.32</td>\n",
       "      <td>46.73</td>\n",
       "      <td>181.81</td>\n",
       "    </tr>\n",
       "    <tr>\n",
       "      <th>2020-05-28</th>\n",
       "      <td>10.98</td>\n",
       "      <td>24.86</td>\n",
       "      <td>45.60</td>\n",
       "      <td>25.66</td>\n",
       "      <td>47.09</td>\n",
       "      <td>181.40</td>\n",
       "    </tr>\n",
       "  </tbody>\n",
       "</table>\n",
       "</div>"
      ],
      "text/plain": [
       "             AAL   BAC  CSCO   DAL    KO   MSFT\n",
       "Date                                           \n",
       "2020-05-21  9.89 22.90 44.64 23.16 45.17 183.43\n",
       "2020-05-22  9.70 22.66 44.90 22.69 45.03 183.51\n",
       "2020-05-26 11.14 24.28 44.84 25.65 46.09 181.57\n",
       "2020-05-27 11.98 25.98 45.96 26.32 46.73 181.81\n",
       "2020-05-28 10.98 24.86 45.60 25.66 47.09 181.40"
      ]
     },
     "execution_count": 4,
     "metadata": {},
     "output_type": "execute_result"
    }
   ],
   "source": [
    "Robin_Stocks.tail().dropna()"
   ]
  },
  {
   "cell_type": "code",
   "execution_count": 5,
   "metadata": {},
   "outputs": [],
   "source": [
    "def ann_risk_return(returns_df):\n",
    "    summary = returns_df.agg([\"mean\", \"std\"]).T\n",
    "    summary.columns = [\"Return\", \"Risk\"]\n",
    "    summary.Return = summary.Return*252\n",
    "    summary.Risk = summary.Risk * np.sqrt(252)\n",
    "    return summary"
   ]
  },
  {
   "cell_type": "markdown",
   "metadata": {},
   "source": [
    "Daily Returns since the impact of COVID-19:"
   ]
  },
  {
   "cell_type": "code",
   "execution_count": 7,
   "metadata": {},
   "outputs": [],
   "source": [
    "ret = Robin_Stocks.pct_change().dropna()"
   ]
  },
  {
   "cell_type": "code",
   "execution_count": 8,
   "metadata": {},
   "outputs": [
    {
     "data": {
      "text/html": [
       "<div>\n",
       "<style scoped>\n",
       "    .dataframe tbody tr th:only-of-type {\n",
       "        vertical-align: middle;\n",
       "    }\n",
       "\n",
       "    .dataframe tbody tr th {\n",
       "        vertical-align: top;\n",
       "    }\n",
       "\n",
       "    .dataframe thead th {\n",
       "        text-align: right;\n",
       "    }\n",
       "</style>\n",
       "<table border=\"1\" class=\"dataframe\">\n",
       "  <thead>\n",
       "    <tr style=\"text-align: right;\">\n",
       "      <th></th>\n",
       "      <th>AAL</th>\n",
       "      <th>BAC</th>\n",
       "      <th>CSCO</th>\n",
       "      <th>DAL</th>\n",
       "      <th>KO</th>\n",
       "      <th>MSFT</th>\n",
       "    </tr>\n",
       "    <tr>\n",
       "      <th>Date</th>\n",
       "      <th></th>\n",
       "      <th></th>\n",
       "      <th></th>\n",
       "      <th></th>\n",
       "      <th></th>\n",
       "      <th></th>\n",
       "    </tr>\n",
       "  </thead>\n",
       "  <tbody>\n",
       "    <tr>\n",
       "      <th>2020-05-21</th>\n",
       "      <td>0.00</td>\n",
       "      <td>-0.00</td>\n",
       "      <td>-0.02</td>\n",
       "      <td>0.02</td>\n",
       "      <td>-0.02</td>\n",
       "      <td>-0.01</td>\n",
       "    </tr>\n",
       "    <tr>\n",
       "      <th>2020-05-22</th>\n",
       "      <td>-0.02</td>\n",
       "      <td>-0.01</td>\n",
       "      <td>0.01</td>\n",
       "      <td>-0.02</td>\n",
       "      <td>-0.00</td>\n",
       "      <td>0.00</td>\n",
       "    </tr>\n",
       "    <tr>\n",
       "      <th>2020-05-26</th>\n",
       "      <td>0.15</td>\n",
       "      <td>0.07</td>\n",
       "      <td>-0.00</td>\n",
       "      <td>0.13</td>\n",
       "      <td>0.02</td>\n",
       "      <td>-0.01</td>\n",
       "    </tr>\n",
       "    <tr>\n",
       "      <th>2020-05-27</th>\n",
       "      <td>0.08</td>\n",
       "      <td>0.07</td>\n",
       "      <td>0.02</td>\n",
       "      <td>0.03</td>\n",
       "      <td>0.01</td>\n",
       "      <td>0.00</td>\n",
       "    </tr>\n",
       "    <tr>\n",
       "      <th>2020-05-28</th>\n",
       "      <td>-0.08</td>\n",
       "      <td>-0.04</td>\n",
       "      <td>-0.01</td>\n",
       "      <td>-0.03</td>\n",
       "      <td>0.01</td>\n",
       "      <td>-0.00</td>\n",
       "    </tr>\n",
       "  </tbody>\n",
       "</table>\n",
       "</div>"
      ],
      "text/plain": [
       "             AAL   BAC  CSCO   DAL    KO  MSFT\n",
       "Date                                          \n",
       "2020-05-21  0.00 -0.00 -0.02  0.02 -0.02 -0.01\n",
       "2020-05-22 -0.02 -0.01  0.01 -0.02 -0.00  0.00\n",
       "2020-05-26  0.15  0.07 -0.00  0.13  0.02 -0.01\n",
       "2020-05-27  0.08  0.07  0.02  0.03  0.01  0.00\n",
       "2020-05-28 -0.08 -0.04 -0.01 -0.03  0.01 -0.00"
      ]
     },
     "execution_count": 8,
     "metadata": {},
     "output_type": "execute_result"
    }
   ],
   "source": [
    "ret.tail().dropna()"
   ]
  },
  {
   "cell_type": "markdown",
   "metadata": {},
   "source": [
    "Risk and Return due to the impact of COVID-19:"
   ]
  },
  {
   "cell_type": "code",
   "execution_count": 9,
   "metadata": {},
   "outputs": [
    {
     "data": {
      "text/html": [
       "<div>\n",
       "<style scoped>\n",
       "    .dataframe tbody tr th:only-of-type {\n",
       "        vertical-align: middle;\n",
       "    }\n",
       "\n",
       "    .dataframe tbody tr th {\n",
       "        vertical-align: top;\n",
       "    }\n",
       "\n",
       "    .dataframe thead th {\n",
       "        text-align: right;\n",
       "    }\n",
       "</style>\n",
       "<table border=\"1\" class=\"dataframe\">\n",
       "  <thead>\n",
       "    <tr style=\"text-align: right;\">\n",
       "      <th></th>\n",
       "      <th>Return</th>\n",
       "      <th>Risk</th>\n",
       "    </tr>\n",
       "  </thead>\n",
       "  <tbody>\n",
       "    <tr>\n",
       "      <th>AAL</th>\n",
       "      <td>1.28</td>\n",
       "      <td>1.40</td>\n",
       "    </tr>\n",
       "    <tr>\n",
       "      <th>BAC</th>\n",
       "      <td>2.03</td>\n",
       "      <td>0.77</td>\n",
       "    </tr>\n",
       "    <tr>\n",
       "      <th>CSCO</th>\n",
       "      <td>1.69</td>\n",
       "      <td>0.50</td>\n",
       "    </tr>\n",
       "    <tr>\n",
       "      <th>DAL</th>\n",
       "      <td>1.36</td>\n",
       "      <td>1.10</td>\n",
       "    </tr>\n",
       "    <tr>\n",
       "      <th>KO</th>\n",
       "      <td>1.34</td>\n",
       "      <td>0.45</td>\n",
       "    </tr>\n",
       "    <tr>\n",
       "      <th>MSFT</th>\n",
       "      <td>1.70</td>\n",
       "      <td>0.46</td>\n",
       "    </tr>\n",
       "  </tbody>\n",
       "</table>\n",
       "</div>"
      ],
      "text/plain": [
       "      Return  Risk\n",
       "AAL     1.28  1.40\n",
       "BAC     2.03  0.77\n",
       "CSCO    1.69  0.50\n",
       "DAL     1.36  1.10\n",
       "KO      1.34  0.45\n",
       "MSFT    1.70  0.46"
      ]
     },
     "execution_count": 9,
     "metadata": {},
     "output_type": "execute_result"
    }
   ],
   "source": [
    "summary = ann_risk_return(ret)\n",
    "summary"
   ]
  },
  {
   "cell_type": "markdown",
   "metadata": {},
   "source": [
    "Risk/Return Analysis: the stock in the his portoflio with the highest risk include AAL and the stock with the highest return is BAC. A question we should always be asking ourselves when entering a new position, \"is the risk worth the potential reward?\". "
   ]
  },
  {
   "cell_type": "markdown",
   "metadata": {},
   "source": [
    "Plot Risk and Returns:"
   ]
  },
  {
   "cell_type": "code",
   "execution_count": 10,
   "metadata": {},
   "outputs": [
    {
     "data": {
      "image/png": "[encoded data removed]",
      "text/plain": [
       "<Figure size 936x648 with 1 Axes>"
      ]
     },
     "metadata": {},
     "output_type": "display_data"
    }
   ],
   "source": [
    "summary.plot(kind = \"scatter\", x = \"Risk\", y = \"Return\", figsize = (13,9), s = 50, fontsize = 15)\n",
    "for i in summary.index:\n",
    "    plt.annotate(i, xy=(summary.loc[i, \"Risk\"]+0.002, summary.loc[i, \"Return\"]+0.002), size = 15)\n",
    "plt.xlabel(\"Annual Risk\", fontsize = 15)\n",
    "plt.ylabel(\"Annual Return\", fontsize = 15)\n",
    "plt.title(\"Risk/Return Due to COVID-19\", fontsize = 20)\n",
    "plt.show()"
   ]
  },
  {
   "cell_type": "markdown",
   "metadata": {},
   "source": [
    "Number of assets in the portfolio (6), and 200,000 simulations of portfolios:"
   ]
  },
  {
   "cell_type": "code",
   "execution_count": 11,
   "metadata": {},
   "outputs": [
    {
     "name": "stdout",
     "output_type": "stream",
     "text": [
      "6 200000\n"
     ]
    }
   ],
   "source": [
    "noa = len(Robin_Stocks.columns)\n",
    "nop = 200000\n",
    "print(noa, nop)"
   ]
  },
  {
   "cell_type": "markdown",
   "metadata": {},
   "source": [
    "Creating simulation:"
   ]
  },
  {
   "cell_type": "code",
   "execution_count": 12,
   "metadata": {},
   "outputs": [],
   "source": [
    "np.random.seed(123)\n",
    "matrix = np.random.random(noa * nop).reshape(nop, noa)"
   ]
  },
  {
   "cell_type": "markdown",
   "metadata": {},
   "source": [
    "200,000 different weight combinations for each stock in the portfolio:"
   ]
  },
  {
   "cell_type": "code",
   "execution_count": 13,
   "metadata": {},
   "outputs": [
    {
     "data": {
      "text/plain": [
       "array([[0.23988467, 0.09855488, 0.07813438, 0.18988917, 0.24780647,\n",
       "        0.14573043],\n",
       "       [0.27161429, 0.18965776, 0.13319   , 0.10859361, 0.09504023,\n",
       "        0.20190411],\n",
       "       [0.22014101, 0.02995528, 0.19979801, 0.37043624, 0.09160159,\n",
       "        0.08806788],\n",
       "       ...,\n",
       "       [0.18797767, 0.40010447, 0.04277659, 0.02406148, 0.30980279,\n",
       "        0.035277  ],\n",
       "       [0.11427334, 0.38413301, 0.2375676 , 0.00199747, 0.23669224,\n",
       "        0.02533634],\n",
       "       [0.1197707 , 0.1219969 , 0.21134334, 0.21750883, 0.08111247,\n",
       "        0.24826776]])"
      ]
     },
     "execution_count": 13,
     "metadata": {},
     "output_type": "execute_result"
    }
   ],
   "source": [
    "weights = matrix / matrix.sum(axis = 1, keepdims= True)\n",
    "weights"
   ]
  },
  {
   "cell_type": "code",
   "execution_count": 14,
   "metadata": {},
   "outputs": [
    {
     "data": {
      "text/plain": [
       "array([[1.],\n",
       "       [1.],\n",
       "       [1.],\n",
       "       ...,\n",
       "       [1.],\n",
       "       [1.],\n",
       "       [1.]])"
      ]
     },
     "execution_count": 14,
     "metadata": {},
     "output_type": "execute_result"
    }
   ],
   "source": [
    "weights.sum(axis = 1, keepdims= True)"
   ]
  },
  {
   "cell_type": "markdown",
   "metadata": {},
   "source": [
    "Daily Returns of 200,000 portfolios:"
   ]
  },
  {
   "cell_type": "code",
   "execution_count": 15,
   "metadata": {},
   "outputs": [],
   "source": [
    "port_ret = ret.dot(weights.T)"
   ]
  },
  {
   "cell_type": "code",
   "execution_count": 16,
   "metadata": {},
   "outputs": [
    {
     "data": {
      "text/html": [
       "<div>\n",
       "<style scoped>\n",
       "    .dataframe tbody tr th:only-of-type {\n",
       "        vertical-align: middle;\n",
       "    }\n",
       "\n",
       "    .dataframe tbody tr th {\n",
       "        vertical-align: top;\n",
       "    }\n",
       "\n",
       "    .dataframe thead th {\n",
       "        text-align: right;\n",
       "    }\n",
       "</style>\n",
       "<table border=\"1\" class=\"dataframe\">\n",
       "  <thead>\n",
       "    <tr style=\"text-align: right;\">\n",
       "      <th></th>\n",
       "      <th>0</th>\n",
       "      <th>1</th>\n",
       "      <th>2</th>\n",
       "      <th>3</th>\n",
       "      <th>4</th>\n",
       "      <th>5</th>\n",
       "      <th>6</th>\n",
       "      <th>7</th>\n",
       "      <th>8</th>\n",
       "      <th>9</th>\n",
       "      <th>...</th>\n",
       "      <th>199990</th>\n",
       "      <th>199991</th>\n",
       "      <th>199992</th>\n",
       "      <th>199993</th>\n",
       "      <th>199994</th>\n",
       "      <th>199995</th>\n",
       "      <th>199996</th>\n",
       "      <th>199997</th>\n",
       "      <th>199998</th>\n",
       "      <th>199999</th>\n",
       "    </tr>\n",
       "    <tr>\n",
       "      <th>Date</th>\n",
       "      <th></th>\n",
       "      <th></th>\n",
       "      <th></th>\n",
       "      <th></th>\n",
       "      <th></th>\n",
       "      <th></th>\n",
       "      <th></th>\n",
       "      <th></th>\n",
       "      <th></th>\n",
       "      <th></th>\n",
       "      <th></th>\n",
       "      <th></th>\n",
       "      <th></th>\n",
       "      <th></th>\n",
       "      <th></th>\n",
       "      <th></th>\n",
       "      <th></th>\n",
       "      <th></th>\n",
       "      <th></th>\n",
       "      <th></th>\n",
       "      <th></th>\n",
       "    </tr>\n",
       "  </thead>\n",
       "  <tbody>\n",
       "    <tr>\n",
       "      <th>2020-05-21</th>\n",
       "      <td>-0.00</td>\n",
       "      <td>-0.00</td>\n",
       "      <td>0.00</td>\n",
       "      <td>-0.00</td>\n",
       "      <td>-0.01</td>\n",
       "      <td>-0.00</td>\n",
       "      <td>-0.01</td>\n",
       "      <td>-0.01</td>\n",
       "      <td>-0.00</td>\n",
       "      <td>-0.00</td>\n",
       "      <td>...</td>\n",
       "      <td>-0.01</td>\n",
       "      <td>-0.01</td>\n",
       "      <td>-0.00</td>\n",
       "      <td>-0.00</td>\n",
       "      <td>-0.00</td>\n",
       "      <td>-0.00</td>\n",
       "      <td>-0.01</td>\n",
       "      <td>-0.01</td>\n",
       "      <td>-0.01</td>\n",
       "      <td>-0.00</td>\n",
       "    </tr>\n",
       "    <tr>\n",
       "      <th>2020-05-22</th>\n",
       "      <td>-0.01</td>\n",
       "      <td>-0.01</td>\n",
       "      <td>-0.01</td>\n",
       "      <td>-0.01</td>\n",
       "      <td>-0.01</td>\n",
       "      <td>-0.01</td>\n",
       "      <td>-0.01</td>\n",
       "      <td>-0.00</td>\n",
       "      <td>-0.01</td>\n",
       "      <td>-0.01</td>\n",
       "      <td>...</td>\n",
       "      <td>-0.01</td>\n",
       "      <td>-0.01</td>\n",
       "      <td>-0.01</td>\n",
       "      <td>-0.01</td>\n",
       "      <td>-0.01</td>\n",
       "      <td>-0.01</td>\n",
       "      <td>-0.01</td>\n",
       "      <td>-0.01</td>\n",
       "      <td>-0.01</td>\n",
       "      <td>-0.01</td>\n",
       "    </tr>\n",
       "    <tr>\n",
       "      <th>2020-05-26</th>\n",
       "      <td>0.07</td>\n",
       "      <td>0.07</td>\n",
       "      <td>0.08</td>\n",
       "      <td>0.06</td>\n",
       "      <td>0.06</td>\n",
       "      <td>0.05</td>\n",
       "      <td>0.06</td>\n",
       "      <td>0.03</td>\n",
       "      <td>0.07</td>\n",
       "      <td>0.06</td>\n",
       "      <td>...</td>\n",
       "      <td>0.06</td>\n",
       "      <td>0.07</td>\n",
       "      <td>0.07</td>\n",
       "      <td>0.06</td>\n",
       "      <td>0.06</td>\n",
       "      <td>0.07</td>\n",
       "      <td>0.05</td>\n",
       "      <td>0.07</td>\n",
       "      <td>0.05</td>\n",
       "      <td>0.05</td>\n",
       "    </tr>\n",
       "    <tr>\n",
       "      <th>2020-05-27</th>\n",
       "      <td>0.04</td>\n",
       "      <td>0.04</td>\n",
       "      <td>0.03</td>\n",
       "      <td>0.03</td>\n",
       "      <td>0.04</td>\n",
       "      <td>0.03</td>\n",
       "      <td>0.04</td>\n",
       "      <td>0.03</td>\n",
       "      <td>0.04</td>\n",
       "      <td>0.03</td>\n",
       "      <td>...</td>\n",
       "      <td>0.04</td>\n",
       "      <td>0.04</td>\n",
       "      <td>0.04</td>\n",
       "      <td>0.03</td>\n",
       "      <td>0.03</td>\n",
       "      <td>0.04</td>\n",
       "      <td>0.04</td>\n",
       "      <td>0.05</td>\n",
       "      <td>0.04</td>\n",
       "      <td>0.03</td>\n",
       "    </tr>\n",
       "    <tr>\n",
       "      <th>2020-05-28</th>\n",
       "      <td>-0.03</td>\n",
       "      <td>-0.03</td>\n",
       "      <td>-0.03</td>\n",
       "      <td>-0.02</td>\n",
       "      <td>-0.03</td>\n",
       "      <td>-0.02</td>\n",
       "      <td>-0.03</td>\n",
       "      <td>-0.02</td>\n",
       "      <td>-0.03</td>\n",
       "      <td>-0.02</td>\n",
       "      <td>...</td>\n",
       "      <td>-0.03</td>\n",
       "      <td>-0.03</td>\n",
       "      <td>-0.03</td>\n",
       "      <td>-0.02</td>\n",
       "      <td>-0.02</td>\n",
       "      <td>-0.03</td>\n",
       "      <td>-0.03</td>\n",
       "      <td>-0.03</td>\n",
       "      <td>-0.03</td>\n",
       "      <td>-0.02</td>\n",
       "    </tr>\n",
       "  </tbody>\n",
       "</table>\n",
       "<p>5 rows × 200000 columns</p>\n",
       "</div>"
      ],
      "text/plain": [
       "            0       1       2       3       4       5       6       7       \\\n",
       "Date                                                                         \n",
       "2020-05-21   -0.00   -0.00    0.00   -0.00   -0.01   -0.00   -0.01   -0.01   \n",
       "2020-05-22   -0.01   -0.01   -0.01   -0.01   -0.01   -0.01   -0.01   -0.00   \n",
       "2020-05-26    0.07    0.07    0.08    0.06    0.06    0.05    0.06    0.03   \n",
       "2020-05-27    0.04    0.04    0.03    0.03    0.04    0.03    0.04    0.03   \n",
       "2020-05-28   -0.03   -0.03   -0.03   -0.02   -0.03   -0.02   -0.03   -0.02   \n",
       "\n",
       "            8       9       ...  199990  199991  199992  199993  199994  \\\n",
       "Date                        ...                                           \n",
       "2020-05-21   -0.00   -0.00  ...   -0.01   -0.01   -0.00   -0.00   -0.00   \n",
       "2020-05-22   -0.01   -0.01  ...   -0.01   -0.01   -0.01   -0.01   -0.01   \n",
       "2020-05-26    0.07    0.06  ...    0.06    0.07    0.07    0.06    0.06   \n",
       "2020-05-27    0.04    0.03  ...    0.04    0.04    0.04    0.03    0.03   \n",
       "2020-05-28   -0.03   -0.02  ...   -0.03   -0.03   -0.03   -0.02   -0.02   \n",
       "\n",
       "            199995  199996  199997  199998  199999  \n",
       "Date                                                \n",
       "2020-05-21   -0.00   -0.01   -0.01   -0.01   -0.00  \n",
       "2020-05-22   -0.01   -0.01   -0.01   -0.01   -0.01  \n",
       "2020-05-26    0.07    0.05    0.07    0.05    0.05  \n",
       "2020-05-27    0.04    0.04    0.05    0.04    0.03  \n",
       "2020-05-28   -0.03   -0.03   -0.03   -0.03   -0.02  \n",
       "\n",
       "[5 rows x 200000 columns]"
      ]
     },
     "execution_count": 16,
     "metadata": {},
     "output_type": "execute_result"
    }
   ],
   "source": [
    "port_ret.tail().dropna()"
   ]
  },
  {
   "cell_type": "markdown",
   "metadata": {},
   "source": [
    "Annual Risk and Return of 200,000 Portfolios"
   ]
  },
  {
   "cell_type": "code",
   "execution_count": 17,
   "metadata": {},
   "outputs": [],
   "source": [
    "port_summary = ann_risk_return(port_ret)"
   ]
  },
  {
   "cell_type": "code",
   "execution_count": 18,
   "metadata": {},
   "outputs": [
    {
     "data": {
      "text/html": [
       "<div>\n",
       "<style scoped>\n",
       "    .dataframe tbody tr th:only-of-type {\n",
       "        vertical-align: middle;\n",
       "    }\n",
       "\n",
       "    .dataframe tbody tr th {\n",
       "        vertical-align: top;\n",
       "    }\n",
       "\n",
       "    .dataframe thead th {\n",
       "        text-align: right;\n",
       "    }\n",
       "</style>\n",
       "<table border=\"1\" class=\"dataframe\">\n",
       "  <thead>\n",
       "    <tr style=\"text-align: right;\">\n",
       "      <th></th>\n",
       "      <th>Return</th>\n",
       "      <th>Risk</th>\n",
       "    </tr>\n",
       "  </thead>\n",
       "  <tbody>\n",
       "    <tr>\n",
       "      <th>199995</th>\n",
       "      <td>1.62</td>\n",
       "      <td>0.70</td>\n",
       "    </tr>\n",
       "    <tr>\n",
       "      <th>199996</th>\n",
       "      <td>1.52</td>\n",
       "      <td>0.63</td>\n",
       "    </tr>\n",
       "    <tr>\n",
       "      <th>199997</th>\n",
       "      <td>1.63</td>\n",
       "      <td>0.68</td>\n",
       "    </tr>\n",
       "    <tr>\n",
       "      <th>199998</th>\n",
       "      <td>1.69</td>\n",
       "      <td>0.61</td>\n",
       "    </tr>\n",
       "    <tr>\n",
       "      <th>199999</th>\n",
       "      <td>1.58</td>\n",
       "      <td>0.63</td>\n",
       "    </tr>\n",
       "  </tbody>\n",
       "</table>\n",
       "</div>"
      ],
      "text/plain": [
       "        Return  Risk\n",
       "199995    1.62  0.70\n",
       "199996    1.52  0.63\n",
       "199997    1.63  0.68\n",
       "199998    1.69  0.61\n",
       "199999    1.58  0.63"
      ]
     },
     "execution_count": 18,
     "metadata": {},
     "output_type": "execute_result"
    }
   ],
   "source": [
    "port_summary.tail().dropna()"
   ]
  },
  {
   "cell_type": "code",
   "execution_count": 19,
   "metadata": {},
   "outputs": [
    {
     "data": {
      "image/png": "[encoded data removed]",
      "text/plain": [
       "<Figure size 1080x648 with 1 Axes>"
      ]
     },
     "metadata": {},
     "output_type": "display_data"
    }
   ],
   "source": [
    "plt.figure(figsize = (15, 9))\n",
    "plt.scatter(port_summary.loc[:, \"Risk\"], port_summary.loc[:, \"Return\"],s= 20, color = \"blue\")\n",
    "plt.scatter(summary.loc[:, \"Risk\"], summary.loc[:, \"Return\"], s= 50, color = \"red\", marker = \"D\")\n",
    "plt.xlabel('Volatility (Risk)', fontsize = 15)\n",
    "plt.ylabel(\"Annual Return\", fontsize = 15)\n",
    "plt.title(\"200,000 Portfolios Risk/Return COVID-19 Visualization\", fontsize = 20)\n",
    "plt.show()"
   ]
  },
  {
   "cell_type": "markdown",
   "metadata": {},
   "source": [
    "## Portfolio Analysis With The Sharpe Ratio\n",
    "\n",
    "Used to help investors understand the return of an investment compared to its risk. The ratio is the average return earned in excess of the risk-free rate per unit of volatility or total risk. Volatility is a measure of the price fluctuations of an asset or portfolio.\n",
    "\n",
    "Since the Portfolio is from March 23 2020 to May 29 2020, we're going to be using the 3 month government bond, which is at 0.12% as the Risk Free rate. https://www.bloomberg.com/markets/rates-bonds/government-bonds/us use this website to track the treasury yields."
   ]
  },
  {
   "cell_type": "code",
   "execution_count": 20,
   "metadata": {},
   "outputs": [],
   "source": [
    "risk_free_return = 0.012\n",
    "risk_free_risk = 0"
   ]
  },
  {
   "cell_type": "code",
   "execution_count": 21,
   "metadata": {},
   "outputs": [
    {
     "data": {
      "text/plain": [
       "[0.012, 0]"
      ]
     },
     "execution_count": 21,
     "metadata": {},
     "output_type": "execute_result"
    }
   ],
   "source": [
    "rf = [risk_free_return, risk_free_risk]\n",
    "rf"
   ]
  },
  {
   "cell_type": "markdown",
   "metadata": {},
   "source": [
    "Sharpe Ratios for stocks in the portfolio:"
   ]
  },
  {
   "cell_type": "code",
   "execution_count": 22,
   "metadata": {},
   "outputs": [
    {
     "data": {
      "text/html": [
       "<div>\n",
       "<style scoped>\n",
       "    .dataframe tbody tr th:only-of-type {\n",
       "        vertical-align: middle;\n",
       "    }\n",
       "\n",
       "    .dataframe tbody tr th {\n",
       "        vertical-align: top;\n",
       "    }\n",
       "\n",
       "    .dataframe thead th {\n",
       "        text-align: right;\n",
       "    }\n",
       "</style>\n",
       "<table border=\"1\" class=\"dataframe\">\n",
       "  <thead>\n",
       "    <tr style=\"text-align: right;\">\n",
       "      <th></th>\n",
       "      <th>Return</th>\n",
       "      <th>Risk</th>\n",
       "      <th>Sharpe</th>\n",
       "    </tr>\n",
       "  </thead>\n",
       "  <tbody>\n",
       "    <tr>\n",
       "      <th>AAL</th>\n",
       "      <td>1.28</td>\n",
       "      <td>1.40</td>\n",
       "      <td>0.90</td>\n",
       "    </tr>\n",
       "    <tr>\n",
       "      <th>BAC</th>\n",
       "      <td>2.03</td>\n",
       "      <td>0.77</td>\n",
       "      <td>2.62</td>\n",
       "    </tr>\n",
       "    <tr>\n",
       "      <th>CSCO</th>\n",
       "      <td>1.69</td>\n",
       "      <td>0.50</td>\n",
       "      <td>3.32</td>\n",
       "    </tr>\n",
       "    <tr>\n",
       "      <th>DAL</th>\n",
       "      <td>1.36</td>\n",
       "      <td>1.10</td>\n",
       "      <td>1.23</td>\n",
       "    </tr>\n",
       "    <tr>\n",
       "      <th>KO</th>\n",
       "      <td>1.34</td>\n",
       "      <td>0.45</td>\n",
       "      <td>2.93</td>\n",
       "    </tr>\n",
       "    <tr>\n",
       "      <th>MSFT</th>\n",
       "      <td>1.70</td>\n",
       "      <td>0.46</td>\n",
       "      <td>3.67</td>\n",
       "    </tr>\n",
       "  </tbody>\n",
       "</table>\n",
       "</div>"
      ],
      "text/plain": [
       "      Return  Risk  Sharpe\n",
       "AAL     1.28  1.40    0.90\n",
       "BAC     2.03  0.77    2.62\n",
       "CSCO    1.69  0.50    3.32\n",
       "DAL     1.36  1.10    1.23\n",
       "KO      1.34  0.45    2.93\n",
       "MSFT    1.70  0.46    3.67"
      ]
     },
     "execution_count": 22,
     "metadata": {},
     "output_type": "execute_result"
    }
   ],
   "source": [
    "summary[\"Sharpe\"] = (summary[\"Return\"].sub(rf[0]))/summary[\"Risk\"]\n",
    "summary"
   ]
  },
  {
   "cell_type": "markdown",
   "metadata": {},
   "source": [
    "Stock Sharpe Ratio Analysis: Notice that the stocks all have positive values for the sharpe ratio. This mean's we are expecting gains from these stocks. "
   ]
  },
  {
   "cell_type": "markdown",
   "metadata": {},
   "source": [
    "Portfolio Sharpe Ratios: having a porfolio sharpe ratio above 1 is ideal to have"
   ]
  },
  {
   "cell_type": "code",
   "execution_count": 23,
   "metadata": {},
   "outputs": [],
   "source": [
    "port_summary[\"Sharpe\"] = (port_summary[\"Return\"].sub(rf[0]))/port_summary[\"Risk\"]"
   ]
  },
  {
   "cell_type": "code",
   "execution_count": 24,
   "metadata": {},
   "outputs": [
    {
     "data": {
      "text/html": [
       "<div>\n",
       "<style scoped>\n",
       "    .dataframe tbody tr th:only-of-type {\n",
       "        vertical-align: middle;\n",
       "    }\n",
       "\n",
       "    .dataframe tbody tr th {\n",
       "        vertical-align: top;\n",
       "    }\n",
       "\n",
       "    .dataframe thead th {\n",
       "        text-align: right;\n",
       "    }\n",
       "</style>\n",
       "<table border=\"1\" class=\"dataframe\">\n",
       "  <thead>\n",
       "    <tr style=\"text-align: right;\">\n",
       "      <th></th>\n",
       "      <th>Return</th>\n",
       "      <th>Risk</th>\n",
       "      <th>Sharpe</th>\n",
       "    </tr>\n",
       "  </thead>\n",
       "  <tbody>\n",
       "    <tr>\n",
       "      <th>199995</th>\n",
       "      <td>1.62</td>\n",
       "      <td>0.70</td>\n",
       "      <td>2.29</td>\n",
       "    </tr>\n",
       "    <tr>\n",
       "      <th>199996</th>\n",
       "      <td>1.52</td>\n",
       "      <td>0.63</td>\n",
       "      <td>2.41</td>\n",
       "    </tr>\n",
       "    <tr>\n",
       "      <th>199997</th>\n",
       "      <td>1.63</td>\n",
       "      <td>0.68</td>\n",
       "      <td>2.38</td>\n",
       "    </tr>\n",
       "    <tr>\n",
       "      <th>199998</th>\n",
       "      <td>1.69</td>\n",
       "      <td>0.61</td>\n",
       "      <td>2.76</td>\n",
       "    </tr>\n",
       "    <tr>\n",
       "      <th>199999</th>\n",
       "      <td>1.58</td>\n",
       "      <td>0.63</td>\n",
       "      <td>2.51</td>\n",
       "    </tr>\n",
       "  </tbody>\n",
       "</table>\n",
       "</div>"
      ],
      "text/plain": [
       "        Return  Risk  Sharpe\n",
       "199995    1.62  0.70    2.29\n",
       "199996    1.52  0.63    2.41\n",
       "199997    1.63  0.68    2.38\n",
       "199998    1.69  0.61    2.76\n",
       "199999    1.58  0.63    2.51"
      ]
     },
     "execution_count": 24,
     "metadata": {},
     "output_type": "execute_result"
    }
   ],
   "source": [
    "port_summary.tail().dropna()"
   ]
  },
  {
   "cell_type": "code",
   "execution_count": 25,
   "metadata": {},
   "outputs": [
    {
     "data": {
      "text/html": [
       "<div>\n",
       "<style scoped>\n",
       "    .dataframe tbody tr th:only-of-type {\n",
       "        vertical-align: middle;\n",
       "    }\n",
       "\n",
       "    .dataframe tbody tr th {\n",
       "        vertical-align: top;\n",
       "    }\n",
       "\n",
       "    .dataframe thead th {\n",
       "        text-align: right;\n",
       "    }\n",
       "</style>\n",
       "<table border=\"1\" class=\"dataframe\">\n",
       "  <thead>\n",
       "    <tr style=\"text-align: right;\">\n",
       "      <th></th>\n",
       "      <th>Return</th>\n",
       "      <th>Risk</th>\n",
       "      <th>Sharpe</th>\n",
       "    </tr>\n",
       "  </thead>\n",
       "  <tbody>\n",
       "    <tr>\n",
       "      <th>count</th>\n",
       "      <td>200000.00</td>\n",
       "      <td>200000.00</td>\n",
       "      <td>200000.00</td>\n",
       "    </tr>\n",
       "    <tr>\n",
       "      <th>mean</th>\n",
       "      <td>1.57</td>\n",
       "      <td>0.66</td>\n",
       "      <td>2.39</td>\n",
       "    </tr>\n",
       "    <tr>\n",
       "      <th>std</th>\n",
       "      <td>0.07</td>\n",
       "      <td>0.09</td>\n",
       "      <td>0.38</td>\n",
       "    </tr>\n",
       "    <tr>\n",
       "      <th>min</th>\n",
       "      <td>1.33</td>\n",
       "      <td>0.42</td>\n",
       "      <td>1.09</td>\n",
       "    </tr>\n",
       "    <tr>\n",
       "      <th>25%</th>\n",
       "      <td>1.52</td>\n",
       "      <td>0.60</td>\n",
       "      <td>2.13</td>\n",
       "    </tr>\n",
       "    <tr>\n",
       "      <th>50%</th>\n",
       "      <td>1.57</td>\n",
       "      <td>0.66</td>\n",
       "      <td>2.37</td>\n",
       "    </tr>\n",
       "    <tr>\n",
       "      <th>75%</th>\n",
       "      <td>1.61</td>\n",
       "      <td>0.72</td>\n",
       "      <td>2.64</td>\n",
       "    </tr>\n",
       "    <tr>\n",
       "      <th>max</th>\n",
       "      <td>1.90</td>\n",
       "      <td>1.24</td>\n",
       "      <td>3.69</td>\n",
       "    </tr>\n",
       "  </tbody>\n",
       "</table>\n",
       "</div>"
      ],
      "text/plain": [
       "         Return      Risk    Sharpe\n",
       "count 200000.00 200000.00 200000.00\n",
       "mean       1.57      0.66      2.39\n",
       "std        0.07      0.09      0.38\n",
       "min        1.33      0.42      1.09\n",
       "25%        1.52      0.60      2.13\n",
       "50%        1.57      0.66      2.37\n",
       "75%        1.61      0.72      2.64\n",
       "max        1.90      1.24      3.69"
      ]
     },
     "execution_count": 25,
     "metadata": {},
     "output_type": "execute_result"
    }
   ],
   "source": [
    "port_summary.describe()"
   ]
  },
  {
   "cell_type": "markdown",
   "metadata": {},
   "source": [
    "out of 200,000 portfolio simulations, our maximum results lead to an 1.90% return, 1.24% risk and sharpe ratio of 3.69. The best performing portfolios usually have a Sharpe Ratios with 1 or above which is ideal to look for. In over all return of this portfolio combination is greater then risk. \n",
    "\n",
    "Plot 200,000 Portfolio Sharpe Ratio Performances. \"vmin\" comes from \"25%\", \"vmax\" comes from max sharpe ratio, and \"alpha\" comes from \"max return\" this is also a trial and error process to get the most out of the chart. data inputs comform the describe chart."
   ]
  },
  {
   "cell_type": "code",
   "execution_count": 26,
   "metadata": {},
   "outputs": [
    {
     "data": {
      "image/png": "[encoded data removed]",
      "text/plain": [
       "<Figure size 1080x576 with 2 Axes>"
      ]
     },
     "metadata": {},
     "output_type": "display_data"
    }
   ],
   "source": [
    "plt.figure(figsize = (15, 8))\n",
    "plt.scatter(port_summary.loc[:, \"Risk\"], port_summary.loc[:, \"Return\"], s= 20, \n",
    "            c = port_summary.loc[:, \"Sharpe\"], cmap = \"coolwarm\", vmin = 2.00, vmax = 3.6, alpha = 1.9)\n",
    "plt.colorbar()\n",
    "plt.scatter(summary.loc[:, \"Risk\"], summary.loc[:, \"Return\"],s= 50, marker = \"D\", c = \"black\")\n",
    "plt.xlabel(\"Volatility (Risk)\", fontsize = 15)\n",
    "plt.ylabel(\"Annual Return\", fontsize = 15)\n",
    "plt.title(\"Portfolio Sharpe Ratios Visualization COVID-19\", fontsize = 20)\n",
    "plt.show()"
   ]
  },
  {
   "cell_type": "markdown",
   "metadata": {},
   "source": [
    "## The Optimal Portfolio - \"Max Sharpe Ratio Portfolio\""
   ]
  },
  {
   "cell_type": "code",
   "execution_count": 27,
   "metadata": {},
   "outputs": [
    {
     "data": {
      "text/plain": [
       "13034"
      ]
     },
     "execution_count": 27,
     "metadata": {},
     "output_type": "execute_result"
    }
   ],
   "source": [
    "msrp = port_summary.Sharpe.idxmax()\n",
    "msrp"
   ]
  },
  {
   "cell_type": "markdown",
   "metadata": {},
   "source": [
    "Results of the Max Sharpe Ratio Portfolio:"
   ]
  },
  {
   "cell_type": "code",
   "execution_count": 28,
   "metadata": {},
   "outputs": [
    {
     "data": {
      "text/plain": [
       "Return   1.58\n",
       "Risk     0.43\n",
       "Sharpe   3.69\n",
       "Name: 13034, dtype: float64"
      ]
     },
     "execution_count": 28,
     "metadata": {},
     "output_type": "execute_result"
    }
   ],
   "source": [
    "port_summary.loc[msrp]"
   ]
  },
  {
   "cell_type": "markdown",
   "metadata": {},
   "source": [
    "The \"optimal weights\" of the portfolio:"
   ]
  },
  {
   "cell_type": "code",
   "execution_count": 29,
   "metadata": {},
   "outputs": [
    {
     "data": {
      "text/plain": [
       "array([0.00399721, 0.00244394, 0.06195964, 0.00777264, 0.31493328,\n",
       "       0.60889329])"
      ]
     },
     "execution_count": 29,
     "metadata": {},
     "output_type": "execute_result"
    }
   ],
   "source": [
    "msrp_w = weights[msrp, :]\n",
    "msrp_w"
   ]
  },
  {
   "cell_type": "markdown",
   "metadata": {},
   "source": [
    "out of 200,000 portfolio, \"The Best Portfolio\" consist of the following combinations:"
   ]
  },
  {
   "cell_type": "code",
   "execution_count": 31,
   "metadata": {},
   "outputs": [
    {
     "data": {
      "text/plain": [
       "AAL    0.00\n",
       "BAC    0.00\n",
       "CSCO   0.06\n",
       "DAL    0.01\n",
       "KO     0.31\n",
       "MSFT   0.61\n",
       "dtype: float64"
      ]
     },
     "execution_count": 31,
     "metadata": {},
     "output_type": "execute_result"
    }
   ],
   "source": [
    "pd.Series(index = Robin_Stocks.columns, data = msrp_w)"
   ]
  },
  {
   "cell_type": "markdown",
   "metadata": {},
   "source": [
    "Optimization Analysis: Notice the optimal portfolio, has 0% AAL and 0% BAC allocations."
   ]
  },
  {
   "cell_type": "markdown",
   "metadata": {},
   "source": [
    "###  Finding the \"absolute optimal portfolio\" with scipy, an optimization algorithm"
   ]
  },
  {
   "cell_type": "code",
   "execution_count": 32,
   "metadata": {},
   "outputs": [],
   "source": [
    "import pandas as pd\n",
    "import numpy as np\n",
    "import scipy.optimize as sco\n",
    "pd.options.display.float_format = '{:.4f}'.format\n",
    "np.set_printoptions(suppress = True)"
   ]
  },
  {
   "cell_type": "markdown",
   "metadata": {},
   "source": [
    "Risk Free Rate:"
   ]
  },
  {
   "cell_type": "code",
   "execution_count": 33,
   "metadata": {},
   "outputs": [],
   "source": [
    "rf = 0.012"
   ]
  },
  {
   "cell_type": "markdown",
   "metadata": {},
   "source": [
    "Annualized portfolio return (based on weights):"
   ]
  },
  {
   "cell_type": "code",
   "execution_count": 34,
   "metadata": {},
   "outputs": [],
   "source": [
    "def port_ret(weights):\n",
    "    return ret.dot(weights.T).mean() * 252"
   ]
  },
  {
   "cell_type": "markdown",
   "metadata": {},
   "source": [
    "Annualized portfolio volatility (based on weights):"
   ]
  },
  {
   "cell_type": "code",
   "execution_count": 35,
   "metadata": {},
   "outputs": [],
   "source": [
    "def port_vol(weights):\n",
    "    return ret.dot(weights.T).std() * np.sqrt(252)"
   ]
  },
  {
   "cell_type": "code",
   "execution_count": 36,
   "metadata": {},
   "outputs": [],
   "source": [
    "def min_func_sharpe(weights): \n",
    "     return (rf - port_ret(weights)) / port_vol(weights) #sharpe ratio * (-1)"
   ]
  },
  {
   "cell_type": "markdown",
   "metadata": {},
   "source": [
    "Number of assets in the portfolio:"
   ]
  },
  {
   "cell_type": "code",
   "execution_count": 37,
   "metadata": {},
   "outputs": [
    {
     "data": {
      "text/plain": [
       "6"
      ]
     },
     "execution_count": 37,
     "metadata": {},
     "output_type": "execute_result"
    }
   ],
   "source": [
    "noa = len(ret.columns)\n",
    "noa"
   ]
  },
  {
   "cell_type": "markdown",
   "metadata": {},
   "source": [
    "In order to find the absolute optimal portfolio we must set all stocks to equal weights:"
   ]
  },
  {
   "cell_type": "code",
   "execution_count": 38,
   "metadata": {},
   "outputs": [
    {
     "data": {
      "text/plain": [
       "array([0.16666667, 0.16666667, 0.16666667, 0.16666667, 0.16666667,\n",
       "       0.16666667])"
      ]
     },
     "execution_count": 38,
     "metadata": {},
     "output_type": "execute_result"
    }
   ],
   "source": [
    "eweigths = np.full(noa, 1/noa)\n",
    "eweigths"
   ]
  },
  {
   "cell_type": "code",
   "execution_count": 39,
   "metadata": {},
   "outputs": [],
   "source": [
    "cons = ({\"type\": \"eq\", \"fun\": lambda x: np.sum(x) - 1})"
   ]
  },
  {
   "cell_type": "code",
   "execution_count": 40,
   "metadata": {},
   "outputs": [],
   "source": [
    "bnds =  tuple((0,1) for x in range(noa))"
   ]
  },
  {
   "cell_type": "markdown",
   "metadata": {},
   "source": [
    "Optimization based on function to be minimized, starting with equal weights and based on respective bounds and constraints:"
   ]
  },
  {
   "cell_type": "code",
   "execution_count": 41,
   "metadata": {},
   "outputs": [],
   "source": [
    "opts = sco.minimize(min_func_sharpe, eweigths, method = \"SLSQP\", bounds = bnds, constraints= cons)"
   ]
  },
  {
   "cell_type": "markdown",
   "metadata": {},
   "source": [
    "Optimizations:"
   ]
  },
  {
   "cell_type": "code",
   "execution_count": 42,
   "metadata": {},
   "outputs": [
    {
     "data": {
      "text/plain": [
       "     fun: -3.7389768542153674\n",
       "     jac: array([ 1.85590276, -0.02727127, -0.02697918,  1.00751171, -0.02681509,\n",
       "       -0.02694112])\n",
       " message: 'Optimization terminated successfully.'\n",
       "    nfev: 64\n",
       "     nit: 8\n",
       "    njev: 8\n",
       "  status: 0\n",
       " success: True\n",
       "       x: array([0.        , 0.07606803, 0.01259869, 0.        , 0.13510914,\n",
       "       0.77622415])"
      ]
     },
     "execution_count": 42,
     "metadata": {},
     "output_type": "execute_result"
    }
   ],
   "source": [
    "opts"
   ]
  },
  {
   "cell_type": "code",
   "execution_count": 43,
   "metadata": {},
   "outputs": [
    {
     "data": {
      "text/plain": [
       "array([0.        , 0.07606803, 0.01259869, 0.        , 0.13510914,\n",
       "       0.77622415])"
      ]
     },
     "execution_count": 43,
     "metadata": {},
     "output_type": "execute_result"
    }
   ],
   "source": [
    "optimal_weights = opts[\"x\"]\n",
    "optimal_weights"
   ]
  },
  {
   "cell_type": "markdown",
   "metadata": {},
   "source": [
    "The \"Absolute Optimal Weight\" (%) provide the following alloctions in each stock:"
   ]
  },
  {
   "cell_type": "code",
   "execution_count": 45,
   "metadata": {},
   "outputs": [
    {
     "data": {
      "text/plain": [
       "AAL    0.0000\n",
       "BAC    0.0761\n",
       "CSCO   0.0126\n",
       "DAL    0.0000\n",
       "KO     0.1351\n",
       "MSFT   0.7762\n",
       "dtype: float64"
      ]
     },
     "execution_count": 45,
     "metadata": {},
     "output_type": "execute_result"
    }
   ],
   "source": [
    "optimal_weights = pd.Series(index = Robin_Stocks.columns, data = optimal_weights)\n",
    "optimal_weights"
   ]
  },
  {
   "cell_type": "markdown",
   "metadata": {},
   "source": [
    "Absolute Optimization Analysis: Notice now after using an optimization algorithm to achive the \"absolute best portfolio\" out of the 200,000 combinations the result include. 0% AAL and 0% DAL, compared to the previous optimization which had 0% AAL and 0% BAC. The \"absolute Optimization\" is more logical due to the fact that the airline industry has been hit the hardest due to COVID-19."
   ]
  },
  {
   "cell_type": "markdown",
   "metadata": {},
   "source": [
    "MSRP = Max Sharpe Ratio Portfolio:"
   ]
  },
  {
   "cell_type": "code",
   "execution_count": 46,
   "metadata": {},
   "outputs": [],
   "source": [
    "ret['MSRP'] = ret.dot(optimal_weights)"
   ]
  },
  {
   "cell_type": "markdown",
   "metadata": {},
   "source": [
    "Dailty Returns including MSRP:"
   ]
  },
  {
   "cell_type": "code",
   "execution_count": 47,
   "metadata": {},
   "outputs": [
    {
     "data": {
      "text/html": [
       "<div>\n",
       "<style scoped>\n",
       "    .dataframe tbody tr th:only-of-type {\n",
       "        vertical-align: middle;\n",
       "    }\n",
       "\n",
       "    .dataframe tbody tr th {\n",
       "        vertical-align: top;\n",
       "    }\n",
       "\n",
       "    .dataframe thead th {\n",
       "        text-align: right;\n",
       "    }\n",
       "</style>\n",
       "<table border=\"1\" class=\"dataframe\">\n",
       "  <thead>\n",
       "    <tr style=\"text-align: right;\">\n",
       "      <th></th>\n",
       "      <th>AAL</th>\n",
       "      <th>BAC</th>\n",
       "      <th>CSCO</th>\n",
       "      <th>DAL</th>\n",
       "      <th>KO</th>\n",
       "      <th>MSFT</th>\n",
       "      <th>MSRP</th>\n",
       "    </tr>\n",
       "    <tr>\n",
       "      <th>Date</th>\n",
       "      <th></th>\n",
       "      <th></th>\n",
       "      <th></th>\n",
       "      <th></th>\n",
       "      <th></th>\n",
       "      <th></th>\n",
       "      <th></th>\n",
       "    </tr>\n",
       "  </thead>\n",
       "  <tbody>\n",
       "    <tr>\n",
       "      <th>2020-05-21</th>\n",
       "      <td>0.0020</td>\n",
       "      <td>-0.0004</td>\n",
       "      <td>-0.0176</td>\n",
       "      <td>0.0194</td>\n",
       "      <td>-0.0157</td>\n",
       "      <td>-0.0120</td>\n",
       "      <td>-0.0117</td>\n",
       "    </tr>\n",
       "    <tr>\n",
       "      <th>2020-05-22</th>\n",
       "      <td>-0.0192</td>\n",
       "      <td>-0.0105</td>\n",
       "      <td>0.0058</td>\n",
       "      <td>-0.0203</td>\n",
       "      <td>-0.0031</td>\n",
       "      <td>0.0004</td>\n",
       "      <td>-0.0008</td>\n",
       "    </tr>\n",
       "    <tr>\n",
       "      <th>2020-05-26</th>\n",
       "      <td>0.1485</td>\n",
       "      <td>0.0715</td>\n",
       "      <td>-0.0013</td>\n",
       "      <td>0.1305</td>\n",
       "      <td>0.0235</td>\n",
       "      <td>-0.0106</td>\n",
       "      <td>0.0004</td>\n",
       "    </tr>\n",
       "    <tr>\n",
       "      <th>2020-05-27</th>\n",
       "      <td>0.0754</td>\n",
       "      <td>0.0700</td>\n",
       "      <td>0.0250</td>\n",
       "      <td>0.0261</td>\n",
       "      <td>0.0139</td>\n",
       "      <td>0.0013</td>\n",
       "      <td>0.0085</td>\n",
       "    </tr>\n",
       "    <tr>\n",
       "      <th>2020-05-28</th>\n",
       "      <td>-0.0835</td>\n",
       "      <td>-0.0431</td>\n",
       "      <td>-0.0078</td>\n",
       "      <td>-0.0251</td>\n",
       "      <td>0.0077</td>\n",
       "      <td>-0.0023</td>\n",
       "      <td>-0.0041</td>\n",
       "    </tr>\n",
       "  </tbody>\n",
       "</table>\n",
       "</div>"
      ],
      "text/plain": [
       "               AAL     BAC    CSCO     DAL      KO    MSFT    MSRP\n",
       "Date                                                              \n",
       "2020-05-21  0.0020 -0.0004 -0.0176  0.0194 -0.0157 -0.0120 -0.0117\n",
       "2020-05-22 -0.0192 -0.0105  0.0058 -0.0203 -0.0031  0.0004 -0.0008\n",
       "2020-05-26  0.1485  0.0715 -0.0013  0.1305  0.0235 -0.0106  0.0004\n",
       "2020-05-27  0.0754  0.0700  0.0250  0.0261  0.0139  0.0013  0.0085\n",
       "2020-05-28 -0.0835 -0.0431 -0.0078 -0.0251  0.0077 -0.0023 -0.0041"
      ]
     },
     "execution_count": 47,
     "metadata": {},
     "output_type": "execute_result"
    }
   ],
   "source": [
    "ret.tail()"
   ]
  },
  {
   "cell_type": "markdown",
   "metadata": {},
   "source": [
    "Risk and Return including the Max Sharpe Ratio Portfolio:"
   ]
  },
  {
   "cell_type": "code",
   "execution_count": 48,
   "metadata": {},
   "outputs": [
    {
     "data": {
      "text/html": [
       "<div>\n",
       "<style scoped>\n",
       "    .dataframe tbody tr th:only-of-type {\n",
       "        vertical-align: middle;\n",
       "    }\n",
       "\n",
       "    .dataframe tbody tr th {\n",
       "        vertical-align: top;\n",
       "    }\n",
       "\n",
       "    .dataframe thead th {\n",
       "        text-align: right;\n",
       "    }\n",
       "</style>\n",
       "<table border=\"1\" class=\"dataframe\">\n",
       "  <thead>\n",
       "    <tr style=\"text-align: right;\">\n",
       "      <th></th>\n",
       "      <th>Return</th>\n",
       "      <th>Risk</th>\n",
       "    </tr>\n",
       "  </thead>\n",
       "  <tbody>\n",
       "    <tr>\n",
       "      <th>AAL</th>\n",
       "      <td>1.2770</td>\n",
       "      <td>1.4038</td>\n",
       "    </tr>\n",
       "    <tr>\n",
       "      <th>BAC</th>\n",
       "      <td>2.0325</td>\n",
       "      <td>0.7701</td>\n",
       "    </tr>\n",
       "    <tr>\n",
       "      <th>CSCO</th>\n",
       "      <td>1.6903</td>\n",
       "      <td>0.5048</td>\n",
       "    </tr>\n",
       "    <tr>\n",
       "      <th>DAL</th>\n",
       "      <td>1.3574</td>\n",
       "      <td>1.0956</td>\n",
       "    </tr>\n",
       "    <tr>\n",
       "      <th>KO</th>\n",
       "      <td>1.3411</td>\n",
       "      <td>0.4532</td>\n",
       "    </tr>\n",
       "    <tr>\n",
       "      <th>MSFT</th>\n",
       "      <td>1.7002</td>\n",
       "      <td>0.4602</td>\n",
       "    </tr>\n",
       "    <tr>\n",
       "      <th>MSRP</th>\n",
       "      <td>1.6769</td>\n",
       "      <td>0.4453</td>\n",
       "    </tr>\n",
       "  </tbody>\n",
       "</table>\n",
       "</div>"
      ],
      "text/plain": [
       "      Return   Risk\n",
       "AAL   1.2770 1.4038\n",
       "BAC   2.0325 0.7701\n",
       "CSCO  1.6903 0.5048\n",
       "DAL   1.3574 1.0956\n",
       "KO    1.3411 0.4532\n",
       "MSFT  1.7002 0.4602\n",
       "MSRP  1.6769 0.4453"
      ]
     },
     "execution_count": 48,
     "metadata": {},
     "output_type": "execute_result"
    }
   ],
   "source": [
    "summary = ann_risk_return(ret)\n",
    "summary"
   ]
  },
  {
   "cell_type": "markdown",
   "metadata": {},
   "source": [
    "Notice that the MSRP has a return of 1.68 with a risk of 0.44. which is far exceeding the the potential risk."
   ]
  },
  {
   "cell_type": "markdown",
   "metadata": {},
   "source": [
    "## Including the Market Portfolio\n",
    "\n",
    "A market portfolio is a theoretical bundle of investments that includes every type of asset available in the investment universe, with each asset weighted in proportion to its total presence in the market. The expected return of a market portfolio is identical to the expected return of the market as a whole.\n",
    "\n",
    "A market portfolio, by nature of being completely diversified, is subject only to systematic risk, or risk that affects the market as a whole, and not to unsystematic risk, which is the risk inherent to a particular asset class. In this case study we will be using the S&P 500 Index as the market portfolio."
   ]
  },
  {
   "cell_type": "code",
   "execution_count": 49,
   "metadata": {},
   "outputs": [],
   "source": [
    "Robin_Stocks = pd.read_csv(\"Robin_Stocks.csv\", header = [0,1], index_col = [0], parse_dates = [0])[\"Adj Close\"]\n",
    "SP500_Index =  pd.read_csv(\"SP500.csv\", index_col = \"Date\", parse_dates = [\"Date\"])[\"Adj Close\"].to_frame()"
   ]
  },
  {
   "cell_type": "code",
   "execution_count": 50,
   "metadata": {},
   "outputs": [],
   "source": [
    "Robin_Stocks = Robin_Stocks.loc[\"2020-3-23\":\"2020-5-29\"]\n",
    "SP500_Index = SP500_Index.loc[\"2020-3-23\":\"2020-5-29\"]"
   ]
  },
  {
   "cell_type": "markdown",
   "metadata": {},
   "source": [
    "Closing Prices of the S&P 500 index:"
   ]
  },
  {
   "cell_type": "code",
   "execution_count": 51,
   "metadata": {},
   "outputs": [
    {
     "data": {
      "text/html": [
       "<div>\n",
       "<style scoped>\n",
       "    .dataframe tbody tr th:only-of-type {\n",
       "        vertical-align: middle;\n",
       "    }\n",
       "\n",
       "    .dataframe tbody tr th {\n",
       "        vertical-align: top;\n",
       "    }\n",
       "\n",
       "    .dataframe thead th {\n",
       "        text-align: right;\n",
       "    }\n",
       "</style>\n",
       "<table border=\"1\" class=\"dataframe\">\n",
       "  <thead>\n",
       "    <tr style=\"text-align: right;\">\n",
       "      <th></th>\n",
       "      <th>Adj Close</th>\n",
       "    </tr>\n",
       "    <tr>\n",
       "      <th>Date</th>\n",
       "      <th></th>\n",
       "    </tr>\n",
       "  </thead>\n",
       "  <tbody>\n",
       "    <tr>\n",
       "      <th>2020-05-21</th>\n",
       "      <td>2948.5100</td>\n",
       "    </tr>\n",
       "    <tr>\n",
       "      <th>2020-05-22</th>\n",
       "      <td>2955.4500</td>\n",
       "    </tr>\n",
       "    <tr>\n",
       "      <th>2020-05-26</th>\n",
       "      <td>2991.7700</td>\n",
       "    </tr>\n",
       "    <tr>\n",
       "      <th>2020-05-27</th>\n",
       "      <td>3036.1299</td>\n",
       "    </tr>\n",
       "    <tr>\n",
       "      <th>2020-05-28</th>\n",
       "      <td>3029.7300</td>\n",
       "    </tr>\n",
       "  </tbody>\n",
       "</table>\n",
       "</div>"
      ],
      "text/plain": [
       "            Adj Close\n",
       "Date                 \n",
       "2020-05-21  2948.5100\n",
       "2020-05-22  2955.4500\n",
       "2020-05-26  2991.7700\n",
       "2020-05-27  3036.1299\n",
       "2020-05-28  3029.7300"
      ]
     },
     "execution_count": 51,
     "metadata": {},
     "output_type": "execute_result"
    }
   ],
   "source": [
    "SP500_Index.tail().dropna()"
   ]
  },
  {
   "cell_type": "code",
   "execution_count": 52,
   "metadata": {},
   "outputs": [],
   "source": [
    "Robin_Stocks[\"MP\"] = SP500_Index[\"Adj Close\"]"
   ]
  },
  {
   "cell_type": "markdown",
   "metadata": {},
   "source": [
    "Closing Prices of the stocks including the Market Portfolio:"
   ]
  },
  {
   "cell_type": "code",
   "execution_count": 53,
   "metadata": {},
   "outputs": [
    {
     "data": {
      "text/html": [
       "<div>\n",
       "<style scoped>\n",
       "    .dataframe tbody tr th:only-of-type {\n",
       "        vertical-align: middle;\n",
       "    }\n",
       "\n",
       "    .dataframe tbody tr th {\n",
       "        vertical-align: top;\n",
       "    }\n",
       "\n",
       "    .dataframe thead th {\n",
       "        text-align: right;\n",
       "    }\n",
       "</style>\n",
       "<table border=\"1\" class=\"dataframe\">\n",
       "  <thead>\n",
       "    <tr style=\"text-align: right;\">\n",
       "      <th></th>\n",
       "      <th>AAL</th>\n",
       "      <th>BAC</th>\n",
       "      <th>CSCO</th>\n",
       "      <th>DAL</th>\n",
       "      <th>KO</th>\n",
       "      <th>MSFT</th>\n",
       "      <th>MP</th>\n",
       "    </tr>\n",
       "    <tr>\n",
       "      <th>Date</th>\n",
       "      <th></th>\n",
       "      <th></th>\n",
       "      <th></th>\n",
       "      <th></th>\n",
       "      <th></th>\n",
       "      <th></th>\n",
       "      <th></th>\n",
       "    </tr>\n",
       "  </thead>\n",
       "  <tbody>\n",
       "    <tr>\n",
       "      <th>2020-05-21</th>\n",
       "      <td>9.8900</td>\n",
       "      <td>22.9000</td>\n",
       "      <td>44.6400</td>\n",
       "      <td>23.1600</td>\n",
       "      <td>45.1700</td>\n",
       "      <td>183.4300</td>\n",
       "      <td>2948.5100</td>\n",
       "    </tr>\n",
       "    <tr>\n",
       "      <th>2020-05-22</th>\n",
       "      <td>9.7000</td>\n",
       "      <td>22.6600</td>\n",
       "      <td>44.9000</td>\n",
       "      <td>22.6900</td>\n",
       "      <td>45.0300</td>\n",
       "      <td>183.5100</td>\n",
       "      <td>2955.4500</td>\n",
       "    </tr>\n",
       "    <tr>\n",
       "      <th>2020-05-26</th>\n",
       "      <td>11.1400</td>\n",
       "      <td>24.2800</td>\n",
       "      <td>44.8400</td>\n",
       "      <td>25.6500</td>\n",
       "      <td>46.0900</td>\n",
       "      <td>181.5700</td>\n",
       "      <td>2991.7700</td>\n",
       "    </tr>\n",
       "    <tr>\n",
       "      <th>2020-05-27</th>\n",
       "      <td>11.9800</td>\n",
       "      <td>25.9800</td>\n",
       "      <td>45.9600</td>\n",
       "      <td>26.3200</td>\n",
       "      <td>46.7300</td>\n",
       "      <td>181.8100</td>\n",
       "      <td>3036.1299</td>\n",
       "    </tr>\n",
       "    <tr>\n",
       "      <th>2020-05-28</th>\n",
       "      <td>10.9800</td>\n",
       "      <td>24.8600</td>\n",
       "      <td>45.6000</td>\n",
       "      <td>25.6600</td>\n",
       "      <td>47.0900</td>\n",
       "      <td>181.4000</td>\n",
       "      <td>3029.7300</td>\n",
       "    </tr>\n",
       "  </tbody>\n",
       "</table>\n",
       "</div>"
      ],
      "text/plain": [
       "               AAL     BAC    CSCO     DAL      KO     MSFT        MP\n",
       "Date                                                                 \n",
       "2020-05-21  9.8900 22.9000 44.6400 23.1600 45.1700 183.4300 2948.5100\n",
       "2020-05-22  9.7000 22.6600 44.9000 22.6900 45.0300 183.5100 2955.4500\n",
       "2020-05-26 11.1400 24.2800 44.8400 25.6500 46.0900 181.5700 2991.7700\n",
       "2020-05-27 11.9800 25.9800 45.9600 26.3200 46.7300 181.8100 3036.1299\n",
       "2020-05-28 10.9800 24.8600 45.6000 25.6600 47.0900 181.4000 3029.7300"
      ]
     },
     "execution_count": 53,
     "metadata": {},
     "output_type": "execute_result"
    }
   ],
   "source": [
    "Robin_Stocks.tail().dropna()"
   ]
  },
  {
   "cell_type": "markdown",
   "metadata": {},
   "source": [
    "Daily Returns Including the Market Portfolio:"
   ]
  },
  {
   "cell_type": "code",
   "execution_count": 55,
   "metadata": {},
   "outputs": [],
   "source": [
    "ret = Robin_Stocks.pct_change().dropna() \n",
    "# ret, when inputting \"ret\" it'll bring up a list of the daily returns"
   ]
  },
  {
   "cell_type": "code",
   "execution_count": 56,
   "metadata": {},
   "outputs": [],
   "source": [
    "def ann_risk_return(returns_df):\n",
    "    summary = returns_df.agg([\"mean\", \"std\"]).T\n",
    "    summary.columns = [\"Return\", \"Risk\"]\n",
    "    summary.Return = summary.Return*252\n",
    "    summary.Risk = summary.Risk * np.sqrt(252)\n",
    "    return summary"
   ]
  },
  {
   "cell_type": "markdown",
   "metadata": {},
   "source": [
    "Risk and Return of the stocks including the Market Portfolio due to COVID-19:"
   ]
  },
  {
   "cell_type": "code",
   "execution_count": 57,
   "metadata": {},
   "outputs": [
    {
     "data": {
      "text/html": [
       "<div>\n",
       "<style scoped>\n",
       "    .dataframe tbody tr th:only-of-type {\n",
       "        vertical-align: middle;\n",
       "    }\n",
       "\n",
       "    .dataframe tbody tr th {\n",
       "        vertical-align: top;\n",
       "    }\n",
       "\n",
       "    .dataframe thead th {\n",
       "        text-align: right;\n",
       "    }\n",
       "</style>\n",
       "<table border=\"1\" class=\"dataframe\">\n",
       "  <thead>\n",
       "    <tr style=\"text-align: right;\">\n",
       "      <th></th>\n",
       "      <th>Return</th>\n",
       "      <th>Risk</th>\n",
       "    </tr>\n",
       "  </thead>\n",
       "  <tbody>\n",
       "    <tr>\n",
       "      <th>AAL</th>\n",
       "      <td>1.2770</td>\n",
       "      <td>1.4038</td>\n",
       "    </tr>\n",
       "    <tr>\n",
       "      <th>BAC</th>\n",
       "      <td>2.0325</td>\n",
       "      <td>0.7701</td>\n",
       "    </tr>\n",
       "    <tr>\n",
       "      <th>CSCO</th>\n",
       "      <td>1.6903</td>\n",
       "      <td>0.5048</td>\n",
       "    </tr>\n",
       "    <tr>\n",
       "      <th>DAL</th>\n",
       "      <td>1.3574</td>\n",
       "      <td>1.0956</td>\n",
       "    </tr>\n",
       "    <tr>\n",
       "      <th>KO</th>\n",
       "      <td>1.3411</td>\n",
       "      <td>0.4532</td>\n",
       "    </tr>\n",
       "    <tr>\n",
       "      <th>MSFT</th>\n",
       "      <td>1.7002</td>\n",
       "      <td>0.4602</td>\n",
       "    </tr>\n",
       "    <tr>\n",
       "      <th>MP</th>\n",
       "      <td>1.7507</td>\n",
       "      <td>0.4199</td>\n",
       "    </tr>\n",
       "  </tbody>\n",
       "</table>\n",
       "</div>"
      ],
      "text/plain": [
       "      Return   Risk\n",
       "AAL   1.2770 1.4038\n",
       "BAC   2.0325 0.7701\n",
       "CSCO  1.6903 0.5048\n",
       "DAL   1.3574 1.0956\n",
       "KO    1.3411 0.4532\n",
       "MSFT  1.7002 0.4602\n",
       "MP    1.7507 0.4199"
      ]
     },
     "execution_count": 57,
     "metadata": {},
     "output_type": "execute_result"
    }
   ],
   "source": [
    "summary = ann_risk_return(ret)\n",
    "summary"
   ]
  },
  {
   "cell_type": "markdown",
   "metadata": {},
   "source": [
    "Risk/Return Including the Market Portfolio:"
   ]
  },
  {
   "cell_type": "code",
   "execution_count": 58,
   "metadata": {},
   "outputs": [
    {
     "data": {
      "image/png": "[encoded data removed]",
      "text/plain": [
       "<Figure size 936x648 with 1 Axes>"
      ]
     },
     "metadata": {},
     "output_type": "display_data"
    }
   ],
   "source": [
    "summary.plot(kind = \"scatter\", x = \"Risk\", y = \"Return\", figsize = (13,9), s = 50, fontsize = 15)\n",
    "for i in summary.index:\n",
    "    plt.annotate(i, xy=(summary.loc[i, \"Risk\"]+0.002, summary.loc[i, \"Return\"]+0.002), size = 15)\n",
    "plt.xlabel(\"Volatility (Risk)\", fontsize = 15)\n",
    "plt.ylabel(\"Annual Return\", fontsize = 15)\n",
    "plt.title(\"Risk/Return Due to COVID-19\", fontsize = 20)\n",
    "plt.show()"
   ]
  },
  {
   "cell_type": "markdown",
   "metadata": {},
   "source": [
    "Calculating the Sharpe Ratio including the Market Portfolio (MP):"
   ]
  },
  {
   "cell_type": "code",
   "execution_count": 59,
   "metadata": {},
   "outputs": [],
   "source": [
    "risk_free_return = 0.012\n",
    "risk_free_risk = 0"
   ]
  },
  {
   "cell_type": "code",
   "execution_count": 60,
   "metadata": {},
   "outputs": [
    {
     "data": {
      "text/plain": [
       "[0.012, 0]"
      ]
     },
     "execution_count": 60,
     "metadata": {},
     "output_type": "execute_result"
    }
   ],
   "source": [
    "rf = [risk_free_return, risk_free_risk]\n",
    "rf"
   ]
  },
  {
   "cell_type": "markdown",
   "metadata": {},
   "source": [
    "Sharpe Ratio of stocks and the Market Portfolio:"
   ]
  },
  {
   "cell_type": "code",
   "execution_count": 61,
   "metadata": {},
   "outputs": [
    {
     "data": {
      "text/html": [
       "<div>\n",
       "<style scoped>\n",
       "    .dataframe tbody tr th:only-of-type {\n",
       "        vertical-align: middle;\n",
       "    }\n",
       "\n",
       "    .dataframe tbody tr th {\n",
       "        vertical-align: top;\n",
       "    }\n",
       "\n",
       "    .dataframe thead th {\n",
       "        text-align: right;\n",
       "    }\n",
       "</style>\n",
       "<table border=\"1\" class=\"dataframe\">\n",
       "  <thead>\n",
       "    <tr style=\"text-align: right;\">\n",
       "      <th></th>\n",
       "      <th>Return</th>\n",
       "      <th>Risk</th>\n",
       "      <th>Sharpe</th>\n",
       "    </tr>\n",
       "  </thead>\n",
       "  <tbody>\n",
       "    <tr>\n",
       "      <th>AAL</th>\n",
       "      <td>1.2770</td>\n",
       "      <td>1.4038</td>\n",
       "      <td>0.9011</td>\n",
       "    </tr>\n",
       "    <tr>\n",
       "      <th>BAC</th>\n",
       "      <td>2.0325</td>\n",
       "      <td>0.7701</td>\n",
       "      <td>2.6236</td>\n",
       "    </tr>\n",
       "    <tr>\n",
       "      <th>CSCO</th>\n",
       "      <td>1.6903</td>\n",
       "      <td>0.5048</td>\n",
       "      <td>3.3245</td>\n",
       "    </tr>\n",
       "    <tr>\n",
       "      <th>DAL</th>\n",
       "      <td>1.3574</td>\n",
       "      <td>1.0956</td>\n",
       "      <td>1.2280</td>\n",
       "    </tr>\n",
       "    <tr>\n",
       "      <th>KO</th>\n",
       "      <td>1.3411</td>\n",
       "      <td>0.4532</td>\n",
       "      <td>2.9327</td>\n",
       "    </tr>\n",
       "    <tr>\n",
       "      <th>MSFT</th>\n",
       "      <td>1.7002</td>\n",
       "      <td>0.4602</td>\n",
       "      <td>3.6688</td>\n",
       "    </tr>\n",
       "    <tr>\n",
       "      <th>MP</th>\n",
       "      <td>1.7507</td>\n",
       "      <td>0.4199</td>\n",
       "      <td>4.1409</td>\n",
       "    </tr>\n",
       "  </tbody>\n",
       "</table>\n",
       "</div>"
      ],
      "text/plain": [
       "      Return   Risk  Sharpe\n",
       "AAL   1.2770 1.4038  0.9011\n",
       "BAC   2.0325 0.7701  2.6236\n",
       "CSCO  1.6903 0.5048  3.3245\n",
       "DAL   1.3574 1.0956  1.2280\n",
       "KO    1.3411 0.4532  2.9327\n",
       "MSFT  1.7002 0.4602  3.6688\n",
       "MP    1.7507 0.4199  4.1409"
      ]
     },
     "execution_count": 61,
     "metadata": {},
     "output_type": "execute_result"
    }
   ],
   "source": [
    "summary[\"Sharpe\"] = (summary[\"Return\"].sub(rf[0]))/summary[\"Risk\"]\n",
    "summary"
   ]
  },
  {
   "cell_type": "markdown",
   "metadata": {},
   "source": [
    "Notice that the Market Porfolo has a positive sharpe ratio, this generally moves we're expecting positive returns."
   ]
  },
  {
   "cell_type": "markdown",
   "metadata": {},
   "source": [
    "## Systematic and Unsystematic Risk  Including the Market Portfolio\n",
    "\n",
    "Systematic risk refers to the risk inherent to the entire market or market segment. Systematic risk, also known as “undiversifiable risk,” “volatility” or “market risk,” affects the overall market, not just a particular stock or industry. This type of risk is both unpredictable and impossible to completely avoid. It cannot be mitigated through diversification, only through hedging or by using the correct asset allocation strategy.\n",
    "\n",
    "Unsystematic risk is unique to a specific company or industry. Also known as “nonsystematic risk,” \"specific risk,\" \"diversifiable risk\" or \"residual risk,\" in the context of an investment portfolio, unsystematic risk can be reduced through diversification."
   ]
  },
  {
   "cell_type": "code",
   "execution_count": 62,
   "metadata": {},
   "outputs": [
    {
     "data": {
      "text/html": [
       "<div>\n",
       "<style scoped>\n",
       "    .dataframe tbody tr th:only-of-type {\n",
       "        vertical-align: middle;\n",
       "    }\n",
       "\n",
       "    .dataframe tbody tr th {\n",
       "        vertical-align: top;\n",
       "    }\n",
       "\n",
       "    .dataframe thead th {\n",
       "        text-align: right;\n",
       "    }\n",
       "</style>\n",
       "<table border=\"1\" class=\"dataframe\">\n",
       "  <thead>\n",
       "    <tr style=\"text-align: right;\">\n",
       "      <th></th>\n",
       "      <th>Return</th>\n",
       "      <th>Risk</th>\n",
       "      <th>Sharpe</th>\n",
       "      <th>TotalRisk_var</th>\n",
       "    </tr>\n",
       "  </thead>\n",
       "  <tbody>\n",
       "    <tr>\n",
       "      <th>AAL</th>\n",
       "      <td>1.2770</td>\n",
       "      <td>1.4038</td>\n",
       "      <td>0.9011</td>\n",
       "      <td>1.9707</td>\n",
       "    </tr>\n",
       "    <tr>\n",
       "      <th>BAC</th>\n",
       "      <td>2.0325</td>\n",
       "      <td>0.7701</td>\n",
       "      <td>2.6236</td>\n",
       "      <td>0.5931</td>\n",
       "    </tr>\n",
       "    <tr>\n",
       "      <th>CSCO</th>\n",
       "      <td>1.6903</td>\n",
       "      <td>0.5048</td>\n",
       "      <td>3.3245</td>\n",
       "      <td>0.2549</td>\n",
       "    </tr>\n",
       "    <tr>\n",
       "      <th>DAL</th>\n",
       "      <td>1.3574</td>\n",
       "      <td>1.0956</td>\n",
       "      <td>1.2280</td>\n",
       "      <td>1.2003</td>\n",
       "    </tr>\n",
       "    <tr>\n",
       "      <th>KO</th>\n",
       "      <td>1.3411</td>\n",
       "      <td>0.4532</td>\n",
       "      <td>2.9327</td>\n",
       "      <td>0.2054</td>\n",
       "    </tr>\n",
       "    <tr>\n",
       "      <th>MSFT</th>\n",
       "      <td>1.7002</td>\n",
       "      <td>0.4602</td>\n",
       "      <td>3.6688</td>\n",
       "      <td>0.2117</td>\n",
       "    </tr>\n",
       "    <tr>\n",
       "      <th>MP</th>\n",
       "      <td>1.7507</td>\n",
       "      <td>0.4199</td>\n",
       "      <td>4.1409</td>\n",
       "      <td>0.1763</td>\n",
       "    </tr>\n",
       "  </tbody>\n",
       "</table>\n",
       "</div>"
      ],
      "text/plain": [
       "      Return   Risk  Sharpe  TotalRisk_var\n",
       "AAL   1.2770 1.4038  0.9011         1.9707\n",
       "BAC   2.0325 0.7701  2.6236         0.5931\n",
       "CSCO  1.6903 0.5048  3.3245         0.2549\n",
       "DAL   1.3574 1.0956  1.2280         1.2003\n",
       "KO    1.3411 0.4532  2.9327         0.2054\n",
       "MSFT  1.7002 0.4602  3.6688         0.2117\n",
       "MP    1.7507 0.4199  4.1409         0.1763"
      ]
     },
     "execution_count": 62,
     "metadata": {},
     "output_type": "execute_result"
    }
   ],
   "source": [
    "summary[\"TotalRisk_var\"] = np.power(summary.Risk, 2)\n",
    "summary"
   ]
  },
  {
   "cell_type": "markdown",
   "metadata": {},
   "source": [
    "In statistics, covariance is a metric used to measure how one random variable moves in relation to another random variable. In investment, covariance of returns measures how the rate of return on one asset varies in relation to the rate of return on other assets or a portfolio."
   ]
  },
  {
   "cell_type": "code",
   "execution_count": 63,
   "metadata": {},
   "outputs": [],
   "source": [
    "COV = ret.cov()*252\n",
    "# COV, if we add \"COV\" it'll create a long chart"
   ]
  },
  {
   "cell_type": "code",
   "execution_count": 64,
   "metadata": {},
   "outputs": [],
   "source": [
    "summary[\"SystRisk_var\"] = COV.iloc[:, -1]"
   ]
  },
  {
   "cell_type": "code",
   "execution_count": 65,
   "metadata": {},
   "outputs": [
    {
     "data": {
      "text/html": [
       "<div>\n",
       "<style scoped>\n",
       "    .dataframe tbody tr th:only-of-type {\n",
       "        vertical-align: middle;\n",
       "    }\n",
       "\n",
       "    .dataframe tbody tr th {\n",
       "        vertical-align: top;\n",
       "    }\n",
       "\n",
       "    .dataframe thead th {\n",
       "        text-align: right;\n",
       "    }\n",
       "</style>\n",
       "<table border=\"1\" class=\"dataframe\">\n",
       "  <thead>\n",
       "    <tr style=\"text-align: right;\">\n",
       "      <th></th>\n",
       "      <th>Return</th>\n",
       "      <th>Risk</th>\n",
       "      <th>Sharpe</th>\n",
       "      <th>TotalRisk_var</th>\n",
       "      <th>SystRisk_var</th>\n",
       "      <th>UnsystRisk_var</th>\n",
       "    </tr>\n",
       "  </thead>\n",
       "  <tbody>\n",
       "    <tr>\n",
       "      <th>AAL</th>\n",
       "      <td>1.2770</td>\n",
       "      <td>1.4038</td>\n",
       "      <td>0.9011</td>\n",
       "      <td>1.9707</td>\n",
       "      <td>0.3428</td>\n",
       "      <td>1.6279</td>\n",
       "    </tr>\n",
       "    <tr>\n",
       "      <th>BAC</th>\n",
       "      <td>2.0325</td>\n",
       "      <td>0.7701</td>\n",
       "      <td>2.6236</td>\n",
       "      <td>0.5931</td>\n",
       "      <td>0.2748</td>\n",
       "      <td>0.3182</td>\n",
       "    </tr>\n",
       "    <tr>\n",
       "      <th>CSCO</th>\n",
       "      <td>1.6903</td>\n",
       "      <td>0.5048</td>\n",
       "      <td>3.3245</td>\n",
       "      <td>0.2549</td>\n",
       "      <td>0.1913</td>\n",
       "      <td>0.0635</td>\n",
       "    </tr>\n",
       "    <tr>\n",
       "      <th>DAL</th>\n",
       "      <td>1.3574</td>\n",
       "      <td>1.0956</td>\n",
       "      <td>1.2280</td>\n",
       "      <td>1.2003</td>\n",
       "      <td>0.2772</td>\n",
       "      <td>0.9230</td>\n",
       "    </tr>\n",
       "    <tr>\n",
       "      <th>KO</th>\n",
       "      <td>1.3411</td>\n",
       "      <td>0.4532</td>\n",
       "      <td>2.9327</td>\n",
       "      <td>0.2054</td>\n",
       "      <td>0.1620</td>\n",
       "      <td>0.0433</td>\n",
       "    </tr>\n",
       "    <tr>\n",
       "      <th>MSFT</th>\n",
       "      <td>1.7002</td>\n",
       "      <td>0.4602</td>\n",
       "      <td>3.6688</td>\n",
       "      <td>0.2117</td>\n",
       "      <td>0.1700</td>\n",
       "      <td>0.0417</td>\n",
       "    </tr>\n",
       "    <tr>\n",
       "      <th>MP</th>\n",
       "      <td>1.7507</td>\n",
       "      <td>0.4199</td>\n",
       "      <td>4.1409</td>\n",
       "      <td>0.1763</td>\n",
       "      <td>0.1763</td>\n",
       "      <td>0.0000</td>\n",
       "    </tr>\n",
       "  </tbody>\n",
       "</table>\n",
       "</div>"
      ],
      "text/plain": [
       "      Return   Risk  Sharpe  TotalRisk_var  SystRisk_var  UnsystRisk_var\n",
       "AAL   1.2770 1.4038  0.9011         1.9707        0.3428          1.6279\n",
       "BAC   2.0325 0.7701  2.6236         0.5931        0.2748          0.3182\n",
       "CSCO  1.6903 0.5048  3.3245         0.2549        0.1913          0.0635\n",
       "DAL   1.3574 1.0956  1.2280         1.2003        0.2772          0.9230\n",
       "KO    1.3411 0.4532  2.9327         0.2054        0.1620          0.0433\n",
       "MSFT  1.7002 0.4602  3.6688         0.2117        0.1700          0.0417\n",
       "MP    1.7507 0.4199  4.1409         0.1763        0.1763          0.0000"
      ]
     },
     "execution_count": 65,
     "metadata": {},
     "output_type": "execute_result"
    }
   ],
   "source": [
    "summary[\"UnsystRisk_var\"] = summary[\"TotalRisk_var\"].sub(summary[\"SystRisk_var\"])\n",
    "summary"
   ]
  },
  {
   "cell_type": "markdown",
   "metadata": {},
   "source": [
    "### Systematic and Unsystematic risk of stocks including the Market Portfolio (MP) (S&P500 Index):"
   ]
  },
  {
   "cell_type": "code",
   "execution_count": 66,
   "metadata": {},
   "outputs": [
    {
     "data": {
      "image/png": "[encoded data removed]",
      "text/plain": [
       "<Figure size 1080x576 with 1 Axes>"
      ]
     },
     "metadata": {},
     "output_type": "display_data"
    }
   ],
   "source": [
    "summary.iloc[:, 4:].plot(kind = \"bar\", stacked = True, figsize= (15, 8), fontsize = 15)\n",
    "plt.legend(fontsize = 15)\n",
    "plt.show()"
   ]
  },
  {
   "cell_type": "markdown",
   "metadata": {},
   "source": [
    "In general we want a balance between systematic and unsystematic risk. Systematic risk has to do with the stock getting affected by the overall market, and the stocks in this portfolio that gets affected by the market condidtions the most due to COVID-19 are CSCO, KO, and MSFT. the stocks that have the highest Unsystematic risk also company specific risk are DAL and AAL. BAC seems to have a decent balance between systematic and unsystematic risk. "
   ]
  },
  {
   "cell_type": "markdown",
   "metadata": {},
   "source": [
    "Determining the beta of the stocks in the portfolio compared to the Market Portfolio (S&P 500 Index):\n",
    "\n",
    "Beta is a measure of the volatility (Risk), or systematic risk, of a security or portfolio, in comparison to the market as a whole. "
   ]
  },
  {
   "cell_type": "code",
   "execution_count": 67,
   "metadata": {},
   "outputs": [
    {
     "data": {
      "text/html": [
       "<div>\n",
       "<style scoped>\n",
       "    .dataframe tbody tr th:only-of-type {\n",
       "        vertical-align: middle;\n",
       "    }\n",
       "\n",
       "    .dataframe tbody tr th {\n",
       "        vertical-align: top;\n",
       "    }\n",
       "\n",
       "    .dataframe thead th {\n",
       "        text-align: right;\n",
       "    }\n",
       "</style>\n",
       "<table border=\"1\" class=\"dataframe\">\n",
       "  <thead>\n",
       "    <tr style=\"text-align: right;\">\n",
       "      <th></th>\n",
       "      <th>Return</th>\n",
       "      <th>Risk</th>\n",
       "      <th>Sharpe</th>\n",
       "      <th>TotalRisk_var</th>\n",
       "      <th>SystRisk_var</th>\n",
       "      <th>UnsystRisk_var</th>\n",
       "      <th>beta</th>\n",
       "    </tr>\n",
       "  </thead>\n",
       "  <tbody>\n",
       "    <tr>\n",
       "      <th>AAL</th>\n",
       "      <td>1.2770</td>\n",
       "      <td>1.4038</td>\n",
       "      <td>0.9011</td>\n",
       "      <td>1.9707</td>\n",
       "      <td>0.3428</td>\n",
       "      <td>1.6279</td>\n",
       "      <td>1.9444</td>\n",
       "    </tr>\n",
       "    <tr>\n",
       "      <th>BAC</th>\n",
       "      <td>2.0325</td>\n",
       "      <td>0.7701</td>\n",
       "      <td>2.6236</td>\n",
       "      <td>0.5931</td>\n",
       "      <td>0.2748</td>\n",
       "      <td>0.3182</td>\n",
       "      <td>1.5589</td>\n",
       "    </tr>\n",
       "    <tr>\n",
       "      <th>CSCO</th>\n",
       "      <td>1.6903</td>\n",
       "      <td>0.5048</td>\n",
       "      <td>3.3245</td>\n",
       "      <td>0.2549</td>\n",
       "      <td>0.1913</td>\n",
       "      <td>0.0635</td>\n",
       "      <td>1.0853</td>\n",
       "    </tr>\n",
       "    <tr>\n",
       "      <th>DAL</th>\n",
       "      <td>1.3574</td>\n",
       "      <td>1.0956</td>\n",
       "      <td>1.2280</td>\n",
       "      <td>1.2003</td>\n",
       "      <td>0.2772</td>\n",
       "      <td>0.9230</td>\n",
       "      <td>1.5726</td>\n",
       "    </tr>\n",
       "    <tr>\n",
       "      <th>KO</th>\n",
       "      <td>1.3411</td>\n",
       "      <td>0.4532</td>\n",
       "      <td>2.9327</td>\n",
       "      <td>0.2054</td>\n",
       "      <td>0.1620</td>\n",
       "      <td>0.0433</td>\n",
       "      <td>0.9191</td>\n",
       "    </tr>\n",
       "    <tr>\n",
       "      <th>MSFT</th>\n",
       "      <td>1.7002</td>\n",
       "      <td>0.4602</td>\n",
       "      <td>3.6688</td>\n",
       "      <td>0.2117</td>\n",
       "      <td>0.1700</td>\n",
       "      <td>0.0417</td>\n",
       "      <td>0.9645</td>\n",
       "    </tr>\n",
       "    <tr>\n",
       "      <th>MP</th>\n",
       "      <td>1.7507</td>\n",
       "      <td>0.4199</td>\n",
       "      <td>4.1409</td>\n",
       "      <td>0.1763</td>\n",
       "      <td>0.1763</td>\n",
       "      <td>0.0000</td>\n",
       "      <td>1.0000</td>\n",
       "    </tr>\n",
       "  </tbody>\n",
       "</table>\n",
       "</div>"
      ],
      "text/plain": [
       "      Return   Risk  Sharpe  TotalRisk_var  SystRisk_var  UnsystRisk_var  \\\n",
       "AAL   1.2770 1.4038  0.9011         1.9707        0.3428          1.6279   \n",
       "BAC   2.0325 0.7701  2.6236         0.5931        0.2748          0.3182   \n",
       "CSCO  1.6903 0.5048  3.3245         0.2549        0.1913          0.0635   \n",
       "DAL   1.3574 1.0956  1.2280         1.2003        0.2772          0.9230   \n",
       "KO    1.3411 0.4532  2.9327         0.2054        0.1620          0.0433   \n",
       "MSFT  1.7002 0.4602  3.6688         0.2117        0.1700          0.0417   \n",
       "MP    1.7507 0.4199  4.1409         0.1763        0.1763          0.0000   \n",
       "\n",
       "       beta  \n",
       "AAL  1.9444  \n",
       "BAC  1.5589  \n",
       "CSCO 1.0853  \n",
       "DAL  1.5726  \n",
       "KO   0.9191  \n",
       "MSFT 0.9645  \n",
       "MP   1.0000  "
      ]
     },
     "execution_count": 67,
     "metadata": {},
     "output_type": "execute_result"
    }
   ],
   "source": [
    "summary[\"beta\"] = summary.SystRisk_var / summary.loc[\"MP\", \"SystRisk_var\"]\n",
    "summary"
   ]
  },
  {
   "cell_type": "markdown",
   "metadata": {},
   "source": [
    "Stocks with the highest beta include DAL, BAC and AAL. since their betas are above 1, this means that they get largely affected by market condidtions in a postive and a negative way. If the S&P 500 were to drop around 5%, these stocks would be likely to drop towards 8 to 10% in a day and if the S&P500 would of rallyed 5% then those stocks would gained 8 to 10% in a day. In other words high beta stock tend to have more risk.  "
   ]
  },
  {
   "cell_type": "markdown",
   "metadata": {},
   "source": [
    "## Determining The Security Market Line\n",
    "\n",
    "The security market line is an investment evaluation tool derived from the CAPM—a model that describes risk-return relationship for securities—and is based on the assumption that investors need to be compensated for both the time value of money (TVM) and the corresponding level of risk associated with any investment, referred to as the risk premium."
   ]
  },
  {
   "cell_type": "code",
   "execution_count": 68,
   "metadata": {},
   "outputs": [
    {
     "data": {
      "image/png": "[encoded data removed]",
      "text/plain": [
       "<Figure size 1080x576 with 1 Axes>"
      ]
     },
     "metadata": {},
     "output_type": "display_data"
    }
   ],
   "source": [
    "plt.figure(figsize = (15, 8))\n",
    "plt.scatter(summary.beta, summary.Return)\n",
    "for i in summary.index:\n",
    "    plt.annotate(i, xy=(summary.loc[i, \"beta\"]+0.00, summary.loc[i, \"Return\"]-0.015), size = 15)\n",
    "plt.plot([rf[1], summary.loc[\"MP\", \"beta\"]], [rf[0], summary.loc[\"MP\", \"Return\"]])\n",
    "plt.scatter(rf[1], rf[0], s = 100, marker = \"o\", c = \"red\")\n",
    "plt.annotate(\"Risk Free Asset\", xy = (rf[1] + 0.002, rf[0] - 0.02), size = 20, color = \"Red\")\n",
    "plt.xlabel(\"Beta\", fontsize = 15)\n",
    "plt.ylabel(\"Annual Return\", fontsize = 15)\n",
    "plt.title(\"Beta / Return Due to COVID-19, Security Market Line\", fontsize = 20)\n",
    "plt.show()"
   ]
  },
  {
   "cell_type": "markdown",
   "metadata": {},
   "source": [
    "Security Market Line Analysis: since CSCO, KO, BACm DALm AAL all fall below the SML this is an indictor that they are  underperforming the market. while MSFT is borderline outperforming the Market."
   ]
  },
  {
   "cell_type": "markdown",
   "metadata": {},
   "source": [
    "### Including the Capital Asset Pricing Model and Alpha of the stocks with the Market Portfolio\n",
    "\n",
    "The Capital Asset Pricing Model (CAPM) describes the relationship between systematic risk and expected return for assets, particularly stocks. CAPM is widely used throughout finance for pricing risky securities and generating expected returns for assets given the risk of those assets and cost of capital.\n",
    "\n",
    "\"Alpha\" (the Greek letter α) is a term used in investing to describe a strategy's ability to beat the market, or it's \"edge.\" Alpha is thus also often referred to as “excess return” or “abnormal rate of return,” which refers to the idea that markets are efficient, and so there is no way to systematically earn returns that exceed the broad market as a whole. Alpha is often used in conjunction with beta (the Greek letter β) , which measures the broad market's overall volatility or risk, known as systematic market risk"
   ]
  },
  {
   "cell_type": "code",
   "execution_count": 69,
   "metadata": {},
   "outputs": [],
   "source": [
    "summary[\"capm_ret\"] = rf[0] + (summary.loc[\"MP\", \"Return\"] - rf[0]) * summary.beta"
   ]
  },
  {
   "cell_type": "code",
   "execution_count": 70,
   "metadata": {},
   "outputs": [
    {
     "data": {
      "text/html": [
       "<div>\n",
       "<style scoped>\n",
       "    .dataframe tbody tr th:only-of-type {\n",
       "        vertical-align: middle;\n",
       "    }\n",
       "\n",
       "    .dataframe tbody tr th {\n",
       "        vertical-align: top;\n",
       "    }\n",
       "\n",
       "    .dataframe thead th {\n",
       "        text-align: right;\n",
       "    }\n",
       "</style>\n",
       "<table border=\"1\" class=\"dataframe\">\n",
       "  <thead>\n",
       "    <tr style=\"text-align: right;\">\n",
       "      <th></th>\n",
       "      <th>Return</th>\n",
       "      <th>Risk</th>\n",
       "      <th>Sharpe</th>\n",
       "      <th>TotalRisk_var</th>\n",
       "      <th>SystRisk_var</th>\n",
       "      <th>UnsystRisk_var</th>\n",
       "      <th>beta</th>\n",
       "      <th>capm_ret</th>\n",
       "      <th>alpha</th>\n",
       "    </tr>\n",
       "  </thead>\n",
       "  <tbody>\n",
       "    <tr>\n",
       "      <th>AAL</th>\n",
       "      <td>1.2770</td>\n",
       "      <td>1.4038</td>\n",
       "      <td>0.9011</td>\n",
       "      <td>1.9707</td>\n",
       "      <td>0.3428</td>\n",
       "      <td>1.6279</td>\n",
       "      <td>1.9444</td>\n",
       "      <td>3.3927</td>\n",
       "      <td>-2.1157</td>\n",
       "    </tr>\n",
       "    <tr>\n",
       "      <th>BAC</th>\n",
       "      <td>2.0325</td>\n",
       "      <td>0.7701</td>\n",
       "      <td>2.6236</td>\n",
       "      <td>0.5931</td>\n",
       "      <td>0.2748</td>\n",
       "      <td>0.3182</td>\n",
       "      <td>1.5589</td>\n",
       "      <td>2.7224</td>\n",
       "      <td>-0.6899</td>\n",
       "    </tr>\n",
       "    <tr>\n",
       "      <th>CSCO</th>\n",
       "      <td>1.6903</td>\n",
       "      <td>0.5048</td>\n",
       "      <td>3.3245</td>\n",
       "      <td>0.2549</td>\n",
       "      <td>0.1913</td>\n",
       "      <td>0.0635</td>\n",
       "      <td>1.0853</td>\n",
       "      <td>1.8990</td>\n",
       "      <td>-0.2086</td>\n",
       "    </tr>\n",
       "    <tr>\n",
       "      <th>DAL</th>\n",
       "      <td>1.3574</td>\n",
       "      <td>1.0956</td>\n",
       "      <td>1.2280</td>\n",
       "      <td>1.2003</td>\n",
       "      <td>0.2772</td>\n",
       "      <td>0.9230</td>\n",
       "      <td>1.5726</td>\n",
       "      <td>2.7463</td>\n",
       "      <td>-1.3889</td>\n",
       "    </tr>\n",
       "    <tr>\n",
       "      <th>KO</th>\n",
       "      <td>1.3411</td>\n",
       "      <td>0.4532</td>\n",
       "      <td>2.9327</td>\n",
       "      <td>0.2054</td>\n",
       "      <td>0.1620</td>\n",
       "      <td>0.0433</td>\n",
       "      <td>0.9191</td>\n",
       "      <td>1.6100</td>\n",
       "      <td>-0.2690</td>\n",
       "    </tr>\n",
       "    <tr>\n",
       "      <th>MSFT</th>\n",
       "      <td>1.7002</td>\n",
       "      <td>0.4602</td>\n",
       "      <td>3.6688</td>\n",
       "      <td>0.2117</td>\n",
       "      <td>0.1700</td>\n",
       "      <td>0.0417</td>\n",
       "      <td>0.9645</td>\n",
       "      <td>1.6890</td>\n",
       "      <td>0.0113</td>\n",
       "    </tr>\n",
       "    <tr>\n",
       "      <th>MP</th>\n",
       "      <td>1.7507</td>\n",
       "      <td>0.4199</td>\n",
       "      <td>4.1409</td>\n",
       "      <td>0.1763</td>\n",
       "      <td>0.1763</td>\n",
       "      <td>0.0000</td>\n",
       "      <td>1.0000</td>\n",
       "      <td>1.7507</td>\n",
       "      <td>0.0000</td>\n",
       "    </tr>\n",
       "  </tbody>\n",
       "</table>\n",
       "</div>"
      ],
      "text/plain": [
       "      Return   Risk  Sharpe  TotalRisk_var  SystRisk_var  UnsystRisk_var  \\\n",
       "AAL   1.2770 1.4038  0.9011         1.9707        0.3428          1.6279   \n",
       "BAC   2.0325 0.7701  2.6236         0.5931        0.2748          0.3182   \n",
       "CSCO  1.6903 0.5048  3.3245         0.2549        0.1913          0.0635   \n",
       "DAL   1.3574 1.0956  1.2280         1.2003        0.2772          0.9230   \n",
       "KO    1.3411 0.4532  2.9327         0.2054        0.1620          0.0433   \n",
       "MSFT  1.7002 0.4602  3.6688         0.2117        0.1700          0.0417   \n",
       "MP    1.7507 0.4199  4.1409         0.1763        0.1763          0.0000   \n",
       "\n",
       "       beta  capm_ret   alpha  \n",
       "AAL  1.9444    3.3927 -2.1157  \n",
       "BAC  1.5589    2.7224 -0.6899  \n",
       "CSCO 1.0853    1.8990 -0.2086  \n",
       "DAL  1.5726    2.7463 -1.3889  \n",
       "KO   0.9191    1.6100 -0.2690  \n",
       "MSFT 0.9645    1.6890  0.0113  \n",
       "MP   1.0000    1.7507  0.0000  "
      ]
     },
     "execution_count": 70,
     "metadata": {},
     "output_type": "execute_result"
    }
   ],
   "source": [
    "summary[\"alpha\"] = summary.Return - summary.capm_ret\n",
    "summary"
   ]
  },
  {
   "cell_type": "markdown",
   "metadata": {},
   "source": [
    "CAPM Analysis: Since we know that the CAPM is used for determining expected returns on stocks, we can notice that each stock is expected to reach positve returns, with AAL, BAC and DAL being the the highest expected positive returns in this portfolio since they have the highest beta's. This could of course change do to market condidtions.  \n",
    "\n",
    "Alpha Analysis: Understanding that Alpha is used to determine whether or not a stock would beat the overall market. We can notice that AALm BACm CSCO, DAL, and KO are the only stock in the Portfolio that have a chance of not beating the over all market which makes since, because they falls below the Security Market Line."
   ]
  }
 ],
 "metadata": {
  "kernelspec": {
   "display_name": "Python 3",
   "language": "python",
   "name": "python3"
  },
  "language_info": {
   "codemirror_mode": {
    "name": "ipython",
    "version": 3
   },
   "file_extension": ".py",
   "mimetype": "text/x-python",
   "name": "python",
   "nbconvert_exporter": "python",
   "pygments_lexer": "ipython3",
   "version": "3.7.6"
  }
 },
 "nbformat": 4,
 "nbformat_minor": 4
}
