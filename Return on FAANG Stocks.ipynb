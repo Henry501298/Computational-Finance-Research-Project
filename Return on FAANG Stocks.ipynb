{
 "cells": [
  {
   "cell_type": "markdown",
   "metadata": {},
   "source": [
    "## Return on FAANG Stocks, Facebook, Amazon, Apple, Netflix and Google"
   ]
  },
  {
   "cell_type": "code",
   "execution_count": 2,
   "metadata": {},
   "outputs": [],
   "source": [
    "import numpy as np\n",
    "import pandas as pd\n",
    "from pandas_datareader import data as wb\n",
    "import matplotlib.pyplot as plt"
   ]
  },
  {
   "cell_type": "code",
   "execution_count": 3,
   "metadata": {},
   "outputs": [],
   "source": [
    "tickers = ['AAPL', 'FB', 'AMZN', 'NFLX', 'GOOG']\n",
    "mydata = pd.DataFrame()\n",
    "for t in tickers:\n",
    "    mydata[t] = wb.DataReader(t, data_source= 'yahoo', start = '2008-1-1')['Adj Close']"
   ]
  },
  {
   "cell_type": "markdown",
   "metadata": {},
   "source": [
    "Now to gather key performannce data from 2008-2020"
   ]
  },
  {
   "cell_type": "code",
   "execution_count": 7,
   "metadata": {},
   "outputs": [
    {
     "name": "stdout",
     "output_type": "stream",
     "text": [
      "<class 'pandas.core.frame.DataFrame'>\n",
      "DatetimeIndex: 3093 entries, 2008-01-02 to 2020-04-15\n",
      "Data columns (total 5 columns):\n",
      " #   Column  Non-Null Count  Dtype  \n",
      "---  ------  --------------  -----  \n",
      " 0   AAPL    3093 non-null   float64\n",
      " 1   FB      1989 non-null   float64\n",
      " 2   AMZN    3093 non-null   float64\n",
      " 3   NFLX    3093 non-null   float64\n",
      " 4   GOOG    3093 non-null   float64\n",
      "dtypes: float64(5)\n",
      "memory usage: 145.0 KB\n"
     ]
    }
   ],
   "source": [
    "mydata.info()"
   ]
  },
  {
   "cell_type": "markdown",
   "metadata": {},
   "source": [
    "The following charts are the stocks prices through out the years "
   ]
  },
  {
   "cell_type": "code",
   "execution_count": 10,
   "metadata": {},
   "outputs": [
    {
     "data": {
      "text/html": [
       "<div>\n",
       "<style scoped>\n",
       "    .dataframe tbody tr th:only-of-type {\n",
       "        vertical-align: middle;\n",
       "    }\n",
       "\n",
       "    .dataframe tbody tr th {\n",
       "        vertical-align: top;\n",
       "    }\n",
       "\n",
       "    .dataframe thead th {\n",
       "        text-align: right;\n",
       "    }\n",
       "</style>\n",
       "<table border=\"1\" class=\"dataframe\">\n",
       "  <thead>\n",
       "    <tr style=\"text-align: right;\">\n",
       "      <th></th>\n",
       "      <th>AAPL</th>\n",
       "      <th>FB</th>\n",
       "      <th>AMZN</th>\n",
       "      <th>NFLX</th>\n",
       "      <th>GOOG</th>\n",
       "    </tr>\n",
       "    <tr>\n",
       "      <th>Date</th>\n",
       "      <th></th>\n",
       "      <th></th>\n",
       "      <th></th>\n",
       "      <th></th>\n",
       "      <th></th>\n",
       "    </tr>\n",
       "  </thead>\n",
       "  <tbody>\n",
       "    <tr>\n",
       "      <th>2008-01-02</th>\n",
       "      <td>24.161295</td>\n",
       "      <td>NaN</td>\n",
       "      <td>96.250000</td>\n",
       "      <td>3.764286</td>\n",
       "      <td>341.315674</td>\n",
       "    </tr>\n",
       "    <tr>\n",
       "      <th>2008-01-03</th>\n",
       "      <td>24.172449</td>\n",
       "      <td>NaN</td>\n",
       "      <td>95.209999</td>\n",
       "      <td>3.724286</td>\n",
       "      <td>341.385406</td>\n",
       "    </tr>\n",
       "    <tr>\n",
       "      <th>2008-01-04</th>\n",
       "      <td>22.327251</td>\n",
       "      <td>NaN</td>\n",
       "      <td>88.790001</td>\n",
       "      <td>3.515714</td>\n",
       "      <td>327.273285</td>\n",
       "    </tr>\n",
       "    <tr>\n",
       "      <th>2008-01-07</th>\n",
       "      <td>22.028393</td>\n",
       "      <td>NaN</td>\n",
       "      <td>88.820000</td>\n",
       "      <td>3.554286</td>\n",
       "      <td>323.412781</td>\n",
       "    </tr>\n",
       "    <tr>\n",
       "      <th>2008-01-08</th>\n",
       "      <td>21.235991</td>\n",
       "      <td>NaN</td>\n",
       "      <td>87.879997</td>\n",
       "      <td>3.328571</td>\n",
       "      <td>314.660583</td>\n",
       "    </tr>\n",
       "    <tr>\n",
       "      <th>2008-01-09</th>\n",
       "      <td>22.246645</td>\n",
       "      <td>NaN</td>\n",
       "      <td>85.220001</td>\n",
       "      <td>3.285714</td>\n",
       "      <td>325.380402</td>\n",
       "    </tr>\n",
       "    <tr>\n",
       "      <th>2008-01-10</th>\n",
       "      <td>22.075516</td>\n",
       "      <td>NaN</td>\n",
       "      <td>84.260002</td>\n",
       "      <td>3.528571</td>\n",
       "      <td>322.157471</td>\n",
       "    </tr>\n",
       "    <tr>\n",
       "      <th>2008-01-11</th>\n",
       "      <td>21.414568</td>\n",
       "      <td>NaN</td>\n",
       "      <td>81.080002</td>\n",
       "      <td>3.344286</td>\n",
       "      <td>317.933319</td>\n",
       "    </tr>\n",
       "    <tr>\n",
       "      <th>2008-01-14</th>\n",
       "      <td>22.169762</td>\n",
       "      <td>NaN</td>\n",
       "      <td>82.870003</td>\n",
       "      <td>3.252857</td>\n",
       "      <td>325.689240</td>\n",
       "    </tr>\n",
       "    <tr>\n",
       "      <th>2008-01-15</th>\n",
       "      <td>20.961945</td>\n",
       "      <td>NaN</td>\n",
       "      <td>80.239998</td>\n",
       "      <td>3.150000</td>\n",
       "      <td>317.634430</td>\n",
       "    </tr>\n",
       "  </tbody>\n",
       "</table>\n",
       "</div>"
      ],
      "text/plain": [
       "                 AAPL  FB       AMZN      NFLX        GOOG\n",
       "Date                                                      \n",
       "2008-01-02  24.161295 NaN  96.250000  3.764286  341.315674\n",
       "2008-01-03  24.172449 NaN  95.209999  3.724286  341.385406\n",
       "2008-01-04  22.327251 NaN  88.790001  3.515714  327.273285\n",
       "2008-01-07  22.028393 NaN  88.820000  3.554286  323.412781\n",
       "2008-01-08  21.235991 NaN  87.879997  3.328571  314.660583\n",
       "2008-01-09  22.246645 NaN  85.220001  3.285714  325.380402\n",
       "2008-01-10  22.075516 NaN  84.260002  3.528571  322.157471\n",
       "2008-01-11  21.414568 NaN  81.080002  3.344286  317.933319\n",
       "2008-01-14  22.169762 NaN  82.870003  3.252857  325.689240\n",
       "2008-01-15  20.961945 NaN  80.239998  3.150000  317.634430"
      ]
     },
     "execution_count": 10,
     "metadata": {},
     "output_type": "execute_result"
    }
   ],
   "source": [
    "mydata.head(10)"
   ]
  },
  {
   "cell_type": "code",
   "execution_count": 11,
   "metadata": {},
   "outputs": [
    {
     "data": {
      "text/html": [
       "<div>\n",
       "<style scoped>\n",
       "    .dataframe tbody tr th:only-of-type {\n",
       "        vertical-align: middle;\n",
       "    }\n",
       "\n",
       "    .dataframe tbody tr th {\n",
       "        vertical-align: top;\n",
       "    }\n",
       "\n",
       "    .dataframe thead th {\n",
       "        text-align: right;\n",
       "    }\n",
       "</style>\n",
       "<table border=\"1\" class=\"dataframe\">\n",
       "  <thead>\n",
       "    <tr style=\"text-align: right;\">\n",
       "      <th></th>\n",
       "      <th>AAPL</th>\n",
       "      <th>FB</th>\n",
       "      <th>AMZN</th>\n",
       "      <th>NFLX</th>\n",
       "      <th>GOOG</th>\n",
       "    </tr>\n",
       "    <tr>\n",
       "      <th>Date</th>\n",
       "      <th></th>\n",
       "      <th></th>\n",
       "      <th></th>\n",
       "      <th></th>\n",
       "      <th></th>\n",
       "    </tr>\n",
       "  </thead>\n",
       "  <tbody>\n",
       "    <tr>\n",
       "      <th>2020-04-01</th>\n",
       "      <td>240.910004</td>\n",
       "      <td>159.600006</td>\n",
       "      <td>1907.699951</td>\n",
       "      <td>364.079987</td>\n",
       "      <td>1105.619995</td>\n",
       "    </tr>\n",
       "    <tr>\n",
       "      <th>2020-04-02</th>\n",
       "      <td>244.929993</td>\n",
       "      <td>158.190002</td>\n",
       "      <td>1918.829956</td>\n",
       "      <td>370.079987</td>\n",
       "      <td>1120.839966</td>\n",
       "    </tr>\n",
       "    <tr>\n",
       "      <th>2020-04-03</th>\n",
       "      <td>241.410004</td>\n",
       "      <td>154.179993</td>\n",
       "      <td>1906.589966</td>\n",
       "      <td>361.760010</td>\n",
       "      <td>1097.880005</td>\n",
       "    </tr>\n",
       "    <tr>\n",
       "      <th>2020-04-06</th>\n",
       "      <td>262.470001</td>\n",
       "      <td>165.550003</td>\n",
       "      <td>1997.589966</td>\n",
       "      <td>379.959991</td>\n",
       "      <td>1186.920044</td>\n",
       "    </tr>\n",
       "    <tr>\n",
       "      <th>2020-04-07</th>\n",
       "      <td>259.429993</td>\n",
       "      <td>168.830002</td>\n",
       "      <td>2011.599976</td>\n",
       "      <td>372.279999</td>\n",
       "      <td>1186.510010</td>\n",
       "    </tr>\n",
       "    <tr>\n",
       "      <th>2020-04-08</th>\n",
       "      <td>266.070007</td>\n",
       "      <td>174.279999</td>\n",
       "      <td>2043.000000</td>\n",
       "      <td>371.119995</td>\n",
       "      <td>1210.280029</td>\n",
       "    </tr>\n",
       "    <tr>\n",
       "      <th>2020-04-09</th>\n",
       "      <td>267.989990</td>\n",
       "      <td>175.190002</td>\n",
       "      <td>2042.760010</td>\n",
       "      <td>370.720001</td>\n",
       "      <td>1211.449951</td>\n",
       "    </tr>\n",
       "    <tr>\n",
       "      <th>2020-04-13</th>\n",
       "      <td>273.250000</td>\n",
       "      <td>174.789993</td>\n",
       "      <td>2168.870117</td>\n",
       "      <td>396.720001</td>\n",
       "      <td>1217.560059</td>\n",
       "    </tr>\n",
       "    <tr>\n",
       "      <th>2020-04-14</th>\n",
       "      <td>287.049988</td>\n",
       "      <td>178.169998</td>\n",
       "      <td>2283.320068</td>\n",
       "      <td>413.549988</td>\n",
       "      <td>1269.229980</td>\n",
       "    </tr>\n",
       "    <tr>\n",
       "      <th>2020-04-15</th>\n",
       "      <td>284.429993</td>\n",
       "      <td>176.970001</td>\n",
       "      <td>2307.679932</td>\n",
       "      <td>426.750000</td>\n",
       "      <td>1262.469971</td>\n",
       "    </tr>\n",
       "  </tbody>\n",
       "</table>\n",
       "</div>"
      ],
      "text/plain": [
       "                  AAPL          FB         AMZN        NFLX         GOOG\n",
       "Date                                                                    \n",
       "2020-04-01  240.910004  159.600006  1907.699951  364.079987  1105.619995\n",
       "2020-04-02  244.929993  158.190002  1918.829956  370.079987  1120.839966\n",
       "2020-04-03  241.410004  154.179993  1906.589966  361.760010  1097.880005\n",
       "2020-04-06  262.470001  165.550003  1997.589966  379.959991  1186.920044\n",
       "2020-04-07  259.429993  168.830002  2011.599976  372.279999  1186.510010\n",
       "2020-04-08  266.070007  174.279999  2043.000000  371.119995  1210.280029\n",
       "2020-04-09  267.989990  175.190002  2042.760010  370.720001  1211.449951\n",
       "2020-04-13  273.250000  174.789993  2168.870117  396.720001  1217.560059\n",
       "2020-04-14  287.049988  178.169998  2283.320068  413.549988  1269.229980\n",
       "2020-04-15  284.429993  176.970001  2307.679932  426.750000  1262.469971"
      ]
     },
     "execution_count": 11,
     "metadata": {},
     "output_type": "execute_result"
    }
   ],
   "source": [
    "mydata.tail(10)"
   ]
  },
  {
   "cell_type": "markdown",
   "metadata": {},
   "source": [
    "Now this chart shows the performance of these stocks from 2008-2020"
   ]
  },
  {
   "cell_type": "code",
   "execution_count": 12,
   "metadata": {},
   "outputs": [
    {
     "data": {
      "text/plain": [
       "AAPL     24.161295\n",
       "FB             NaN\n",
       "AMZN     96.250000\n",
       "NFLX      3.764286\n",
       "GOOG    341.315674\n",
       "Name: 2008-01-02 00:00:00, dtype: float64"
      ]
     },
     "execution_count": 12,
     "metadata": {},
     "output_type": "execute_result"
    }
   ],
   "source": [
    "mydata.iloc[0]"
   ]
  },
  {
   "cell_type": "code",
   "execution_count": 21,
   "metadata": {},
   "outputs": [
    {
     "data": {
      "image/png": "[encoded data removed]",
      "text/plain": [
       "<Figure size 1440x720 with 1 Axes>"
      ]
     },
     "metadata": {
      "needs_background": "light"
     },
     "output_type": "display_data"
    }
   ],
   "source": [
    "(mydata / mydata.iloc[0] * 100).plot(figsize = (20, 10));\n",
    "plt.show()"
   ]
  },
  {
   "cell_type": "markdown",
   "metadata": {},
   "source": [
    "From this chart we can conclude that from 2008-2020 Netflix (NFLX) has been growing the fastest compared to the other FAAG stocks"
   ]
  },
  {
   "cell_type": "markdown",
   "metadata": {},
   "source": [
    "Now I'm going to conduct the percent return of the FAANG stocks"
   ]
  },
  {
   "cell_type": "code",
   "execution_count": 14,
   "metadata": {},
   "outputs": [
    {
     "data": {
      "text/html": [
       "<div>\n",
       "<style scoped>\n",
       "    .dataframe tbody tr th:only-of-type {\n",
       "        vertical-align: middle;\n",
       "    }\n",
       "\n",
       "    .dataframe tbody tr th {\n",
       "        vertical-align: top;\n",
       "    }\n",
       "\n",
       "    .dataframe thead th {\n",
       "        text-align: right;\n",
       "    }\n",
       "</style>\n",
       "<table border=\"1\" class=\"dataframe\">\n",
       "  <thead>\n",
       "    <tr style=\"text-align: right;\">\n",
       "      <th></th>\n",
       "      <th>AAPL</th>\n",
       "      <th>FB</th>\n",
       "      <th>AMZN</th>\n",
       "      <th>NFLX</th>\n",
       "      <th>GOOG</th>\n",
       "    </tr>\n",
       "    <tr>\n",
       "      <th>Date</th>\n",
       "      <th></th>\n",
       "      <th></th>\n",
       "      <th></th>\n",
       "      <th></th>\n",
       "      <th></th>\n",
       "    </tr>\n",
       "  </thead>\n",
       "  <tbody>\n",
       "    <tr>\n",
       "      <th>2008-01-02</th>\n",
       "      <td>NaN</td>\n",
       "      <td>NaN</td>\n",
       "      <td>NaN</td>\n",
       "      <td>NaN</td>\n",
       "      <td>NaN</td>\n",
       "    </tr>\n",
       "    <tr>\n",
       "      <th>2008-01-03</th>\n",
       "      <td>0.000462</td>\n",
       "      <td>NaN</td>\n",
       "      <td>-0.010805</td>\n",
       "      <td>-0.010626</td>\n",
       "      <td>0.000204</td>\n",
       "    </tr>\n",
       "    <tr>\n",
       "      <th>2008-01-04</th>\n",
       "      <td>-0.076335</td>\n",
       "      <td>NaN</td>\n",
       "      <td>-0.067430</td>\n",
       "      <td>-0.056003</td>\n",
       "      <td>-0.041338</td>\n",
       "    </tr>\n",
       "    <tr>\n",
       "      <th>2008-01-07</th>\n",
       "      <td>-0.013385</td>\n",
       "      <td>NaN</td>\n",
       "      <td>0.000338</td>\n",
       "      <td>0.010971</td>\n",
       "      <td>-0.011796</td>\n",
       "    </tr>\n",
       "    <tr>\n",
       "      <th>2008-01-08</th>\n",
       "      <td>-0.035972</td>\n",
       "      <td>NaN</td>\n",
       "      <td>-0.010583</td>\n",
       "      <td>-0.063505</td>\n",
       "      <td>-0.027062</td>\n",
       "    </tr>\n",
       "    <tr>\n",
       "      <th>2008-01-09</th>\n",
       "      <td>0.047592</td>\n",
       "      <td>NaN</td>\n",
       "      <td>-0.030269</td>\n",
       "      <td>-0.012875</td>\n",
       "      <td>0.034068</td>\n",
       "    </tr>\n",
       "    <tr>\n",
       "      <th>2008-01-10</th>\n",
       "      <td>-0.007692</td>\n",
       "      <td>NaN</td>\n",
       "      <td>-0.011265</td>\n",
       "      <td>0.073913</td>\n",
       "      <td>-0.009905</td>\n",
       "    </tr>\n",
       "    <tr>\n",
       "      <th>2008-01-11</th>\n",
       "      <td>-0.029940</td>\n",
       "      <td>NaN</td>\n",
       "      <td>-0.037740</td>\n",
       "      <td>-0.052227</td>\n",
       "      <td>-0.013112</td>\n",
       "    </tr>\n",
       "    <tr>\n",
       "      <th>2008-01-14</th>\n",
       "      <td>0.035265</td>\n",
       "      <td>NaN</td>\n",
       "      <td>0.022077</td>\n",
       "      <td>-0.027339</td>\n",
       "      <td>0.024395</td>\n",
       "    </tr>\n",
       "    <tr>\n",
       "      <th>2008-01-15</th>\n",
       "      <td>-0.054480</td>\n",
       "      <td>NaN</td>\n",
       "      <td>-0.031737</td>\n",
       "      <td>-0.031621</td>\n",
       "      <td>-0.024732</td>\n",
       "    </tr>\n",
       "  </tbody>\n",
       "</table>\n",
       "</div>"
      ],
      "text/plain": [
       "                AAPL  FB      AMZN      NFLX      GOOG\n",
       "Date                                                  \n",
       "2008-01-02       NaN NaN       NaN       NaN       NaN\n",
       "2008-01-03  0.000462 NaN -0.010805 -0.010626  0.000204\n",
       "2008-01-04 -0.076335 NaN -0.067430 -0.056003 -0.041338\n",
       "2008-01-07 -0.013385 NaN  0.000338  0.010971 -0.011796\n",
       "2008-01-08 -0.035972 NaN -0.010583 -0.063505 -0.027062\n",
       "2008-01-09  0.047592 NaN -0.030269 -0.012875  0.034068\n",
       "2008-01-10 -0.007692 NaN -0.011265  0.073913 -0.009905\n",
       "2008-01-11 -0.029940 NaN -0.037740 -0.052227 -0.013112\n",
       "2008-01-14  0.035265 NaN  0.022077 -0.027339  0.024395\n",
       "2008-01-15 -0.054480 NaN -0.031737 -0.031621 -0.024732"
      ]
     },
     "execution_count": 14,
     "metadata": {},
     "output_type": "execute_result"
    }
   ],
   "source": [
    "returns = (mydata / mydata.shift(1)) - 1\n",
    "returns.head(10)"
   ]
  },
  {
   "cell_type": "code",
   "execution_count": 15,
   "metadata": {},
   "outputs": [
    {
     "data": {
      "text/html": [
       "<div>\n",
       "<style scoped>\n",
       "    .dataframe tbody tr th:only-of-type {\n",
       "        vertical-align: middle;\n",
       "    }\n",
       "\n",
       "    .dataframe tbody tr th {\n",
       "        vertical-align: top;\n",
       "    }\n",
       "\n",
       "    .dataframe thead th {\n",
       "        text-align: right;\n",
       "    }\n",
       "</style>\n",
       "<table border=\"1\" class=\"dataframe\">\n",
       "  <thead>\n",
       "    <tr style=\"text-align: right;\">\n",
       "      <th></th>\n",
       "      <th>AAPL</th>\n",
       "      <th>FB</th>\n",
       "      <th>AMZN</th>\n",
       "      <th>NFLX</th>\n",
       "      <th>GOOG</th>\n",
       "    </tr>\n",
       "    <tr>\n",
       "      <th>Date</th>\n",
       "      <th></th>\n",
       "      <th></th>\n",
       "      <th></th>\n",
       "      <th></th>\n",
       "      <th></th>\n",
       "    </tr>\n",
       "  </thead>\n",
       "  <tbody>\n",
       "    <tr>\n",
       "      <th>2020-04-01</th>\n",
       "      <td>-0.052617</td>\n",
       "      <td>-0.043165</td>\n",
       "      <td>-0.021552</td>\n",
       "      <td>-0.030413</td>\n",
       "      <td>-0.049183</td>\n",
       "    </tr>\n",
       "    <tr>\n",
       "      <th>2020-04-02</th>\n",
       "      <td>0.016687</td>\n",
       "      <td>-0.008835</td>\n",
       "      <td>0.005834</td>\n",
       "      <td>0.016480</td>\n",
       "      <td>0.013766</td>\n",
       "    </tr>\n",
       "    <tr>\n",
       "      <th>2020-04-03</th>\n",
       "      <td>-0.014371</td>\n",
       "      <td>-0.025349</td>\n",
       "      <td>-0.006379</td>\n",
       "      <td>-0.022482</td>\n",
       "      <td>-0.020485</td>\n",
       "    </tr>\n",
       "    <tr>\n",
       "      <th>2020-04-06</th>\n",
       "      <td>0.087237</td>\n",
       "      <td>0.073745</td>\n",
       "      <td>0.047729</td>\n",
       "      <td>0.050310</td>\n",
       "      <td>0.081102</td>\n",
       "    </tr>\n",
       "    <tr>\n",
       "      <th>2020-04-07</th>\n",
       "      <td>-0.011582</td>\n",
       "      <td>0.019813</td>\n",
       "      <td>0.007013</td>\n",
       "      <td>-0.020213</td>\n",
       "      <td>-0.000345</td>\n",
       "    </tr>\n",
       "    <tr>\n",
       "      <th>2020-04-08</th>\n",
       "      <td>0.025595</td>\n",
       "      <td>0.032281</td>\n",
       "      <td>0.015609</td>\n",
       "      <td>-0.003116</td>\n",
       "      <td>0.020034</td>\n",
       "    </tr>\n",
       "    <tr>\n",
       "      <th>2020-04-09</th>\n",
       "      <td>0.007216</td>\n",
       "      <td>0.005222</td>\n",
       "      <td>-0.000117</td>\n",
       "      <td>-0.001078</td>\n",
       "      <td>0.000967</td>\n",
       "    </tr>\n",
       "    <tr>\n",
       "      <th>2020-04-13</th>\n",
       "      <td>0.019628</td>\n",
       "      <td>-0.002283</td>\n",
       "      <td>0.061735</td>\n",
       "      <td>0.070134</td>\n",
       "      <td>0.005044</td>\n",
       "    </tr>\n",
       "    <tr>\n",
       "      <th>2020-04-14</th>\n",
       "      <td>0.050503</td>\n",
       "      <td>0.019338</td>\n",
       "      <td>0.052769</td>\n",
       "      <td>0.042423</td>\n",
       "      <td>0.042437</td>\n",
       "    </tr>\n",
       "    <tr>\n",
       "      <th>2020-04-15</th>\n",
       "      <td>-0.009127</td>\n",
       "      <td>-0.006735</td>\n",
       "      <td>0.010669</td>\n",
       "      <td>0.031919</td>\n",
       "      <td>-0.005326</td>\n",
       "    </tr>\n",
       "  </tbody>\n",
       "</table>\n",
       "</div>"
      ],
      "text/plain": [
       "                AAPL        FB      AMZN      NFLX      GOOG\n",
       "Date                                                        \n",
       "2020-04-01 -0.052617 -0.043165 -0.021552 -0.030413 -0.049183\n",
       "2020-04-02  0.016687 -0.008835  0.005834  0.016480  0.013766\n",
       "2020-04-03 -0.014371 -0.025349 -0.006379 -0.022482 -0.020485\n",
       "2020-04-06  0.087237  0.073745  0.047729  0.050310  0.081102\n",
       "2020-04-07 -0.011582  0.019813  0.007013 -0.020213 -0.000345\n",
       "2020-04-08  0.025595  0.032281  0.015609 -0.003116  0.020034\n",
       "2020-04-09  0.007216  0.005222 -0.000117 -0.001078  0.000967\n",
       "2020-04-13  0.019628 -0.002283  0.061735  0.070134  0.005044\n",
       "2020-04-14  0.050503  0.019338  0.052769  0.042423  0.042437\n",
       "2020-04-15 -0.009127 -0.006735  0.010669  0.031919 -0.005326"
      ]
     },
     "execution_count": 15,
     "metadata": {},
     "output_type": "execute_result"
    }
   ],
   "source": [
    "returns = (mydata / mydata.shift(1)) - 1\n",
    "returns.tail(10)"
   ]
  },
  {
   "cell_type": "code",
   "execution_count": 16,
   "metadata": {},
   "outputs": [],
   "source": [
    "weights = np.array([0.20, 0.20, 0.20, 0.20, 0.20])"
   ]
  },
  {
   "cell_type": "markdown",
   "metadata": {},
   "source": [
    "now to collect the annual returns "
   ]
  },
  {
   "cell_type": "code",
   "execution_count": 17,
   "metadata": {},
   "outputs": [
    {
     "data": {
      "text/plain": [
       "AAPL    0.249834\n",
       "FB      0.260688\n",
       "AMZN    0.325970\n",
       "NFLX    0.522515\n",
       "GOOG    0.149068\n",
       "dtype: float64"
      ]
     },
     "execution_count": 17,
     "metadata": {},
     "output_type": "execute_result"
    }
   ],
   "source": [
    "annual_returns = returns.mean() * 250\n",
    "annual_returns"
   ]
  },
  {
   "cell_type": "code",
   "execution_count": 19,
   "metadata": {},
   "outputs": [
    {
     "data": {
      "text/plain": [
       "0.30161493441558507"
      ]
     },
     "execution_count": 19,
     "metadata": {},
     "output_type": "execute_result"
    }
   ],
   "source": [
    "np.dot(annual_returns,weights)"
   ]
  },
  {
   "cell_type": "code",
   "execution_count": 20,
   "metadata": {},
   "outputs": [
    {
     "name": "stdout",
     "output_type": "stream",
     "text": [
      "30.160999999999998 %\n"
     ]
    }
   ],
   "source": [
    "pfolio_1 = str(round(np.dot(annual_returns, weights), 5) * 100) + ' %'\n",
    "print (pfolio_1)"
   ]
  },
  {
   "cell_type": "markdown",
   "metadata": {},
   "source": [
    "## From this data we can conclude that the FAANG stocks generate about 30% annually "
   ]
  }
 ],
 "metadata": {
  "kernelspec": {
   "display_name": "Python 3",
   "language": "python",
   "name": "python3"
  },
  "language_info": {
   "codemirror_mode": {
    "name": "ipython",
    "version": 3
   },
   "file_extension": ".py",
   "mimetype": "text/x-python",
   "name": "python",
   "nbconvert_exporter": "python",
   "pygments_lexer": "ipython3",
   "version": "3.7.6"
  }
 },
 "nbformat": 4,
 "nbformat_minor": 4
}
