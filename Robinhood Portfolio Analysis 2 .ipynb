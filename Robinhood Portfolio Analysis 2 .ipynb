{
 "cells": [
  {
   "cell_type": "markdown",
   "metadata": {},
   "source": [
    "# Robinhood Portfolio Analysis 2 \n",
    "\n",
    "Modern portfolio theory (MPT) is a theory on how risk-averse investors can construct portfolios to optimize or maximize expected return based on a given level of market risk, emphasizing that risk is an inherent part of higher reward. According to the theory, it's possible to construct an \"efficient frontier\" of optimal portfolios offering the maximum possible expected return for a given level of risk.\n",
    "\n",
    "MPT shows that an investor can construct a portfolio of multiple assets that will maximize returns for a given level of risk. Likewise, given a desired level of expected return, an investor can construct a portfolio with the lowest possible risk. Based on statistical measures such as variance and correlation, an individual investment's return is less important than how the investment behaves in the context of the entire portfolio.\n",
    "\n",
    "Source: https://www.investopedia.com/terms/m/modernportfoliotheory.asp\n",
    "\n",
    "##### Disclosure: Stocks mentioned in this portfolio should not be taken as a recommendation to buy or sell any security. This portfolio was created for perspective research only using Financial Engineering strategies for portfolio management and optimization. Statistical data within this case study are thoroughly researched and believed to be accurate using Yahoo Finance API. However, discrepancies can occur with the data provided.  As an investor you should conduct your own research and recheck  for any missing data before making any final decisions regarding buying or selling any stocks. Past performances of stocks mentioned in this portfolio are not a guarantee of future performances."
   ]
  },
  {
   "cell_type": "code",
   "execution_count": 1,
   "metadata": {},
   "outputs": [],
   "source": [
    "import pandas as pd\n",
    "import numpy as np\n",
    "import matplotlib.pyplot as plt\n",
    "plt.style.use(\"seaborn\")\n",
    "\n",
    "pd.options.display.float_format = '{:.2f}'.format"
   ]
  },
  {
   "cell_type": "code",
   "execution_count": 2,
   "metadata": {},
   "outputs": [],
   "source": [
    "Robin_Stocks2 = pd.read_csv(\"Robin_Stocks2.csv\", header = [0,1], index_col = [0], parse_dates = [0])[\"Adj Close\"]"
   ]
  },
  {
   "cell_type": "markdown",
   "metadata": {},
   "source": [
    "Gathering stock data from 4/23/20 which was Market bottom to recent close:"
   ]
  },
  {
   "cell_type": "code",
   "execution_count": 4,
   "metadata": {},
   "outputs": [],
   "source": [
    "Robin_Stocks2 = Robin_Stocks2.loc[\"2020-4-23\":\"2020-6-5\"]"
   ]
  },
  {
   "cell_type": "code",
   "execution_count": 9,
   "metadata": {},
   "outputs": [
    {
     "data": {
      "text/html": [
       "<div>\n",
       "<style scoped>\n",
       "    .dataframe tbody tr th:only-of-type {\n",
       "        vertical-align: middle;\n",
       "    }\n",
       "\n",
       "    .dataframe tbody tr th {\n",
       "        vertical-align: top;\n",
       "    }\n",
       "\n",
       "    .dataframe thead th {\n",
       "        text-align: right;\n",
       "    }\n",
       "</style>\n",
       "<table border=\"1\" class=\"dataframe\">\n",
       "  <thead>\n",
       "    <tr style=\"text-align: right;\">\n",
       "      <th></th>\n",
       "      <th>COP</th>\n",
       "      <th>FANG</th>\n",
       "      <th>HAL</th>\n",
       "      <th>KOS</th>\n",
       "      <th>MRO</th>\n",
       "      <th>PAA</th>\n",
       "      <th>SAVE</th>\n",
       "      <th>TAT</th>\n",
       "    </tr>\n",
       "    <tr>\n",
       "      <th>Date</th>\n",
       "      <th></th>\n",
       "      <th></th>\n",
       "      <th></th>\n",
       "      <th></th>\n",
       "      <th></th>\n",
       "      <th></th>\n",
       "      <th></th>\n",
       "      <th></th>\n",
       "    </tr>\n",
       "  </thead>\n",
       "  <tbody>\n",
       "    <tr>\n",
       "      <th>2020-05-29</th>\n",
       "      <td>42.18</td>\n",
       "      <td>42.58</td>\n",
       "      <td>11.71</td>\n",
       "      <td>1.82</td>\n",
       "      <td>5.34</td>\n",
       "      <td>9.70</td>\n",
       "      <td>12.95</td>\n",
       "      <td>0.23</td>\n",
       "    </tr>\n",
       "    <tr>\n",
       "      <th>2020-06-01</th>\n",
       "      <td>43.39</td>\n",
       "      <td>43.73</td>\n",
       "      <td>11.99</td>\n",
       "      <td>1.93</td>\n",
       "      <td>5.69</td>\n",
       "      <td>9.87</td>\n",
       "      <td>13.96</td>\n",
       "      <td>0.23</td>\n",
       "    </tr>\n",
       "    <tr>\n",
       "      <th>2020-06-02</th>\n",
       "      <td>44.20</td>\n",
       "      <td>45.61</td>\n",
       "      <td>12.69</td>\n",
       "      <td>1.89</td>\n",
       "      <td>5.86</td>\n",
       "      <td>10.17</td>\n",
       "      <td>14.49</td>\n",
       "      <td>0.22</td>\n",
       "    </tr>\n",
       "    <tr>\n",
       "      <th>2020-06-03</th>\n",
       "      <td>45.12</td>\n",
       "      <td>47.58</td>\n",
       "      <td>13.08</td>\n",
       "      <td>1.98</td>\n",
       "      <td>5.95</td>\n",
       "      <td>10.50</td>\n",
       "      <td>17.31</td>\n",
       "      <td>0.23</td>\n",
       "    </tr>\n",
       "    <tr>\n",
       "      <th>2020-06-04</th>\n",
       "      <td>44.71</td>\n",
       "      <td>47.68</td>\n",
       "      <td>13.19</td>\n",
       "      <td>2.27</td>\n",
       "      <td>6.23</td>\n",
       "      <td>10.86</td>\n",
       "      <td>21.02</td>\n",
       "      <td>0.22</td>\n",
       "    </tr>\n",
       "  </tbody>\n",
       "</table>\n",
       "</div>"
      ],
      "text/plain": [
       "             COP  FANG   HAL  KOS  MRO   PAA  SAVE  TAT\n",
       "Date                                                   \n",
       "2020-05-29 42.18 42.58 11.71 1.82 5.34  9.70 12.95 0.23\n",
       "2020-06-01 43.39 43.73 11.99 1.93 5.69  9.87 13.96 0.23\n",
       "2020-06-02 44.20 45.61 12.69 1.89 5.86 10.17 14.49 0.22\n",
       "2020-06-03 45.12 47.58 13.08 1.98 5.95 10.50 17.31 0.23\n",
       "2020-06-04 44.71 47.68 13.19 2.27 6.23 10.86 21.02 0.22"
      ]
     },
     "execution_count": 9,
     "metadata": {},
     "output_type": "execute_result"
    }
   ],
   "source": [
    "Robin_Stocks2.tail().dropna()"
   ]
  },
  {
   "cell_type": "markdown",
   "metadata": {},
   "source": [
    "This function is used to calculate a summary of daily returns and to create a column for Returns and Risks of the stocks mentioned in the portfolio: "
   ]
  },
  {
   "cell_type": "code",
   "execution_count": 10,
   "metadata": {},
   "outputs": [],
   "source": [
    "def ann_risk_return(returns_df):\n",
    "    summary = returns_df.agg([\"mean\", \"std\"]).T\n",
    "    summary.columns = [\"Return\", \"Risk\"]\n",
    "    summary.Return = summary.Return*252\n",
    "    summary.Risk = summary.Risk * np.sqrt(252)\n",
    "    return summary"
   ]
  },
  {
   "cell_type": "markdown",
   "metadata": {},
   "source": [
    "Daily Returns since the impact of COVID-19:"
   ]
  },
  {
   "cell_type": "code",
   "execution_count": 11,
   "metadata": {},
   "outputs": [],
   "source": [
    "ret = Robin_Stocks2.pct_change().dropna()"
   ]
  },
  {
   "cell_type": "code",
   "execution_count": 12,
   "metadata": {},
   "outputs": [
    {
     "data": {
      "text/html": [
       "<div>\n",
       "<style scoped>\n",
       "    .dataframe tbody tr th:only-of-type {\n",
       "        vertical-align: middle;\n",
       "    }\n",
       "\n",
       "    .dataframe tbody tr th {\n",
       "        vertical-align: top;\n",
       "    }\n",
       "\n",
       "    .dataframe thead th {\n",
       "        text-align: right;\n",
       "    }\n",
       "</style>\n",
       "<table border=\"1\" class=\"dataframe\">\n",
       "  <thead>\n",
       "    <tr style=\"text-align: right;\">\n",
       "      <th></th>\n",
       "      <th>COP</th>\n",
       "      <th>FANG</th>\n",
       "      <th>HAL</th>\n",
       "      <th>KOS</th>\n",
       "      <th>MRO</th>\n",
       "      <th>PAA</th>\n",
       "      <th>SAVE</th>\n",
       "      <th>TAT</th>\n",
       "    </tr>\n",
       "    <tr>\n",
       "      <th>Date</th>\n",
       "      <th></th>\n",
       "      <th></th>\n",
       "      <th></th>\n",
       "      <th></th>\n",
       "      <th></th>\n",
       "      <th></th>\n",
       "      <th></th>\n",
       "      <th></th>\n",
       "    </tr>\n",
       "  </thead>\n",
       "  <tbody>\n",
       "    <tr>\n",
       "      <th>2020-05-29</th>\n",
       "      <td>-0.02</td>\n",
       "      <td>-0.01</td>\n",
       "      <td>-0.03</td>\n",
       "      <td>0.01</td>\n",
       "      <td>-0.06</td>\n",
       "      <td>-0.00</td>\n",
       "      <td>0.00</td>\n",
       "      <td>0.00</td>\n",
       "    </tr>\n",
       "    <tr>\n",
       "      <th>2020-06-01</th>\n",
       "      <td>0.03</td>\n",
       "      <td>0.03</td>\n",
       "      <td>0.02</td>\n",
       "      <td>0.06</td>\n",
       "      <td>0.07</td>\n",
       "      <td>0.02</td>\n",
       "      <td>0.08</td>\n",
       "      <td>0.00</td>\n",
       "    </tr>\n",
       "    <tr>\n",
       "      <th>2020-06-02</th>\n",
       "      <td>0.02</td>\n",
       "      <td>0.04</td>\n",
       "      <td>0.06</td>\n",
       "      <td>-0.02</td>\n",
       "      <td>0.03</td>\n",
       "      <td>0.03</td>\n",
       "      <td>0.04</td>\n",
       "      <td>-0.04</td>\n",
       "    </tr>\n",
       "    <tr>\n",
       "      <th>2020-06-03</th>\n",
       "      <td>0.02</td>\n",
       "      <td>0.04</td>\n",
       "      <td>0.03</td>\n",
       "      <td>0.05</td>\n",
       "      <td>0.02</td>\n",
       "      <td>0.03</td>\n",
       "      <td>0.19</td>\n",
       "      <td>0.05</td>\n",
       "    </tr>\n",
       "    <tr>\n",
       "      <th>2020-06-04</th>\n",
       "      <td>-0.01</td>\n",
       "      <td>0.00</td>\n",
       "      <td>0.01</td>\n",
       "      <td>0.15</td>\n",
       "      <td>0.05</td>\n",
       "      <td>0.03</td>\n",
       "      <td>0.21</td>\n",
       "      <td>-0.04</td>\n",
       "    </tr>\n",
       "  </tbody>\n",
       "</table>\n",
       "</div>"
      ],
      "text/plain": [
       "             COP  FANG   HAL   KOS   MRO   PAA  SAVE   TAT\n",
       "Date                                                      \n",
       "2020-05-29 -0.02 -0.01 -0.03  0.01 -0.06 -0.00  0.00  0.00\n",
       "2020-06-01  0.03  0.03  0.02  0.06  0.07  0.02  0.08  0.00\n",
       "2020-06-02  0.02  0.04  0.06 -0.02  0.03  0.03  0.04 -0.04\n",
       "2020-06-03  0.02  0.04  0.03  0.05  0.02  0.03  0.19  0.05\n",
       "2020-06-04 -0.01  0.00  0.01  0.15  0.05  0.03  0.21 -0.04"
      ]
     },
     "execution_count": 12,
     "metadata": {},
     "output_type": "execute_result"
    }
   ],
   "source": [
    "ret.tail().dropna()"
   ]
  },
  {
   "cell_type": "markdown",
   "metadata": {},
   "source": [
    "Risk and Return due to the impact of COVID-19:"
   ]
  },
  {
   "cell_type": "code",
   "execution_count": 13,
   "metadata": {},
   "outputs": [
    {
     "data": {
      "text/html": [
       "<div>\n",
       "<style scoped>\n",
       "    .dataframe tbody tr th:only-of-type {\n",
       "        vertical-align: middle;\n",
       "    }\n",
       "\n",
       "    .dataframe tbody tr th {\n",
       "        vertical-align: top;\n",
       "    }\n",
       "\n",
       "    .dataframe thead th {\n",
       "        text-align: right;\n",
       "    }\n",
       "</style>\n",
       "<table border=\"1\" class=\"dataframe\">\n",
       "  <thead>\n",
       "    <tr style=\"text-align: right;\">\n",
       "      <th></th>\n",
       "      <th>Return</th>\n",
       "      <th>Risk</th>\n",
       "    </tr>\n",
       "  </thead>\n",
       "  <tbody>\n",
       "    <tr>\n",
       "      <th>COP</th>\n",
       "      <td>2.07</td>\n",
       "      <td>0.54</td>\n",
       "    </tr>\n",
       "    <tr>\n",
       "      <th>FANG</th>\n",
       "      <td>2.58</td>\n",
       "      <td>0.82</td>\n",
       "    </tr>\n",
       "    <tr>\n",
       "      <th>HAL</th>\n",
       "      <td>3.84</td>\n",
       "      <td>0.92</td>\n",
       "    </tr>\n",
       "    <tr>\n",
       "      <th>KOS</th>\n",
       "      <td>6.24</td>\n",
       "      <td>1.23</td>\n",
       "    </tr>\n",
       "    <tr>\n",
       "      <th>MRO</th>\n",
       "      <td>2.55</td>\n",
       "      <td>0.86</td>\n",
       "    </tr>\n",
       "    <tr>\n",
       "      <th>PAA</th>\n",
       "      <td>3.31</td>\n",
       "      <td>0.56</td>\n",
       "    </tr>\n",
       "    <tr>\n",
       "      <th>SAVE</th>\n",
       "      <td>6.26</td>\n",
       "      <td>1.62</td>\n",
       "    </tr>\n",
       "    <tr>\n",
       "      <th>TAT</th>\n",
       "      <td>-2.11</td>\n",
       "      <td>1.08</td>\n",
       "    </tr>\n",
       "  </tbody>\n",
       "</table>\n",
       "</div>"
      ],
      "text/plain": [
       "      Return  Risk\n",
       "COP     2.07  0.54\n",
       "FANG    2.58  0.82\n",
       "HAL     3.84  0.92\n",
       "KOS     6.24  1.23\n",
       "MRO     2.55  0.86\n",
       "PAA     3.31  0.56\n",
       "SAVE    6.26  1.62\n",
       "TAT    -2.11  1.08"
      ]
     },
     "execution_count": 13,
     "metadata": {},
     "output_type": "execute_result"
    }
   ],
   "source": [
    "summary = ann_risk_return(ret)\n",
    "summary"
   ]
  },
  {
   "cell_type": "markdown",
   "metadata": {},
   "source": [
    "Risk/Return Analysis: The stock in the this portoflio with the highest risk is SAVE and the stock with the highest return is SAVE. A question we should always be asking ourselves when entering a new position, \"is the risk worth the potential reward?\"."
   ]
  },
  {
   "cell_type": "code",
   "execution_count": 14,
   "metadata": {},
   "outputs": [
    {
     "data": {
      "image/png": "[encoded data removed]",
      "text/plain": [
       "<Figure size 936x648 with 1 Axes>"
      ]
     },
     "metadata": {},
     "output_type": "display_data"
    }
   ],
   "source": [
    "summary.plot(kind = \"scatter\", x = \"Risk\", y = \"Return\", figsize = (13,9), s = 50, fontsize = 15)\n",
    "for i in summary.index:\n",
    "    plt.annotate(i, xy=(summary.loc[i, \"Risk\"]+0.002, summary.loc[i, \"Return\"]+0.002), size = 15)\n",
    "plt.xlabel(\"Annual Risk\", fontsize = 15)\n",
    "plt.ylabel(\"Annual Return\", fontsize = 15)\n",
    "plt.title(\"Risk/Return Due to COVID-19\", fontsize = 20)\n",
    "plt.show()"
   ]
  },
  {
   "cell_type": "markdown",
   "metadata": {},
   "source": [
    "Number of assets in the portfolio (8), and 200,000 simulations of portfolios:"
   ]
  },
  {
   "cell_type": "code",
   "execution_count": 16,
   "metadata": {},
   "outputs": [
    {
     "name": "stdout",
     "output_type": "stream",
     "text": [
      "8 200000\n"
     ]
    }
   ],
   "source": [
    "noa = len(Robin_Stocks2.columns)\n",
    "nop = 200000\n",
    "print(noa, nop)"
   ]
  },
  {
   "cell_type": "markdown",
   "metadata": {},
   "source": [
    "Creating simulation:\n",
    "    \n",
    "The Purpose of np.random.seed(123) is to prevent the values from repeating the same result. It makes sure we obtain differnt values for the simulation "
   ]
  },
  {
   "cell_type": "code",
   "execution_count": 17,
   "metadata": {},
   "outputs": [],
   "source": [
    "np.random.seed(123)\n",
    "matrix = np.random.random(noa * nop).reshape(nop, noa)"
   ]
  },
  {
   "cell_type": "markdown",
   "metadata": {},
   "source": [
    "200,000 different weight combinations for each stock in the portfolio:"
   ]
  },
  {
   "cell_type": "code",
   "execution_count": 18,
   "metadata": {},
   "outputs": [
    {
     "data": {
      "text/plain": [
       "array([[0.15243548, 0.06262702, 0.04965074, ..., 0.09260487, 0.21465883,\n",
       "        0.14988797],\n",
       "       [0.13435477, 0.10954328, 0.09587138, ..., 0.01667182, 0.111199  ,\n",
       "        0.20616891],\n",
       "       [0.04303407, 0.04137394, 0.12534715, ..., 0.20030773, 0.17083656,\n",
       "        0.14408777],\n",
       "       ...,\n",
       "       [0.06066073, 0.20360002, 0.03531894, ..., 0.01269121, 0.0909564 ,\n",
       "        0.06209874],\n",
       "       [0.17313602, 0.18951458, 0.22580987, ..., 0.30633845, 0.03188499,\n",
       "        0.02619119],\n",
       "       [0.13967268, 0.09224668, 0.03042646, ..., 0.06533362, 0.19541171,\n",
       "        0.23921489]])"
      ]
     },
     "execution_count": 18,
     "metadata": {},
     "output_type": "execute_result"
    }
   ],
   "source": [
    "weights = matrix / matrix.sum(axis = 1, keepdims= True)\n",
    "weights"
   ]
  },
  {
   "cell_type": "code",
   "execution_count": 19,
   "metadata": {},
   "outputs": [
    {
     "data": {
      "text/plain": [
       "array([[1.],\n",
       "       [1.],\n",
       "       [1.],\n",
       "       ...,\n",
       "       [1.],\n",
       "       [1.],\n",
       "       [1.]])"
      ]
     },
     "execution_count": 19,
     "metadata": {},
     "output_type": "execute_result"
    }
   ],
   "source": [
    "weights.sum(axis = 1, keepdims= True)"
   ]
  },
  {
   "cell_type": "markdown",
   "metadata": {},
   "source": [
    "Daily Returns of 200,000 portfolios:"
   ]
  },
  {
   "cell_type": "code",
   "execution_count": 20,
   "metadata": {},
   "outputs": [],
   "source": [
    "port_ret = ret.dot(weights.T)"
   ]
  },
  {
   "cell_type": "code",
   "execution_count": 21,
   "metadata": {},
   "outputs": [
    {
     "data": {
      "text/html": [
       "<div>\n",
       "<style scoped>\n",
       "    .dataframe tbody tr th:only-of-type {\n",
       "        vertical-align: middle;\n",
       "    }\n",
       "\n",
       "    .dataframe tbody tr th {\n",
       "        vertical-align: top;\n",
       "    }\n",
       "\n",
       "    .dataframe thead th {\n",
       "        text-align: right;\n",
       "    }\n",
       "</style>\n",
       "<table border=\"1\" class=\"dataframe\">\n",
       "  <thead>\n",
       "    <tr style=\"text-align: right;\">\n",
       "      <th></th>\n",
       "      <th>0</th>\n",
       "      <th>1</th>\n",
       "      <th>2</th>\n",
       "      <th>3</th>\n",
       "      <th>4</th>\n",
       "      <th>5</th>\n",
       "      <th>6</th>\n",
       "      <th>7</th>\n",
       "      <th>8</th>\n",
       "      <th>9</th>\n",
       "      <th>...</th>\n",
       "      <th>199990</th>\n",
       "      <th>199991</th>\n",
       "      <th>199992</th>\n",
       "      <th>199993</th>\n",
       "      <th>199994</th>\n",
       "      <th>199995</th>\n",
       "      <th>199996</th>\n",
       "      <th>199997</th>\n",
       "      <th>199998</th>\n",
       "      <th>199999</th>\n",
       "    </tr>\n",
       "    <tr>\n",
       "      <th>Date</th>\n",
       "      <th></th>\n",
       "      <th></th>\n",
       "      <th></th>\n",
       "      <th></th>\n",
       "      <th></th>\n",
       "      <th></th>\n",
       "      <th></th>\n",
       "      <th></th>\n",
       "      <th></th>\n",
       "      <th></th>\n",
       "      <th></th>\n",
       "      <th></th>\n",
       "      <th></th>\n",
       "      <th></th>\n",
       "      <th></th>\n",
       "      <th></th>\n",
       "      <th></th>\n",
       "      <th></th>\n",
       "      <th></th>\n",
       "      <th></th>\n",
       "      <th></th>\n",
       "    </tr>\n",
       "  </thead>\n",
       "  <tbody>\n",
       "    <tr>\n",
       "      <th>2020-05-29</th>\n",
       "      <td>-0.01</td>\n",
       "      <td>-0.01</td>\n",
       "      <td>-0.01</td>\n",
       "      <td>-0.02</td>\n",
       "      <td>-0.01</td>\n",
       "      <td>-0.02</td>\n",
       "      <td>-0.01</td>\n",
       "      <td>-0.02</td>\n",
       "      <td>-0.01</td>\n",
       "      <td>-0.01</td>\n",
       "      <td>...</td>\n",
       "      <td>-0.02</td>\n",
       "      <td>-0.01</td>\n",
       "      <td>-0.02</td>\n",
       "      <td>-0.01</td>\n",
       "      <td>-0.02</td>\n",
       "      <td>-0.02</td>\n",
       "      <td>-0.01</td>\n",
       "      <td>-0.02</td>\n",
       "      <td>-0.01</td>\n",
       "      <td>-0.02</td>\n",
       "    </tr>\n",
       "    <tr>\n",
       "      <th>2020-06-01</th>\n",
       "      <td>0.04</td>\n",
       "      <td>0.04</td>\n",
       "      <td>0.04</td>\n",
       "      <td>0.03</td>\n",
       "      <td>0.04</td>\n",
       "      <td>0.04</td>\n",
       "      <td>0.04</td>\n",
       "      <td>0.04</td>\n",
       "      <td>0.02</td>\n",
       "      <td>0.04</td>\n",
       "      <td>...</td>\n",
       "      <td>0.04</td>\n",
       "      <td>0.04</td>\n",
       "      <td>0.04</td>\n",
       "      <td>0.03</td>\n",
       "      <td>0.04</td>\n",
       "      <td>0.04</td>\n",
       "      <td>0.04</td>\n",
       "      <td>0.05</td>\n",
       "      <td>0.03</td>\n",
       "      <td>0.04</td>\n",
       "    </tr>\n",
       "    <tr>\n",
       "      <th>2020-06-02</th>\n",
       "      <td>0.02</td>\n",
       "      <td>0.01</td>\n",
       "      <td>0.02</td>\n",
       "      <td>0.02</td>\n",
       "      <td>0.02</td>\n",
       "      <td>0.01</td>\n",
       "      <td>0.02</td>\n",
       "      <td>0.02</td>\n",
       "      <td>0.01</td>\n",
       "      <td>0.01</td>\n",
       "      <td>...</td>\n",
       "      <td>0.02</td>\n",
       "      <td>0.01</td>\n",
       "      <td>0.03</td>\n",
       "      <td>0.00</td>\n",
       "      <td>0.01</td>\n",
       "      <td>0.01</td>\n",
       "      <td>0.03</td>\n",
       "      <td>0.02</td>\n",
       "      <td>0.03</td>\n",
       "      <td>0.01</td>\n",
       "    </tr>\n",
       "    <tr>\n",
       "      <th>2020-06-03</th>\n",
       "      <td>0.07</td>\n",
       "      <td>0.05</td>\n",
       "      <td>0.06</td>\n",
       "      <td>0.04</td>\n",
       "      <td>0.07</td>\n",
       "      <td>0.05</td>\n",
       "      <td>0.05</td>\n",
       "      <td>0.05</td>\n",
       "      <td>0.04</td>\n",
       "      <td>0.04</td>\n",
       "      <td>...</td>\n",
       "      <td>0.05</td>\n",
       "      <td>0.06</td>\n",
       "      <td>0.06</td>\n",
       "      <td>0.04</td>\n",
       "      <td>0.06</td>\n",
       "      <td>0.04</td>\n",
       "      <td>0.06</td>\n",
       "      <td>0.05</td>\n",
       "      <td>0.04</td>\n",
       "      <td>0.06</td>\n",
       "    </tr>\n",
       "    <tr>\n",
       "      <th>2020-06-04</th>\n",
       "      <td>0.07</td>\n",
       "      <td>0.05</td>\n",
       "      <td>0.06</td>\n",
       "      <td>0.02</td>\n",
       "      <td>0.06</td>\n",
       "      <td>0.04</td>\n",
       "      <td>0.06</td>\n",
       "      <td>0.05</td>\n",
       "      <td>0.01</td>\n",
       "      <td>0.03</td>\n",
       "      <td>...</td>\n",
       "      <td>0.03</td>\n",
       "      <td>0.06</td>\n",
       "      <td>0.06</td>\n",
       "      <td>0.02</td>\n",
       "      <td>0.05</td>\n",
       "      <td>0.06</td>\n",
       "      <td>0.07</td>\n",
       "      <td>0.06</td>\n",
       "      <td>0.02</td>\n",
       "      <td>0.04</td>\n",
       "    </tr>\n",
       "  </tbody>\n",
       "</table>\n",
       "<p>5 rows × 200000 columns</p>\n",
       "</div>"
      ],
      "text/plain": [
       "            0       1       2       3       4       5       6       7       \\\n",
       "Date                                                                         \n",
       "2020-05-29   -0.01   -0.01   -0.01   -0.02   -0.01   -0.02   -0.01   -0.02   \n",
       "2020-06-01    0.04    0.04    0.04    0.03    0.04    0.04    0.04    0.04   \n",
       "2020-06-02    0.02    0.01    0.02    0.02    0.02    0.01    0.02    0.02   \n",
       "2020-06-03    0.07    0.05    0.06    0.04    0.07    0.05    0.05    0.05   \n",
       "2020-06-04    0.07    0.05    0.06    0.02    0.06    0.04    0.06    0.05   \n",
       "\n",
       "            8       9       ...  199990  199991  199992  199993  199994  \\\n",
       "Date                        ...                                           \n",
       "2020-05-29   -0.01   -0.01  ...   -0.02   -0.01   -0.02   -0.01   -0.02   \n",
       "2020-06-01    0.02    0.04  ...    0.04    0.04    0.04    0.03    0.04   \n",
       "2020-06-02    0.01    0.01  ...    0.02    0.01    0.03    0.00    0.01   \n",
       "2020-06-03    0.04    0.04  ...    0.05    0.06    0.06    0.04    0.06   \n",
       "2020-06-04    0.01    0.03  ...    0.03    0.06    0.06    0.02    0.05   \n",
       "\n",
       "            199995  199996  199997  199998  199999  \n",
       "Date                                                \n",
       "2020-05-29   -0.02   -0.01   -0.02   -0.01   -0.02  \n",
       "2020-06-01    0.04    0.04    0.05    0.03    0.04  \n",
       "2020-06-02    0.01    0.03    0.02    0.03    0.01  \n",
       "2020-06-03    0.04    0.06    0.05    0.04    0.06  \n",
       "2020-06-04    0.06    0.07    0.06    0.02    0.04  \n",
       "\n",
       "[5 rows x 200000 columns]"
      ]
     },
     "execution_count": 21,
     "metadata": {},
     "output_type": "execute_result"
    }
   ],
   "source": [
    "port_ret.tail().dropna()"
   ]
  },
  {
   "cell_type": "markdown",
   "metadata": {},
   "source": [
    "Annual Risk and Return of 200,000 Portfolios"
   ]
  },
  {
   "cell_type": "code",
   "execution_count": 22,
   "metadata": {},
   "outputs": [],
   "source": [
    "port_summary = ann_risk_return(port_ret)"
   ]
  },
  {
   "cell_type": "code",
   "execution_count": 23,
   "metadata": {},
   "outputs": [
    {
     "data": {
      "text/html": [
       "<div>\n",
       "<style scoped>\n",
       "    .dataframe tbody tr th:only-of-type {\n",
       "        vertical-align: middle;\n",
       "    }\n",
       "\n",
       "    .dataframe tbody tr th {\n",
       "        vertical-align: top;\n",
       "    }\n",
       "\n",
       "    .dataframe thead th {\n",
       "        text-align: right;\n",
       "    }\n",
       "</style>\n",
       "<table border=\"1\" class=\"dataframe\">\n",
       "  <thead>\n",
       "    <tr style=\"text-align: right;\">\n",
       "      <th></th>\n",
       "      <th>Return</th>\n",
       "      <th>Risk</th>\n",
       "    </tr>\n",
       "  </thead>\n",
       "  <tbody>\n",
       "    <tr>\n",
       "      <th>199995</th>\n",
       "      <td>3.43</td>\n",
       "      <td>0.74</td>\n",
       "    </tr>\n",
       "    <tr>\n",
       "      <th>199996</th>\n",
       "      <td>3.93</td>\n",
       "      <td>0.82</td>\n",
       "    </tr>\n",
       "    <tr>\n",
       "      <th>199997</th>\n",
       "      <td>3.43</td>\n",
       "      <td>0.82</td>\n",
       "    </tr>\n",
       "    <tr>\n",
       "      <th>199998</th>\n",
       "      <td>3.04</td>\n",
       "      <td>0.67</td>\n",
       "    </tr>\n",
       "    <tr>\n",
       "      <th>199999</th>\n",
       "      <td>2.21</td>\n",
       "      <td>0.77</td>\n",
       "    </tr>\n",
       "  </tbody>\n",
       "</table>\n",
       "</div>"
      ],
      "text/plain": [
       "        Return  Risk\n",
       "199995    3.43  0.74\n",
       "199996    3.93  0.82\n",
       "199997    3.43  0.82\n",
       "199998    3.04  0.67\n",
       "199999    2.21  0.77"
      ]
     },
     "execution_count": 23,
     "metadata": {},
     "output_type": "execute_result"
    }
   ],
   "source": [
    "port_summary.tail().dropna()"
   ]
  },
  {
   "cell_type": "code",
   "execution_count": 24,
   "metadata": {},
   "outputs": [
    {
     "data": {
      "image/png": "[encoded data removed]",
      "text/plain": [
       "<Figure size 1080x648 with 1 Axes>"
      ]
     },
     "metadata": {},
     "output_type": "display_data"
    }
   ],
   "source": [
    "plt.figure(figsize = (15, 9))\n",
    "plt.scatter(port_summary.loc[:, \"Risk\"], port_summary.loc[:, \"Return\"],s= 20, color = \"blue\")\n",
    "plt.scatter(summary.loc[:, \"Risk\"], summary.loc[:, \"Return\"], s= 50, color = \"red\", marker = \"D\")\n",
    "plt.xlabel('Volatility (Risk)', fontsize = 15)\n",
    "plt.ylabel(\"Annual Return\", fontsize = 15)\n",
    "plt.title(\"200,000 Portfolios Risk/Return COVID-19 Visualization\", fontsize = 20)\n",
    "plt.show()"
   ]
  },
  {
   "cell_type": "markdown",
   "metadata": {},
   "source": [
    "## Portfolio Analysis With The Sharpe Ratio\n",
    "\n",
    "Sharpe Ratio is used to help investors understand the return of an investment compared to its risk. The ratio is the average return earned in excess of the risk-free rate per unit of volatility or total risk. Volatility is a measure of the price fluctuations of an asset or portfolio.\n",
    "\n",
    "Since the Portfolio is from April 23 2020 to June 5 2020, we're going to be using the 3 month government bond as the Risk Free Rate, which is at 0.15% during the time when I checked the treasury yield making this case study. https://www.bloomberg.com/markets/rates-bonds/government-bonds/us use this website to track the treasury yields.\n",
    "\n",
    "The risk-free rate of return is the theoretical rate of return of an investment with zero risk. The risk-free rate represents the interest an investor would expect from an absolutely risk-free investment over a specified period of time. In theory, the risk-free rate is the minimum return an investor expects for any investment because he will not accept additional risk unless the potential rate of return is greater than the risk-free rate. In practice, however, the risk-free rate does not exist because even the safest investments carry a very small amount of risk. Thus, the interest rate on a three-month U.S. Treasury bill is often used as the risk-free rate for U.S.-based investors.\n",
    "https://www.investopedia.com/terms/r/risk-freerate.asp"
   ]
  },
  {
   "cell_type": "markdown",
   "metadata": {},
   "source": [
    "Risk Free Rate:"
   ]
  },
  {
   "cell_type": "code",
   "execution_count": 25,
   "metadata": {},
   "outputs": [],
   "source": [
    "risk_free_return = 0.015\n",
    "risk_free_risk = 0"
   ]
  },
  {
   "cell_type": "code",
   "execution_count": 26,
   "metadata": {},
   "outputs": [
    {
     "data": {
      "text/plain": [
       "[0.015, 0]"
      ]
     },
     "execution_count": 26,
     "metadata": {},
     "output_type": "execute_result"
    }
   ],
   "source": [
    "rf = [risk_free_return, risk_free_risk]\n",
    "rf"
   ]
  },
  {
   "cell_type": "markdown",
   "metadata": {},
   "source": [
    "Sharpe Ratios for stocks in the portfolio:"
   ]
  },
  {
   "cell_type": "code",
   "execution_count": 27,
   "metadata": {},
   "outputs": [
    {
     "data": {
      "text/html": [
       "<div>\n",
       "<style scoped>\n",
       "    .dataframe tbody tr th:only-of-type {\n",
       "        vertical-align: middle;\n",
       "    }\n",
       "\n",
       "    .dataframe tbody tr th {\n",
       "        vertical-align: top;\n",
       "    }\n",
       "\n",
       "    .dataframe thead th {\n",
       "        text-align: right;\n",
       "    }\n",
       "</style>\n",
       "<table border=\"1\" class=\"dataframe\">\n",
       "  <thead>\n",
       "    <tr style=\"text-align: right;\">\n",
       "      <th></th>\n",
       "      <th>Return</th>\n",
       "      <th>Risk</th>\n",
       "      <th>Sharpe</th>\n",
       "    </tr>\n",
       "  </thead>\n",
       "  <tbody>\n",
       "    <tr>\n",
       "      <th>COP</th>\n",
       "      <td>2.07</td>\n",
       "      <td>0.54</td>\n",
       "      <td>3.83</td>\n",
       "    </tr>\n",
       "    <tr>\n",
       "      <th>FANG</th>\n",
       "      <td>2.58</td>\n",
       "      <td>0.82</td>\n",
       "      <td>3.14</td>\n",
       "    </tr>\n",
       "    <tr>\n",
       "      <th>HAL</th>\n",
       "      <td>3.84</td>\n",
       "      <td>0.92</td>\n",
       "      <td>4.18</td>\n",
       "    </tr>\n",
       "    <tr>\n",
       "      <th>KOS</th>\n",
       "      <td>6.24</td>\n",
       "      <td>1.23</td>\n",
       "      <td>5.07</td>\n",
       "    </tr>\n",
       "    <tr>\n",
       "      <th>MRO</th>\n",
       "      <td>2.55</td>\n",
       "      <td>0.86</td>\n",
       "      <td>2.95</td>\n",
       "    </tr>\n",
       "    <tr>\n",
       "      <th>PAA</th>\n",
       "      <td>3.31</td>\n",
       "      <td>0.56</td>\n",
       "      <td>5.88</td>\n",
       "    </tr>\n",
       "    <tr>\n",
       "      <th>SAVE</th>\n",
       "      <td>6.26</td>\n",
       "      <td>1.62</td>\n",
       "      <td>3.85</td>\n",
       "    </tr>\n",
       "    <tr>\n",
       "      <th>TAT</th>\n",
       "      <td>-2.11</td>\n",
       "      <td>1.08</td>\n",
       "      <td>-1.96</td>\n",
       "    </tr>\n",
       "  </tbody>\n",
       "</table>\n",
       "</div>"
      ],
      "text/plain": [
       "      Return  Risk  Sharpe\n",
       "COP     2.07  0.54    3.83\n",
       "FANG    2.58  0.82    3.14\n",
       "HAL     3.84  0.92    4.18\n",
       "KOS     6.24  1.23    5.07\n",
       "MRO     2.55  0.86    2.95\n",
       "PAA     3.31  0.56    5.88\n",
       "SAVE    6.26  1.62    3.85\n",
       "TAT    -2.11  1.08   -1.96"
      ]
     },
     "execution_count": 27,
     "metadata": {},
     "output_type": "execute_result"
    }
   ],
   "source": [
    "summary[\"Sharpe\"] = (summary[\"Return\"].sub(rf[0]))/summary[\"Risk\"]\n",
    "summary"
   ]
  },
  {
   "cell_type": "markdown",
   "metadata": {},
   "source": [
    "Stock Sharpe Ratio Analysis: Stocks with positive sharpe ratios, we're expecting postive performances. Stocks with negative sharpe ratios we're expecting negative performances"
   ]
  },
  {
   "cell_type": "markdown",
   "metadata": {},
   "source": [
    "Portfolio Sharpe Ratios:"
   ]
  },
  {
   "cell_type": "code",
   "execution_count": 28,
   "metadata": {},
   "outputs": [],
   "source": [
    "port_summary[\"Sharpe\"] = (port_summary[\"Return\"].sub(rf[0]))/port_summary[\"Risk\"]"
   ]
  },
  {
   "cell_type": "code",
   "execution_count": 29,
   "metadata": {},
   "outputs": [
    {
     "data": {
      "text/html": [
       "<div>\n",
       "<style scoped>\n",
       "    .dataframe tbody tr th:only-of-type {\n",
       "        vertical-align: middle;\n",
       "    }\n",
       "\n",
       "    .dataframe tbody tr th {\n",
       "        vertical-align: top;\n",
       "    }\n",
       "\n",
       "    .dataframe thead th {\n",
       "        text-align: right;\n",
       "    }\n",
       "</style>\n",
       "<table border=\"1\" class=\"dataframe\">\n",
       "  <thead>\n",
       "    <tr style=\"text-align: right;\">\n",
       "      <th></th>\n",
       "      <th>Return</th>\n",
       "      <th>Risk</th>\n",
       "      <th>Sharpe</th>\n",
       "    </tr>\n",
       "  </thead>\n",
       "  <tbody>\n",
       "    <tr>\n",
       "      <th>199995</th>\n",
       "      <td>3.43</td>\n",
       "      <td>0.74</td>\n",
       "      <td>4.62</td>\n",
       "    </tr>\n",
       "    <tr>\n",
       "      <th>199996</th>\n",
       "      <td>3.93</td>\n",
       "      <td>0.82</td>\n",
       "      <td>4.76</td>\n",
       "    </tr>\n",
       "    <tr>\n",
       "      <th>199997</th>\n",
       "      <td>3.43</td>\n",
       "      <td>0.82</td>\n",
       "      <td>4.17</td>\n",
       "    </tr>\n",
       "    <tr>\n",
       "      <th>199998</th>\n",
       "      <td>3.04</td>\n",
       "      <td>0.67</td>\n",
       "      <td>4.54</td>\n",
       "    </tr>\n",
       "    <tr>\n",
       "      <th>199999</th>\n",
       "      <td>2.21</td>\n",
       "      <td>0.77</td>\n",
       "      <td>2.85</td>\n",
       "    </tr>\n",
       "  </tbody>\n",
       "</table>\n",
       "</div>"
      ],
      "text/plain": [
       "        Return  Risk  Sharpe\n",
       "199995    3.43  0.74    4.62\n",
       "199996    3.93  0.82    4.76\n",
       "199997    3.43  0.82    4.17\n",
       "199998    3.04  0.67    4.54\n",
       "199999    2.21  0.77    2.85"
      ]
     },
     "execution_count": 29,
     "metadata": {},
     "output_type": "execute_result"
    }
   ],
   "source": [
    "port_summary.tail().dropna()"
   ]
  },
  {
   "cell_type": "markdown",
   "metadata": {},
   "source": [
    "Results of 200,000 porfolios simulations:"
   ]
  },
  {
   "cell_type": "code",
   "execution_count": 30,
   "metadata": {},
   "outputs": [
    {
     "data": {
      "text/html": [
       "<div>\n",
       "<style scoped>\n",
       "    .dataframe tbody tr th:only-of-type {\n",
       "        vertical-align: middle;\n",
       "    }\n",
       "\n",
       "    .dataframe tbody tr th {\n",
       "        vertical-align: top;\n",
       "    }\n",
       "\n",
       "    .dataframe thead th {\n",
       "        text-align: right;\n",
       "    }\n",
       "</style>\n",
       "<table border=\"1\" class=\"dataframe\">\n",
       "  <thead>\n",
       "    <tr style=\"text-align: right;\">\n",
       "      <th></th>\n",
       "      <th>Return</th>\n",
       "      <th>Risk</th>\n",
       "      <th>Sharpe</th>\n",
       "    </tr>\n",
       "  </thead>\n",
       "  <tbody>\n",
       "    <tr>\n",
       "      <th>count</th>\n",
       "      <td>200000.00</td>\n",
       "      <td>200000.00</td>\n",
       "      <td>200000.00</td>\n",
       "    </tr>\n",
       "    <tr>\n",
       "      <th>mean</th>\n",
       "      <td>3.10</td>\n",
       "      <td>0.76</td>\n",
       "      <td>4.03</td>\n",
       "    </tr>\n",
       "    <tr>\n",
       "      <th>std</th>\n",
       "      <td>0.54</td>\n",
       "      <td>0.05</td>\n",
       "      <td>0.58</td>\n",
       "    </tr>\n",
       "    <tr>\n",
       "      <th>min</th>\n",
       "      <td>0.44</td>\n",
       "      <td>0.56</td>\n",
       "      <td>0.56</td>\n",
       "    </tr>\n",
       "    <tr>\n",
       "      <th>25%</th>\n",
       "      <td>2.73</td>\n",
       "      <td>0.73</td>\n",
       "      <td>3.66</td>\n",
       "    </tr>\n",
       "    <tr>\n",
       "      <th>50%</th>\n",
       "      <td>3.09</td>\n",
       "      <td>0.76</td>\n",
       "      <td>4.06</td>\n",
       "    </tr>\n",
       "    <tr>\n",
       "      <th>75%</th>\n",
       "      <td>3.47</td>\n",
       "      <td>0.79</td>\n",
       "      <td>4.46</td>\n",
       "    </tr>\n",
       "    <tr>\n",
       "      <th>max</th>\n",
       "      <td>5.19</td>\n",
       "      <td>1.12</td>\n",
       "      <td>5.62</td>\n",
       "    </tr>\n",
       "  </tbody>\n",
       "</table>\n",
       "</div>"
      ],
      "text/plain": [
       "         Return      Risk    Sharpe\n",
       "count 200000.00 200000.00 200000.00\n",
       "mean       3.10      0.76      4.03\n",
       "std        0.54      0.05      0.58\n",
       "min        0.44      0.56      0.56\n",
       "25%        2.73      0.73      3.66\n",
       "50%        3.09      0.76      4.06\n",
       "75%        3.47      0.79      4.46\n",
       "max        5.19      1.12      5.62"
      ]
     },
     "execution_count": 30,
     "metadata": {},
     "output_type": "execute_result"
    }
   ],
   "source": [
    "port_summary.describe()"
   ]
  },
  {
   "cell_type": "markdown",
   "metadata": {},
   "source": [
    "out of 200,000 portfolio simulations, our maximum results lead to an 5.19% return, 1.12% risk and sharpe ratio of 5.62. The best performing portfolios usually have a Sharpe Ratios with 1 or above which is ideal to look for. In over all return of this portfolio combination is greater then risk. \n",
    "\n",
    "Plot 200,000 Portfolio Sharpe Ratio Performances. \"vmin\" comes from \"25%\", \"vmax\" comes from max sharpe ratio, and \"alpha\" comes from \"max return\" this is also a trial and error process to get the most out of the chart. data inputs comform the describe chart."
   ]
  },
  {
   "cell_type": "code",
   "execution_count": 31,
   "metadata": {},
   "outputs": [
    {
     "data": {
      "image/png": "[encoded data removed]",
      "text/plain": [
       "<Figure size 1080x576 with 2 Axes>"
      ]
     },
     "metadata": {},
     "output_type": "display_data"
    }
   ],
   "source": [
    "plt.figure(figsize = (15, 8))\n",
    "plt.scatter(port_summary.loc[:, \"Risk\"], port_summary.loc[:, \"Return\"], s= 20, \n",
    "            c = port_summary.loc[:, \"Sharpe\"], cmap = \"coolwarm\", vmin = 2, vmax = 5.6, alpha = 5.0)\n",
    "plt.colorbar()\n",
    "plt.scatter(summary.loc[:, \"Risk\"], summary.loc[:, \"Return\"],s= 50, marker = \"D\", c = \"black\")\n",
    "plt.xlabel(\"Volatility (Risk)\", fontsize = 15)\n",
    "plt.ylabel(\"Annual Return\", fontsize = 15)\n",
    "plt.title(\"Portfolio Sharpe Ratios Visualization COVID-19\", fontsize = 20)\n",
    "plt.show()"
   ]
  },
  {
   "cell_type": "markdown",
   "metadata": {},
   "source": [
    "## The Optimal Portfolio - \"Max Sharpe Ratio Portfolio\""
   ]
  },
  {
   "cell_type": "markdown",
   "metadata": {},
   "source": [
    "Out of 200,000 simulated allocations, the \"best portfolio\" is portfolio 127,033:"
   ]
  },
  {
   "cell_type": "code",
   "execution_count": 32,
   "metadata": {},
   "outputs": [
    {
     "data": {
      "text/plain": [
       "127033"
      ]
     },
     "execution_count": 32,
     "metadata": {},
     "output_type": "execute_result"
    }
   ],
   "source": [
    "msrp = port_summary.Sharpe.idxmax()\n",
    "msrp"
   ]
  },
  {
   "cell_type": "markdown",
   "metadata": {},
   "source": [
    "Results of the Max Sharpe Ratio Portfolio:"
   ]
  },
  {
   "cell_type": "code",
   "execution_count": 33,
   "metadata": {},
   "outputs": [
    {
     "data": {
      "text/plain": [
       "Return   4.21\n",
       "Risk     0.75\n",
       "Sharpe   5.62\n",
       "Name: 127033, dtype: float64"
      ]
     },
     "execution_count": 33,
     "metadata": {},
     "output_type": "execute_result"
    }
   ],
   "source": [
    "port_summary.loc[msrp]"
   ]
  },
  {
   "cell_type": "markdown",
   "metadata": {},
   "source": [
    "The \"optimal weights\" of the portfolio:"
   ]
  },
  {
   "cell_type": "code",
   "execution_count": 34,
   "metadata": {},
   "outputs": [
    {
     "data": {
      "text/plain": [
       "array([1.83210758e-01, 6.63738701e-04, 2.03196346e-01, 2.64730647e-01,\n",
       "       1.47034055e-02, 2.47611859e-01, 8.57351218e-02, 1.48123967e-04])"
      ]
     },
     "execution_count": 34,
     "metadata": {},
     "output_type": "execute_result"
    }
   ],
   "source": [
    "msrp_w = weights[msrp, :]\n",
    "msrp_w"
   ]
  },
  {
   "cell_type": "markdown",
   "metadata": {},
   "source": [
    "out of 200,000 portfolio, \"The Best Portfolio\" consist of the following combinations:"
   ]
  },
  {
   "cell_type": "code",
   "execution_count": 35,
   "metadata": {},
   "outputs": [
    {
     "data": {
      "text/plain": [
       "COP    0.18\n",
       "FANG   0.00\n",
       "HAL    0.20\n",
       "KOS    0.26\n",
       "MRO    0.01\n",
       "PAA    0.25\n",
       "SAVE   0.09\n",
       "TAT    0.00\n",
       "dtype: float64"
      ]
     },
     "execution_count": 35,
     "metadata": {},
     "output_type": "execute_result"
    }
   ],
   "source": [
    "pd.Series(index = Robin_Stocks2.columns, data = msrp_w)"
   ]
  },
  {
   "cell_type": "markdown",
   "metadata": {},
   "source": [
    "\"Best Portfolio\" Analysis: Notice the optimal portfolio, has 26% KOS and 0% in FANG and TAT for the highest allocations."
   ]
  },
  {
   "cell_type": "markdown",
   "metadata": {},
   "source": [
    "###  Finding the \"absolute optimal portfolio\" with scipy, an optimization algorithm"
   ]
  },
  {
   "cell_type": "code",
   "execution_count": 36,
   "metadata": {},
   "outputs": [],
   "source": [
    "import pandas as pd\n",
    "import numpy as np\n",
    "import scipy.optimize as sco\n",
    "pd.options.display.float_format = '{:.4f}'.format\n",
    "np.set_printoptions(suppress = True)"
   ]
  },
  {
   "cell_type": "markdown",
   "metadata": {},
   "source": [
    "Risk Free Rate:"
   ]
  },
  {
   "cell_type": "code",
   "execution_count": 37,
   "metadata": {},
   "outputs": [],
   "source": [
    "rf = 0.015"
   ]
  },
  {
   "cell_type": "markdown",
   "metadata": {},
   "source": [
    "Annualized portfolio return (based on weights):"
   ]
  },
  {
   "cell_type": "code",
   "execution_count": 38,
   "metadata": {},
   "outputs": [],
   "source": [
    "def port_ret(weights):\n",
    "    return ret.dot(weights.T).mean() * 252"
   ]
  },
  {
   "cell_type": "markdown",
   "metadata": {},
   "source": [
    "Annualized portfolio volatility (based on weights):"
   ]
  },
  {
   "cell_type": "code",
   "execution_count": 39,
   "metadata": {},
   "outputs": [],
   "source": [
    "def port_vol(weights):\n",
    "    return ret.dot(weights.T).std() * np.sqrt(252)"
   ]
  },
  {
   "cell_type": "code",
   "execution_count": 40,
   "metadata": {},
   "outputs": [],
   "source": [
    "def min_func_sharpe(weights): \n",
    "     return (rf - port_ret(weights)) / port_vol(weights) #sharpe ratio * (-1)"
   ]
  },
  {
   "cell_type": "markdown",
   "metadata": {},
   "source": [
    "Number of assets in the portfolio:"
   ]
  },
  {
   "cell_type": "code",
   "execution_count": 41,
   "metadata": {},
   "outputs": [
    {
     "data": {
      "text/plain": [
       "8"
      ]
     },
     "execution_count": 41,
     "metadata": {},
     "output_type": "execute_result"
    }
   ],
   "source": [
    "noa = len(ret.columns)\n",
    "noa"
   ]
  },
  {
   "cell_type": "markdown",
   "metadata": {},
   "source": [
    "In order to find the \"absolute optimal portfolio\" we must set all stocks to equal weights:"
   ]
  },
  {
   "cell_type": "code",
   "execution_count": 42,
   "metadata": {},
   "outputs": [
    {
     "data": {
      "text/plain": [
       "array([0.125, 0.125, 0.125, 0.125, 0.125, 0.125, 0.125, 0.125])"
      ]
     },
     "execution_count": 42,
     "metadata": {},
     "output_type": "execute_result"
    }
   ],
   "source": [
    "eweigths = np.full(noa, 1/noa)\n",
    "eweigths"
   ]
  },
  {
   "cell_type": "markdown",
   "metadata": {},
   "source": [
    "constraint: weights must sum up to 1 -> sum of weights - 1 = 0"
   ]
  },
  {
   "cell_type": "code",
   "execution_count": 43,
   "metadata": {},
   "outputs": [],
   "source": [
    "cons = ({\"type\": \"eq\", \"fun\": lambda x: np.sum(x) - 1})"
   ]
  },
  {
   "cell_type": "markdown",
   "metadata": {},
   "source": [
    "bounds: all weights shall be between 0 and 1 -> can be changed"
   ]
  },
  {
   "cell_type": "markdown",
   "metadata": {},
   "source": [
    "Optimization based on function to be minimized, starting with equal weights and based on respective bounds and constraints:"
   ]
  },
  {
   "cell_type": "code",
   "execution_count": 45,
   "metadata": {},
   "outputs": [],
   "source": [
    "bnds =  tuple((0,1) for x in range(noa))"
   ]
  },
  {
   "cell_type": "code",
   "execution_count": 48,
   "metadata": {},
   "outputs": [
    {
     "data": {
      "text/plain": [
       "     fun: -6.110334263729387\n",
       "     jac: array([ 0.70369953,  2.36136216,  0.49725038, -0.02421468,  2.4614591 ,\n",
       "       -0.02333838, -0.02110779,  7.49770355])\n",
       " message: 'Optimization terminated successfully.'\n",
       "    nfev: 102\n",
       "     nit: 10\n",
       "    njev: 10\n",
       "  status: 0\n",
       " success: True\n",
       "       x: array([0.        , 0.        , 0.        , 0.16068068, 0.        ,\n",
       "       0.78635943, 0.05295989, 0.        ])"
      ]
     },
     "execution_count": 48,
     "metadata": {},
     "output_type": "execute_result"
    }
   ],
   "source": [
    "opts = sco.minimize(min_func_sharpe, eweigths, method = \"SLSQP\", bounds = bnds, constraints= cons)\n",
    "opts"
   ]
  },
  {
   "cell_type": "code",
   "execution_count": 47,
   "metadata": {},
   "outputs": [
    {
     "data": {
      "text/plain": [
       "array([0.        , 0.        , 0.        , 0.16068068, 0.        ,\n",
       "       0.78635943, 0.05295989, 0.        ])"
      ]
     },
     "execution_count": 47,
     "metadata": {},
     "output_type": "execute_result"
    }
   ],
   "source": [
    "optimal_weights = opts[\"x\"]\n",
    "optimal_weights"
   ]
  },
  {
   "cell_type": "markdown",
   "metadata": {},
   "source": [
    "The \"Absolute Optimal Weight\" (%) provide the following alloctions in each stock:"
   ]
  },
  {
   "cell_type": "code",
   "execution_count": 50,
   "metadata": {},
   "outputs": [
    {
     "data": {
      "text/plain": [
       "COP    0.0000\n",
       "FANG   0.0000\n",
       "HAL    0.0000\n",
       "KOS    0.1607\n",
       "MRO    0.0000\n",
       "PAA    0.7864\n",
       "SAVE   0.0530\n",
       "TAT    0.0000\n",
       "dtype: float64"
      ]
     },
     "execution_count": 50,
     "metadata": {},
     "output_type": "execute_result"
    }
   ],
   "source": [
    "optimal_weights = pd.Series(index = Robin_Stocks2.columns, data = optimal_weights)\n",
    "optimal_weights"
   ]
  },
  {
   "cell_type": "markdown",
   "metadata": {},
   "source": [
    "Absolute Optimization Analysis: Notice now after using an optimization algorithm to achive the \"absolute best portfolio\" out of the 200,000 combinations the result include, 0% in the following stocks COP, FANG, HAL, MRO, and TAT. Although we used an optimization algorithm, that does not mean the \"Absolute optimization\" is 100% correct. Therefore the optimizations are too give you a perspective of the allocations in each stock. \n",
    "\n",
    "Optimizations Analysis: Since the \"absolute optimization\" Analysis is not as well diversifed with it's allocations compared to the first optimization finding the \"best portfolio\", we could develope a new alloction using the data. The Optimization are all about perpective, and aren't always 100% correct.  "
   ]
  },
  {
   "cell_type": "markdown",
   "metadata": {},
   "source": [
    "MSRP = Max Sharpe Ratio Portfolio:"
   ]
  },
  {
   "cell_type": "code",
   "execution_count": 51,
   "metadata": {},
   "outputs": [],
   "source": [
    "ret['MSRP'] = ret.dot(optimal_weights)"
   ]
  },
  {
   "cell_type": "markdown",
   "metadata": {},
   "source": [
    "Dailty Returns of stocks compared to MSRP"
   ]
  },
  {
   "cell_type": "code",
   "execution_count": 52,
   "metadata": {},
   "outputs": [
    {
     "data": {
      "text/html": [
       "<div>\n",
       "<style scoped>\n",
       "    .dataframe tbody tr th:only-of-type {\n",
       "        vertical-align: middle;\n",
       "    }\n",
       "\n",
       "    .dataframe tbody tr th {\n",
       "        vertical-align: top;\n",
       "    }\n",
       "\n",
       "    .dataframe thead th {\n",
       "        text-align: right;\n",
       "    }\n",
       "</style>\n",
       "<table border=\"1\" class=\"dataframe\">\n",
       "  <thead>\n",
       "    <tr style=\"text-align: right;\">\n",
       "      <th></th>\n",
       "      <th>COP</th>\n",
       "      <th>FANG</th>\n",
       "      <th>HAL</th>\n",
       "      <th>KOS</th>\n",
       "      <th>MRO</th>\n",
       "      <th>PAA</th>\n",
       "      <th>SAVE</th>\n",
       "      <th>TAT</th>\n",
       "      <th>MSRP</th>\n",
       "    </tr>\n",
       "    <tr>\n",
       "      <th>Date</th>\n",
       "      <th></th>\n",
       "      <th></th>\n",
       "      <th></th>\n",
       "      <th></th>\n",
       "      <th></th>\n",
       "      <th></th>\n",
       "      <th></th>\n",
       "      <th></th>\n",
       "      <th></th>\n",
       "    </tr>\n",
       "  </thead>\n",
       "  <tbody>\n",
       "    <tr>\n",
       "      <th>2020-05-29</th>\n",
       "      <td>-0.0193</td>\n",
       "      <td>-0.0102</td>\n",
       "      <td>-0.0297</td>\n",
       "      <td>0.0055</td>\n",
       "      <td>-0.0632</td>\n",
       "      <td>-0.0021</td>\n",
       "      <td>0.0015</td>\n",
       "      <td>0.0000</td>\n",
       "      <td>-0.0006</td>\n",
       "    </tr>\n",
       "    <tr>\n",
       "      <th>2020-06-01</th>\n",
       "      <td>0.0287</td>\n",
       "      <td>0.0270</td>\n",
       "      <td>0.0247</td>\n",
       "      <td>0.0604</td>\n",
       "      <td>0.0655</td>\n",
       "      <td>0.0175</td>\n",
       "      <td>0.0780</td>\n",
       "      <td>0.0000</td>\n",
       "      <td>0.0276</td>\n",
       "    </tr>\n",
       "    <tr>\n",
       "      <th>2020-06-02</th>\n",
       "      <td>0.0187</td>\n",
       "      <td>0.0430</td>\n",
       "      <td>0.0579</td>\n",
       "      <td>-0.0207</td>\n",
       "      <td>0.0299</td>\n",
       "      <td>0.0304</td>\n",
       "      <td>0.0380</td>\n",
       "      <td>-0.0435</td>\n",
       "      <td>0.0226</td>\n",
       "    </tr>\n",
       "    <tr>\n",
       "      <th>2020-06-03</th>\n",
       "      <td>0.0208</td>\n",
       "      <td>0.0432</td>\n",
       "      <td>0.0307</td>\n",
       "      <td>0.0476</td>\n",
       "      <td>0.0154</td>\n",
       "      <td>0.0324</td>\n",
       "      <td>0.1946</td>\n",
       "      <td>0.0455</td>\n",
       "      <td>0.0435</td>\n",
       "    </tr>\n",
       "    <tr>\n",
       "      <th>2020-06-04</th>\n",
       "      <td>-0.0091</td>\n",
       "      <td>0.0021</td>\n",
       "      <td>0.0084</td>\n",
       "      <td>0.1465</td>\n",
       "      <td>0.0471</td>\n",
       "      <td>0.0343</td>\n",
       "      <td>0.2143</td>\n",
       "      <td>-0.0435</td>\n",
       "      <td>0.0618</td>\n",
       "    </tr>\n",
       "  </tbody>\n",
       "</table>\n",
       "</div>"
      ],
      "text/plain": [
       "               COP    FANG     HAL     KOS     MRO     PAA   SAVE     TAT  \\\n",
       "Date                                                                        \n",
       "2020-05-29 -0.0193 -0.0102 -0.0297  0.0055 -0.0632 -0.0021 0.0015  0.0000   \n",
       "2020-06-01  0.0287  0.0270  0.0247  0.0604  0.0655  0.0175 0.0780  0.0000   \n",
       "2020-06-02  0.0187  0.0430  0.0579 -0.0207  0.0299  0.0304 0.0380 -0.0435   \n",
       "2020-06-03  0.0208  0.0432  0.0307  0.0476  0.0154  0.0324 0.1946  0.0455   \n",
       "2020-06-04 -0.0091  0.0021  0.0084  0.1465  0.0471  0.0343 0.2143 -0.0435   \n",
       "\n",
       "              MSRP  \n",
       "Date                \n",
       "2020-05-29 -0.0006  \n",
       "2020-06-01  0.0276  \n",
       "2020-06-02  0.0226  \n",
       "2020-06-03  0.0435  \n",
       "2020-06-04  0.0618  "
      ]
     },
     "execution_count": 52,
     "metadata": {},
     "output_type": "execute_result"
    }
   ],
   "source": [
    "ret.tail()"
   ]
  },
  {
   "cell_type": "markdown",
   "metadata": {},
   "source": [
    "Risk and Return including the Max Sharpe Ratio Portfolio:"
   ]
  },
  {
   "cell_type": "code",
   "execution_count": 53,
   "metadata": {},
   "outputs": [
    {
     "data": {
      "text/html": [
       "<div>\n",
       "<style scoped>\n",
       "    .dataframe tbody tr th:only-of-type {\n",
       "        vertical-align: middle;\n",
       "    }\n",
       "\n",
       "    .dataframe tbody tr th {\n",
       "        vertical-align: top;\n",
       "    }\n",
       "\n",
       "    .dataframe thead th {\n",
       "        text-align: right;\n",
       "    }\n",
       "</style>\n",
       "<table border=\"1\" class=\"dataframe\">\n",
       "  <thead>\n",
       "    <tr style=\"text-align: right;\">\n",
       "      <th></th>\n",
       "      <th>Return</th>\n",
       "      <th>Risk</th>\n",
       "    </tr>\n",
       "  </thead>\n",
       "  <tbody>\n",
       "    <tr>\n",
       "      <th>COP</th>\n",
       "      <td>2.0705</td>\n",
       "      <td>0.5361</td>\n",
       "    </tr>\n",
       "    <tr>\n",
       "      <th>FANG</th>\n",
       "      <td>2.5820</td>\n",
       "      <td>0.8183</td>\n",
       "    </tr>\n",
       "    <tr>\n",
       "      <th>HAL</th>\n",
       "      <td>3.8436</td>\n",
       "      <td>0.9170</td>\n",
       "    </tr>\n",
       "    <tr>\n",
       "      <th>KOS</th>\n",
       "      <td>6.2385</td>\n",
       "      <td>1.2274</td>\n",
       "    </tr>\n",
       "    <tr>\n",
       "      <th>MRO</th>\n",
       "      <td>2.5539</td>\n",
       "      <td>0.8609</td>\n",
       "    </tr>\n",
       "    <tr>\n",
       "      <th>PAA</th>\n",
       "      <td>3.3118</td>\n",
       "      <td>0.5609</td>\n",
       "    </tr>\n",
       "    <tr>\n",
       "      <th>SAVE</th>\n",
       "      <td>6.2641</td>\n",
       "      <td>1.6248</td>\n",
       "    </tr>\n",
       "    <tr>\n",
       "      <th>TAT</th>\n",
       "      <td>-2.1079</td>\n",
       "      <td>1.0827</td>\n",
       "    </tr>\n",
       "    <tr>\n",
       "      <th>MSRP</th>\n",
       "      <td>3.9384</td>\n",
       "      <td>0.6421</td>\n",
       "    </tr>\n",
       "  </tbody>\n",
       "</table>\n",
       "</div>"
      ],
      "text/plain": [
       "      Return   Risk\n",
       "COP   2.0705 0.5361\n",
       "FANG  2.5820 0.8183\n",
       "HAL   3.8436 0.9170\n",
       "KOS   6.2385 1.2274\n",
       "MRO   2.5539 0.8609\n",
       "PAA   3.3118 0.5609\n",
       "SAVE  6.2641 1.6248\n",
       "TAT  -2.1079 1.0827\n",
       "MSRP  3.9384 0.6421"
      ]
     },
     "execution_count": 53,
     "metadata": {},
     "output_type": "execute_result"
    }
   ],
   "source": [
    "summary = ann_risk_return(ret)\n",
    "summary"
   ]
  },
  {
   "cell_type": "markdown",
   "metadata": {},
   "source": [
    "Notice that the MSRP has a return of 3.93 with a risk of 0.64. which is far exceeding the the potential risk."
   ]
  },
  {
   "cell_type": "markdown",
   "metadata": {},
   "source": [
    "## Including the Market Portfolio\n",
    "\n",
    "A market portfolio is a theoretical bundle of investments that includes every type of asset available in the investment universe, with each asset weighted in proportion to its total presence in the market. The expected return of a market portfolio is identical to the expected return of the market as a whole.\n",
    "\n",
    "A market portfolio, by nature of being completely diversified, is subject only to systematic risk, or risk that affects the market as a whole, and not to unsystematic risk, which is the risk inherent to a particular asset class. In this case study we will be using the S&P 500 Index as the Market Portfolio. https://www.investopedia.com/terms/m/market-portfolio.asp#:~:text=A%20market%20portfolio%20is%20a,the%20market%20as%20a%20whole."
   ]
  },
  {
   "cell_type": "code",
   "execution_count": 54,
   "metadata": {},
   "outputs": [],
   "source": [
    "Robin_Stocks2 = pd.read_csv(\"Robin_Stocks2.csv\", header = [0,1], index_col = [0], parse_dates = [0])[\"Adj Close\"]\n",
    "SP500_Index = pd.read_csv(\"SP500.csv\", index_col = \"Date\", parse_dates = [\"Date\"])[\"Adj Close\"].to_frame()"
   ]
  },
  {
   "cell_type": "code",
   "execution_count": 55,
   "metadata": {},
   "outputs": [],
   "source": [
    "Robin_Stocks2 = Robin_Stocks2.loc[\"2020-4-23\":\"2020-6-5\"]\n",
    "SP500_Index = SP500_Index.loc[\"2020-4-23\":\"2020-6-5\"]"
   ]
  },
  {
   "cell_type": "markdown",
   "metadata": {},
   "source": [
    "Closing Prices of the S&P 500 index:"
   ]
  },
  {
   "cell_type": "code",
   "execution_count": 56,
   "metadata": {},
   "outputs": [
    {
     "data": {
      "text/html": [
       "<div>\n",
       "<style scoped>\n",
       "    .dataframe tbody tr th:only-of-type {\n",
       "        vertical-align: middle;\n",
       "    }\n",
       "\n",
       "    .dataframe tbody tr th {\n",
       "        vertical-align: top;\n",
       "    }\n",
       "\n",
       "    .dataframe thead th {\n",
       "        text-align: right;\n",
       "    }\n",
       "</style>\n",
       "<table border=\"1\" class=\"dataframe\">\n",
       "  <thead>\n",
       "    <tr style=\"text-align: right;\">\n",
       "      <th></th>\n",
       "      <th>Adj Close</th>\n",
       "    </tr>\n",
       "    <tr>\n",
       "      <th>Date</th>\n",
       "      <th></th>\n",
       "    </tr>\n",
       "  </thead>\n",
       "  <tbody>\n",
       "    <tr>\n",
       "      <th>2020-05-29</th>\n",
       "      <td>3044.3101</td>\n",
       "    </tr>\n",
       "    <tr>\n",
       "      <th>2020-06-01</th>\n",
       "      <td>3055.7300</td>\n",
       "    </tr>\n",
       "    <tr>\n",
       "      <th>2020-06-02</th>\n",
       "      <td>3080.8201</td>\n",
       "    </tr>\n",
       "    <tr>\n",
       "      <th>2020-06-03</th>\n",
       "      <td>3122.8701</td>\n",
       "    </tr>\n",
       "    <tr>\n",
       "      <th>2020-06-04</th>\n",
       "      <td>3112.3501</td>\n",
       "    </tr>\n",
       "  </tbody>\n",
       "</table>\n",
       "</div>"
      ],
      "text/plain": [
       "            Adj Close\n",
       "Date                 \n",
       "2020-05-29  3044.3101\n",
       "2020-06-01  3055.7300\n",
       "2020-06-02  3080.8201\n",
       "2020-06-03  3122.8701\n",
       "2020-06-04  3112.3501"
      ]
     },
     "execution_count": 56,
     "metadata": {},
     "output_type": "execute_result"
    }
   ],
   "source": [
    "SP500_Index.tail().dropna()"
   ]
  },
  {
   "cell_type": "markdown",
   "metadata": {},
   "source": [
    "Adding the Market Portfolio to the list:"
   ]
  },
  {
   "cell_type": "code",
   "execution_count": 57,
   "metadata": {},
   "outputs": [],
   "source": [
    "Robin_Stocks2[\"MP\"] = SP500_Index[\"Adj Close\"]"
   ]
  },
  {
   "cell_type": "markdown",
   "metadata": {},
   "source": [
    "Closing Prices of the stocks including the Market Portfolio:"
   ]
  },
  {
   "cell_type": "code",
   "execution_count": 58,
   "metadata": {},
   "outputs": [
    {
     "data": {
      "text/html": [
       "<div>\n",
       "<style scoped>\n",
       "    .dataframe tbody tr th:only-of-type {\n",
       "        vertical-align: middle;\n",
       "    }\n",
       "\n",
       "    .dataframe tbody tr th {\n",
       "        vertical-align: top;\n",
       "    }\n",
       "\n",
       "    .dataframe thead th {\n",
       "        text-align: right;\n",
       "    }\n",
       "</style>\n",
       "<table border=\"1\" class=\"dataframe\">\n",
       "  <thead>\n",
       "    <tr style=\"text-align: right;\">\n",
       "      <th></th>\n",
       "      <th>COP</th>\n",
       "      <th>FANG</th>\n",
       "      <th>HAL</th>\n",
       "      <th>KOS</th>\n",
       "      <th>MRO</th>\n",
       "      <th>PAA</th>\n",
       "      <th>SAVE</th>\n",
       "      <th>TAT</th>\n",
       "      <th>MP</th>\n",
       "    </tr>\n",
       "    <tr>\n",
       "      <th>Date</th>\n",
       "      <th></th>\n",
       "      <th></th>\n",
       "      <th></th>\n",
       "      <th></th>\n",
       "      <th></th>\n",
       "      <th></th>\n",
       "      <th></th>\n",
       "      <th></th>\n",
       "      <th></th>\n",
       "    </tr>\n",
       "  </thead>\n",
       "  <tbody>\n",
       "    <tr>\n",
       "      <th>2020-05-29</th>\n",
       "      <td>42.1800</td>\n",
       "      <td>42.5800</td>\n",
       "      <td>11.7061</td>\n",
       "      <td>1.8200</td>\n",
       "      <td>5.3400</td>\n",
       "      <td>9.7000</td>\n",
       "      <td>12.9500</td>\n",
       "      <td>0.2300</td>\n",
       "      <td>3044.3101</td>\n",
       "    </tr>\n",
       "    <tr>\n",
       "      <th>2020-06-01</th>\n",
       "      <td>43.3900</td>\n",
       "      <td>43.7300</td>\n",
       "      <td>11.9950</td>\n",
       "      <td>1.9300</td>\n",
       "      <td>5.6900</td>\n",
       "      <td>9.8700</td>\n",
       "      <td>13.9600</td>\n",
       "      <td>0.2300</td>\n",
       "      <td>3055.7300</td>\n",
       "    </tr>\n",
       "    <tr>\n",
       "      <th>2020-06-02</th>\n",
       "      <td>44.2000</td>\n",
       "      <td>45.6100</td>\n",
       "      <td>12.6900</td>\n",
       "      <td>1.8900</td>\n",
       "      <td>5.8600</td>\n",
       "      <td>10.1700</td>\n",
       "      <td>14.4900</td>\n",
       "      <td>0.2200</td>\n",
       "      <td>3080.8201</td>\n",
       "    </tr>\n",
       "    <tr>\n",
       "      <th>2020-06-03</th>\n",
       "      <td>45.1200</td>\n",
       "      <td>47.5800</td>\n",
       "      <td>13.0800</td>\n",
       "      <td>1.9800</td>\n",
       "      <td>5.9500</td>\n",
       "      <td>10.5000</td>\n",
       "      <td>17.3100</td>\n",
       "      <td>0.2300</td>\n",
       "      <td>3122.8701</td>\n",
       "    </tr>\n",
       "    <tr>\n",
       "      <th>2020-06-04</th>\n",
       "      <td>44.7100</td>\n",
       "      <td>47.6800</td>\n",
       "      <td>13.1900</td>\n",
       "      <td>2.2700</td>\n",
       "      <td>6.2300</td>\n",
       "      <td>10.8600</td>\n",
       "      <td>21.0200</td>\n",
       "      <td>0.2200</td>\n",
       "      <td>3112.3501</td>\n",
       "    </tr>\n",
       "  </tbody>\n",
       "</table>\n",
       "</div>"
      ],
      "text/plain": [
       "               COP    FANG     HAL    KOS    MRO     PAA    SAVE    TAT  \\\n",
       "Date                                                                      \n",
       "2020-05-29 42.1800 42.5800 11.7061 1.8200 5.3400  9.7000 12.9500 0.2300   \n",
       "2020-06-01 43.3900 43.7300 11.9950 1.9300 5.6900  9.8700 13.9600 0.2300   \n",
       "2020-06-02 44.2000 45.6100 12.6900 1.8900 5.8600 10.1700 14.4900 0.2200   \n",
       "2020-06-03 45.1200 47.5800 13.0800 1.9800 5.9500 10.5000 17.3100 0.2300   \n",
       "2020-06-04 44.7100 47.6800 13.1900 2.2700 6.2300 10.8600 21.0200 0.2200   \n",
       "\n",
       "                  MP  \n",
       "Date                  \n",
       "2020-05-29 3044.3101  \n",
       "2020-06-01 3055.7300  \n",
       "2020-06-02 3080.8201  \n",
       "2020-06-03 3122.8701  \n",
       "2020-06-04 3112.3501  "
      ]
     },
     "execution_count": 58,
     "metadata": {},
     "output_type": "execute_result"
    }
   ],
   "source": [
    "Robin_Stocks2.tail().dropna()"
   ]
  },
  {
   "cell_type": "markdown",
   "metadata": {},
   "source": [
    "Daily Returns Including the Market Portfolio:"
   ]
  },
  {
   "cell_type": "code",
   "execution_count": 60,
   "metadata": {},
   "outputs": [],
   "source": [
    "ret = Robin_Stocks2.pct_change().dropna() \n",
    "# ret, when inputting \"ret\" it'll bring up a list of the daily returns"
   ]
  },
  {
   "cell_type": "code",
   "execution_count": 61,
   "metadata": {},
   "outputs": [],
   "source": [
    "def ann_risk_return(returns_df):\n",
    "    summary = returns_df.agg([\"mean\", \"std\"]).T\n",
    "    summary.columns = [\"Return\", \"Risk\"]\n",
    "    summary.Return = summary.Return*252\n",
    "    summary.Risk = summary.Risk * np.sqrt(252)\n",
    "    return summary"
   ]
  },
  {
   "cell_type": "markdown",
   "metadata": {},
   "source": [
    "Risk and Return of the stocks including the Market Portfolio due to COVID-19:"
   ]
  },
  {
   "cell_type": "code",
   "execution_count": 62,
   "metadata": {},
   "outputs": [
    {
     "data": {
      "text/html": [
       "<div>\n",
       "<style scoped>\n",
       "    .dataframe tbody tr th:only-of-type {\n",
       "        vertical-align: middle;\n",
       "    }\n",
       "\n",
       "    .dataframe tbody tr th {\n",
       "        vertical-align: top;\n",
       "    }\n",
       "\n",
       "    .dataframe thead th {\n",
       "        text-align: right;\n",
       "    }\n",
       "</style>\n",
       "<table border=\"1\" class=\"dataframe\">\n",
       "  <thead>\n",
       "    <tr style=\"text-align: right;\">\n",
       "      <th></th>\n",
       "      <th>Return</th>\n",
       "      <th>Risk</th>\n",
       "    </tr>\n",
       "  </thead>\n",
       "  <tbody>\n",
       "    <tr>\n",
       "      <th>COP</th>\n",
       "      <td>2.0705</td>\n",
       "      <td>0.5361</td>\n",
       "    </tr>\n",
       "    <tr>\n",
       "      <th>FANG</th>\n",
       "      <td>2.5820</td>\n",
       "      <td>0.8183</td>\n",
       "    </tr>\n",
       "    <tr>\n",
       "      <th>HAL</th>\n",
       "      <td>3.8436</td>\n",
       "      <td>0.9170</td>\n",
       "    </tr>\n",
       "    <tr>\n",
       "      <th>KOS</th>\n",
       "      <td>6.2385</td>\n",
       "      <td>1.2274</td>\n",
       "    </tr>\n",
       "    <tr>\n",
       "      <th>MRO</th>\n",
       "      <td>2.5539</td>\n",
       "      <td>0.8609</td>\n",
       "    </tr>\n",
       "    <tr>\n",
       "      <th>PAA</th>\n",
       "      <td>3.3118</td>\n",
       "      <td>0.5609</td>\n",
       "    </tr>\n",
       "    <tr>\n",
       "      <th>SAVE</th>\n",
       "      <td>6.2641</td>\n",
       "      <td>1.6248</td>\n",
       "    </tr>\n",
       "    <tr>\n",
       "      <th>TAT</th>\n",
       "      <td>-2.1079</td>\n",
       "      <td>1.0827</td>\n",
       "    </tr>\n",
       "    <tr>\n",
       "      <th>MP</th>\n",
       "      <td>0.9500</td>\n",
       "      <td>0.2156</td>\n",
       "    </tr>\n",
       "  </tbody>\n",
       "</table>\n",
       "</div>"
      ],
      "text/plain": [
       "      Return   Risk\n",
       "COP   2.0705 0.5361\n",
       "FANG  2.5820 0.8183\n",
       "HAL   3.8436 0.9170\n",
       "KOS   6.2385 1.2274\n",
       "MRO   2.5539 0.8609\n",
       "PAA   3.3118 0.5609\n",
       "SAVE  6.2641 1.6248\n",
       "TAT  -2.1079 1.0827\n",
       "MP    0.9500 0.2156"
      ]
     },
     "execution_count": 62,
     "metadata": {},
     "output_type": "execute_result"
    }
   ],
   "source": [
    "summary = ann_risk_return(ret)\n",
    "summary"
   ]
  },
  {
   "cell_type": "markdown",
   "metadata": {},
   "source": [
    "Risk/Return Including the Market Portfolio:"
   ]
  },
  {
   "cell_type": "code",
   "execution_count": 63,
   "metadata": {},
   "outputs": [
    {
     "data": {
      "image/png": "[encoded data removed]",
      "text/plain": [
       "<Figure size 936x648 with 1 Axes>"
      ]
     },
     "metadata": {},
     "output_type": "display_data"
    }
   ],
   "source": [
    "summary.plot(kind = \"scatter\", x = \"Risk\", y = \"Return\", figsize = (13,9), s = 50, fontsize = 15)\n",
    "for i in summary.index:\n",
    "    plt.annotate(i, xy=(summary.loc[i, \"Risk\"]+0.002, summary.loc[i, \"Return\"]+0.002), size = 15)\n",
    "plt.xlabel(\"Volatility (Risk)\", fontsize = 15)\n",
    "plt.ylabel(\"Annual Return\", fontsize = 15)\n",
    "plt.title(\"Risk/Return Due to COVID-19\", fontsize = 20)\n",
    "plt.show()"
   ]
  },
  {
   "cell_type": "markdown",
   "metadata": {},
   "source": [
    "Calculating the Sharpe Ratio including the Market Portfolio (MP):"
   ]
  },
  {
   "cell_type": "code",
   "execution_count": 64,
   "metadata": {},
   "outputs": [],
   "source": [
    "risk_free_return = 0.015\n",
    "risk_free_risk = 0"
   ]
  },
  {
   "cell_type": "code",
   "execution_count": 65,
   "metadata": {},
   "outputs": [
    {
     "data": {
      "text/plain": [
       "[0.015, 0]"
      ]
     },
     "execution_count": 65,
     "metadata": {},
     "output_type": "execute_result"
    }
   ],
   "source": [
    "rf = [risk_free_return, risk_free_risk]\n",
    "rf"
   ]
  },
  {
   "cell_type": "markdown",
   "metadata": {},
   "source": [
    "Sharpe Ratio of stocks and the Market Portfolio:"
   ]
  },
  {
   "cell_type": "code",
   "execution_count": 66,
   "metadata": {},
   "outputs": [
    {
     "data": {
      "text/html": [
       "<div>\n",
       "<style scoped>\n",
       "    .dataframe tbody tr th:only-of-type {\n",
       "        vertical-align: middle;\n",
       "    }\n",
       "\n",
       "    .dataframe tbody tr th {\n",
       "        vertical-align: top;\n",
       "    }\n",
       "\n",
       "    .dataframe thead th {\n",
       "        text-align: right;\n",
       "    }\n",
       "</style>\n",
       "<table border=\"1\" class=\"dataframe\">\n",
       "  <thead>\n",
       "    <tr style=\"text-align: right;\">\n",
       "      <th></th>\n",
       "      <th>Return</th>\n",
       "      <th>Risk</th>\n",
       "      <th>Sharpe</th>\n",
       "    </tr>\n",
       "  </thead>\n",
       "  <tbody>\n",
       "    <tr>\n",
       "      <th>COP</th>\n",
       "      <td>2.0705</td>\n",
       "      <td>0.5361</td>\n",
       "      <td>3.8341</td>\n",
       "    </tr>\n",
       "    <tr>\n",
       "      <th>FANG</th>\n",
       "      <td>2.5820</td>\n",
       "      <td>0.8183</td>\n",
       "      <td>3.1369</td>\n",
       "    </tr>\n",
       "    <tr>\n",
       "      <th>HAL</th>\n",
       "      <td>3.8436</td>\n",
       "      <td>0.9170</td>\n",
       "      <td>4.1752</td>\n",
       "    </tr>\n",
       "    <tr>\n",
       "      <th>KOS</th>\n",
       "      <td>6.2385</td>\n",
       "      <td>1.2274</td>\n",
       "      <td>5.0705</td>\n",
       "    </tr>\n",
       "    <tr>\n",
       "      <th>MRO</th>\n",
       "      <td>2.5539</td>\n",
       "      <td>0.8609</td>\n",
       "      <td>2.9493</td>\n",
       "    </tr>\n",
       "    <tr>\n",
       "      <th>PAA</th>\n",
       "      <td>3.3118</td>\n",
       "      <td>0.5609</td>\n",
       "      <td>5.8777</td>\n",
       "    </tr>\n",
       "    <tr>\n",
       "      <th>SAVE</th>\n",
       "      <td>6.2641</td>\n",
       "      <td>1.6248</td>\n",
       "      <td>3.8461</td>\n",
       "    </tr>\n",
       "    <tr>\n",
       "      <th>TAT</th>\n",
       "      <td>-2.1079</td>\n",
       "      <td>1.0827</td>\n",
       "      <td>-1.9608</td>\n",
       "    </tr>\n",
       "    <tr>\n",
       "      <th>MP</th>\n",
       "      <td>0.9500</td>\n",
       "      <td>0.2156</td>\n",
       "      <td>4.3359</td>\n",
       "    </tr>\n",
       "  </tbody>\n",
       "</table>\n",
       "</div>"
      ],
      "text/plain": [
       "      Return   Risk  Sharpe\n",
       "COP   2.0705 0.5361  3.8341\n",
       "FANG  2.5820 0.8183  3.1369\n",
       "HAL   3.8436 0.9170  4.1752\n",
       "KOS   6.2385 1.2274  5.0705\n",
       "MRO   2.5539 0.8609  2.9493\n",
       "PAA   3.3118 0.5609  5.8777\n",
       "SAVE  6.2641 1.6248  3.8461\n",
       "TAT  -2.1079 1.0827 -1.9608\n",
       "MP    0.9500 0.2156  4.3359"
      ]
     },
     "execution_count": 66,
     "metadata": {},
     "output_type": "execute_result"
    }
   ],
   "source": [
    "summary[\"Sharpe\"] = (summary[\"Return\"].sub(rf[0]))/summary[\"Risk\"]\n",
    "summary"
   ]
  },
  {
   "cell_type": "markdown",
   "metadata": {},
   "source": [
    "Notice that the Market Porfolo has a Positive sharpe ratio, this generally moves we're expecting positive performance."
   ]
  },
  {
   "cell_type": "markdown",
   "metadata": {},
   "source": [
    "## Systematic and Unsystematic Risk  Including the Market Portfolio\n",
    "\n",
    "Systematic risk refers to the risk inherent to the entire market or market segment. Systematic risk, also known as “undiversifiable risk,” “volatility” or “market risk,” affects the overall market, not just a particular stock or industry. This type of risk is both unpredictable and impossible to completely avoid. It cannot be mitigated through diversification, only through hedging or by using the correct asset allocation strategy.\n",
    "\n",
    "Unsystematic risk is unique to a specific company or industry. Also known as “nonsystematic risk,” \"specific risk,\" \"diversifiable risk\" or \"residual risk,\" in the context of an investment portfolio, unsystematic risk can be reduced through diversification."
   ]
  },
  {
   "cell_type": "markdown",
   "metadata": {},
   "source": [
    "Variance is used to compare the relative performance of each asset in a portfolio:"
   ]
  },
  {
   "cell_type": "code",
   "execution_count": 67,
   "metadata": {},
   "outputs": [
    {
     "data": {
      "text/html": [
       "<div>\n",
       "<style scoped>\n",
       "    .dataframe tbody tr th:only-of-type {\n",
       "        vertical-align: middle;\n",
       "    }\n",
       "\n",
       "    .dataframe tbody tr th {\n",
       "        vertical-align: top;\n",
       "    }\n",
       "\n",
       "    .dataframe thead th {\n",
       "        text-align: right;\n",
       "    }\n",
       "</style>\n",
       "<table border=\"1\" class=\"dataframe\">\n",
       "  <thead>\n",
       "    <tr style=\"text-align: right;\">\n",
       "      <th></th>\n",
       "      <th>Return</th>\n",
       "      <th>Risk</th>\n",
       "      <th>Sharpe</th>\n",
       "      <th>TotalRisk_var</th>\n",
       "    </tr>\n",
       "  </thead>\n",
       "  <tbody>\n",
       "    <tr>\n",
       "      <th>COP</th>\n",
       "      <td>2.0705</td>\n",
       "      <td>0.5361</td>\n",
       "      <td>3.8341</td>\n",
       "      <td>0.2874</td>\n",
       "    </tr>\n",
       "    <tr>\n",
       "      <th>FANG</th>\n",
       "      <td>2.5820</td>\n",
       "      <td>0.8183</td>\n",
       "      <td>3.1369</td>\n",
       "      <td>0.6697</td>\n",
       "    </tr>\n",
       "    <tr>\n",
       "      <th>HAL</th>\n",
       "      <td>3.8436</td>\n",
       "      <td>0.9170</td>\n",
       "      <td>4.1752</td>\n",
       "      <td>0.8409</td>\n",
       "    </tr>\n",
       "    <tr>\n",
       "      <th>KOS</th>\n",
       "      <td>6.2385</td>\n",
       "      <td>1.2274</td>\n",
       "      <td>5.0705</td>\n",
       "      <td>1.5065</td>\n",
       "    </tr>\n",
       "    <tr>\n",
       "      <th>MRO</th>\n",
       "      <td>2.5539</td>\n",
       "      <td>0.8609</td>\n",
       "      <td>2.9493</td>\n",
       "      <td>0.7411</td>\n",
       "    </tr>\n",
       "    <tr>\n",
       "      <th>PAA</th>\n",
       "      <td>3.3118</td>\n",
       "      <td>0.5609</td>\n",
       "      <td>5.8777</td>\n",
       "      <td>0.3146</td>\n",
       "    </tr>\n",
       "    <tr>\n",
       "      <th>SAVE</th>\n",
       "      <td>6.2641</td>\n",
       "      <td>1.6248</td>\n",
       "      <td>3.8461</td>\n",
       "      <td>2.6399</td>\n",
       "    </tr>\n",
       "    <tr>\n",
       "      <th>TAT</th>\n",
       "      <td>-2.1079</td>\n",
       "      <td>1.0827</td>\n",
       "      <td>-1.9608</td>\n",
       "      <td>1.1722</td>\n",
       "    </tr>\n",
       "    <tr>\n",
       "      <th>MP</th>\n",
       "      <td>0.9500</td>\n",
       "      <td>0.2156</td>\n",
       "      <td>4.3359</td>\n",
       "      <td>0.0465</td>\n",
       "    </tr>\n",
       "  </tbody>\n",
       "</table>\n",
       "</div>"
      ],
      "text/plain": [
       "      Return   Risk  Sharpe  TotalRisk_var\n",
       "COP   2.0705 0.5361  3.8341         0.2874\n",
       "FANG  2.5820 0.8183  3.1369         0.6697\n",
       "HAL   3.8436 0.9170  4.1752         0.8409\n",
       "KOS   6.2385 1.2274  5.0705         1.5065\n",
       "MRO   2.5539 0.8609  2.9493         0.7411\n",
       "PAA   3.3118 0.5609  5.8777         0.3146\n",
       "SAVE  6.2641 1.6248  3.8461         2.6399\n",
       "TAT  -2.1079 1.0827 -1.9608         1.1722\n",
       "MP    0.9500 0.2156  4.3359         0.0465"
      ]
     },
     "execution_count": 67,
     "metadata": {},
     "output_type": "execute_result"
    }
   ],
   "source": [
    "summary[\"TotalRisk_var\"] = np.power(summary.Risk, 2)\n",
    "summary"
   ]
  },
  {
   "cell_type": "markdown",
   "metadata": {},
   "source": [
    "In statistics, covariance is a metric used to measure how one random variable moves in relation to another random variable. In investment, covariance of returns measures how the rate of return on one asset varies in relation to the rate of return on other assets or a portfolio."
   ]
  },
  {
   "cell_type": "code",
   "execution_count": 68,
   "metadata": {},
   "outputs": [],
   "source": [
    "COV = ret.cov()*252\n",
    "# COV, if we add \"COV\" it'll create a long chart"
   ]
  },
  {
   "cell_type": "code",
   "execution_count": 69,
   "metadata": {},
   "outputs": [],
   "source": [
    "summary[\"SystRisk_var\"] = COV.iloc[:, -1]"
   ]
  },
  {
   "cell_type": "code",
   "execution_count": 70,
   "metadata": {},
   "outputs": [
    {
     "data": {
      "text/html": [
       "<div>\n",
       "<style scoped>\n",
       "    .dataframe tbody tr th:only-of-type {\n",
       "        vertical-align: middle;\n",
       "    }\n",
       "\n",
       "    .dataframe tbody tr th {\n",
       "        vertical-align: top;\n",
       "    }\n",
       "\n",
       "    .dataframe thead th {\n",
       "        text-align: right;\n",
       "    }\n",
       "</style>\n",
       "<table border=\"1\" class=\"dataframe\">\n",
       "  <thead>\n",
       "    <tr style=\"text-align: right;\">\n",
       "      <th></th>\n",
       "      <th>Return</th>\n",
       "      <th>Risk</th>\n",
       "      <th>Sharpe</th>\n",
       "      <th>TotalRisk_var</th>\n",
       "      <th>SystRisk_var</th>\n",
       "      <th>UnsystRisk_var</th>\n",
       "    </tr>\n",
       "  </thead>\n",
       "  <tbody>\n",
       "    <tr>\n",
       "      <th>COP</th>\n",
       "      <td>2.0705</td>\n",
       "      <td>0.5361</td>\n",
       "      <td>3.8341</td>\n",
       "      <td>0.2874</td>\n",
       "      <td>0.0928</td>\n",
       "      <td>0.1946</td>\n",
       "    </tr>\n",
       "    <tr>\n",
       "      <th>FANG</th>\n",
       "      <td>2.5820</td>\n",
       "      <td>0.8183</td>\n",
       "      <td>3.1369</td>\n",
       "      <td>0.6697</td>\n",
       "      <td>0.1251</td>\n",
       "      <td>0.5446</td>\n",
       "    </tr>\n",
       "    <tr>\n",
       "      <th>HAL</th>\n",
       "      <td>3.8436</td>\n",
       "      <td>0.9170</td>\n",
       "      <td>4.1752</td>\n",
       "      <td>0.8409</td>\n",
       "      <td>0.1532</td>\n",
       "      <td>0.6877</td>\n",
       "    </tr>\n",
       "    <tr>\n",
       "      <th>KOS</th>\n",
       "      <td>6.2385</td>\n",
       "      <td>1.2274</td>\n",
       "      <td>5.0705</td>\n",
       "      <td>1.5065</td>\n",
       "      <td>0.0739</td>\n",
       "      <td>1.4327</td>\n",
       "    </tr>\n",
       "    <tr>\n",
       "      <th>MRO</th>\n",
       "      <td>2.5539</td>\n",
       "      <td>0.8609</td>\n",
       "      <td>2.9493</td>\n",
       "      <td>0.7411</td>\n",
       "      <td>0.1001</td>\n",
       "      <td>0.6410</td>\n",
       "    </tr>\n",
       "    <tr>\n",
       "      <th>PAA</th>\n",
       "      <td>3.3118</td>\n",
       "      <td>0.5609</td>\n",
       "      <td>5.8777</td>\n",
       "      <td>0.3146</td>\n",
       "      <td>0.0791</td>\n",
       "      <td>0.2355</td>\n",
       "    </tr>\n",
       "    <tr>\n",
       "      <th>SAVE</th>\n",
       "      <td>6.2641</td>\n",
       "      <td>1.6248</td>\n",
       "      <td>3.8461</td>\n",
       "      <td>2.6399</td>\n",
       "      <td>0.1841</td>\n",
       "      <td>2.4558</td>\n",
       "    </tr>\n",
       "    <tr>\n",
       "      <th>TAT</th>\n",
       "      <td>-2.1079</td>\n",
       "      <td>1.0827</td>\n",
       "      <td>-1.9608</td>\n",
       "      <td>1.1722</td>\n",
       "      <td>0.0636</td>\n",
       "      <td>1.1086</td>\n",
       "    </tr>\n",
       "    <tr>\n",
       "      <th>MP</th>\n",
       "      <td>0.9500</td>\n",
       "      <td>0.2156</td>\n",
       "      <td>4.3359</td>\n",
       "      <td>0.0465</td>\n",
       "      <td>0.0465</td>\n",
       "      <td>0.0000</td>\n",
       "    </tr>\n",
       "  </tbody>\n",
       "</table>\n",
       "</div>"
      ],
      "text/plain": [
       "      Return   Risk  Sharpe  TotalRisk_var  SystRisk_var  UnsystRisk_var\n",
       "COP   2.0705 0.5361  3.8341         0.2874        0.0928          0.1946\n",
       "FANG  2.5820 0.8183  3.1369         0.6697        0.1251          0.5446\n",
       "HAL   3.8436 0.9170  4.1752         0.8409        0.1532          0.6877\n",
       "KOS   6.2385 1.2274  5.0705         1.5065        0.0739          1.4327\n",
       "MRO   2.5539 0.8609  2.9493         0.7411        0.1001          0.6410\n",
       "PAA   3.3118 0.5609  5.8777         0.3146        0.0791          0.2355\n",
       "SAVE  6.2641 1.6248  3.8461         2.6399        0.1841          2.4558\n",
       "TAT  -2.1079 1.0827 -1.9608         1.1722        0.0636          1.1086\n",
       "MP    0.9500 0.2156  4.3359         0.0465        0.0465          0.0000"
      ]
     },
     "execution_count": 70,
     "metadata": {},
     "output_type": "execute_result"
    }
   ],
   "source": [
    "summary[\"UnsystRisk_var\"] = summary[\"TotalRisk_var\"].sub(summary[\"SystRisk_var\"])\n",
    "summary"
   ]
  },
  {
   "cell_type": "markdown",
   "metadata": {},
   "source": [
    "### Systematic and Unsystematic risk of stocks including the Market Portfolio (MP = S&P500 Index):"
   ]
  },
  {
   "cell_type": "code",
   "execution_count": 71,
   "metadata": {},
   "outputs": [
    {
     "data": {
      "image/png": "[encoded data removed]",
      "text/plain": [
       "<Figure size 1080x576 with 1 Axes>"
      ]
     },
     "metadata": {},
     "output_type": "display_data"
    }
   ],
   "source": [
    "summary.iloc[:, 4:].plot(kind = \"bar\", stacked = True, figsize= (15, 8), fontsize = 15)\n",
    "plt.legend(fontsize = 15)\n",
    "plt.show()"
   ]
  },
  {
   "cell_type": "markdown",
   "metadata": {},
   "source": [
    "In general we want a balance between systematic and unsystematic risk. Systematic risk has to do with the stock getting affected by the overall market, and the stocks in this portfolio that gets affected by the market condidtions the most due to COVID-19 aren't much. The portfolio is subjected to a highlevel of unsystematic risk which is also known as company specifc risk."
   ]
  },
  {
   "cell_type": "markdown",
   "metadata": {},
   "source": [
    "Determining the beta of the stocks in the portfolio compared to the Market Portfolio (S&P 500 Index):\n",
    "\n",
    "Beta is a measure of the volatility (Risk), or systematic risk, of a security or portfolio, in comparison to the market as a whole. "
   ]
  },
  {
   "cell_type": "code",
   "execution_count": 72,
   "metadata": {},
   "outputs": [
    {
     "data": {
      "text/html": [
       "<div>\n",
       "<style scoped>\n",
       "    .dataframe tbody tr th:only-of-type {\n",
       "        vertical-align: middle;\n",
       "    }\n",
       "\n",
       "    .dataframe tbody tr th {\n",
       "        vertical-align: top;\n",
       "    }\n",
       "\n",
       "    .dataframe thead th {\n",
       "        text-align: right;\n",
       "    }\n",
       "</style>\n",
       "<table border=\"1\" class=\"dataframe\">\n",
       "  <thead>\n",
       "    <tr style=\"text-align: right;\">\n",
       "      <th></th>\n",
       "      <th>Return</th>\n",
       "      <th>Risk</th>\n",
       "      <th>Sharpe</th>\n",
       "      <th>TotalRisk_var</th>\n",
       "      <th>SystRisk_var</th>\n",
       "      <th>UnsystRisk_var</th>\n",
       "      <th>beta</th>\n",
       "    </tr>\n",
       "  </thead>\n",
       "  <tbody>\n",
       "    <tr>\n",
       "      <th>COP</th>\n",
       "      <td>2.0705</td>\n",
       "      <td>0.5361</td>\n",
       "      <td>3.8341</td>\n",
       "      <td>0.2874</td>\n",
       "      <td>0.0928</td>\n",
       "      <td>0.1946</td>\n",
       "      <td>1.9962</td>\n",
       "    </tr>\n",
       "    <tr>\n",
       "      <th>FANG</th>\n",
       "      <td>2.5820</td>\n",
       "      <td>0.8183</td>\n",
       "      <td>3.1369</td>\n",
       "      <td>0.6697</td>\n",
       "      <td>0.1251</td>\n",
       "      <td>0.5446</td>\n",
       "      <td>2.6901</td>\n",
       "    </tr>\n",
       "    <tr>\n",
       "      <th>HAL</th>\n",
       "      <td>3.8436</td>\n",
       "      <td>0.9170</td>\n",
       "      <td>4.1752</td>\n",
       "      <td>0.8409</td>\n",
       "      <td>0.1532</td>\n",
       "      <td>0.6877</td>\n",
       "      <td>3.2939</td>\n",
       "    </tr>\n",
       "    <tr>\n",
       "      <th>KOS</th>\n",
       "      <td>6.2385</td>\n",
       "      <td>1.2274</td>\n",
       "      <td>5.0705</td>\n",
       "      <td>1.5065</td>\n",
       "      <td>0.0739</td>\n",
       "      <td>1.4327</td>\n",
       "      <td>1.5884</td>\n",
       "    </tr>\n",
       "    <tr>\n",
       "      <th>MRO</th>\n",
       "      <td>2.5539</td>\n",
       "      <td>0.8609</td>\n",
       "      <td>2.9493</td>\n",
       "      <td>0.7411</td>\n",
       "      <td>0.1001</td>\n",
       "      <td>0.6410</td>\n",
       "      <td>2.1517</td>\n",
       "    </tr>\n",
       "    <tr>\n",
       "      <th>PAA</th>\n",
       "      <td>3.3118</td>\n",
       "      <td>0.5609</td>\n",
       "      <td>5.8777</td>\n",
       "      <td>0.3146</td>\n",
       "      <td>0.0791</td>\n",
       "      <td>0.2355</td>\n",
       "      <td>1.7019</td>\n",
       "    </tr>\n",
       "    <tr>\n",
       "      <th>SAVE</th>\n",
       "      <td>6.2641</td>\n",
       "      <td>1.6248</td>\n",
       "      <td>3.8461</td>\n",
       "      <td>2.6399</td>\n",
       "      <td>0.1841</td>\n",
       "      <td>2.4558</td>\n",
       "      <td>3.9603</td>\n",
       "    </tr>\n",
       "    <tr>\n",
       "      <th>TAT</th>\n",
       "      <td>-2.1079</td>\n",
       "      <td>1.0827</td>\n",
       "      <td>-1.9608</td>\n",
       "      <td>1.1722</td>\n",
       "      <td>0.0636</td>\n",
       "      <td>1.1086</td>\n",
       "      <td>1.3672</td>\n",
       "    </tr>\n",
       "    <tr>\n",
       "      <th>MP</th>\n",
       "      <td>0.9500</td>\n",
       "      <td>0.2156</td>\n",
       "      <td>4.3359</td>\n",
       "      <td>0.0465</td>\n",
       "      <td>0.0465</td>\n",
       "      <td>0.0000</td>\n",
       "      <td>1.0000</td>\n",
       "    </tr>\n",
       "  </tbody>\n",
       "</table>\n",
       "</div>"
      ],
      "text/plain": [
       "      Return   Risk  Sharpe  TotalRisk_var  SystRisk_var  UnsystRisk_var  \\\n",
       "COP   2.0705 0.5361  3.8341         0.2874        0.0928          0.1946   \n",
       "FANG  2.5820 0.8183  3.1369         0.6697        0.1251          0.5446   \n",
       "HAL   3.8436 0.9170  4.1752         0.8409        0.1532          0.6877   \n",
       "KOS   6.2385 1.2274  5.0705         1.5065        0.0739          1.4327   \n",
       "MRO   2.5539 0.8609  2.9493         0.7411        0.1001          0.6410   \n",
       "PAA   3.3118 0.5609  5.8777         0.3146        0.0791          0.2355   \n",
       "SAVE  6.2641 1.6248  3.8461         2.6399        0.1841          2.4558   \n",
       "TAT  -2.1079 1.0827 -1.9608         1.1722        0.0636          1.1086   \n",
       "MP    0.9500 0.2156  4.3359         0.0465        0.0465          0.0000   \n",
       "\n",
       "       beta  \n",
       "COP  1.9962  \n",
       "FANG 2.6901  \n",
       "HAL  3.2939  \n",
       "KOS  1.5884  \n",
       "MRO  2.1517  \n",
       "PAA  1.7019  \n",
       "SAVE 3.9603  \n",
       "TAT  1.3672  \n",
       "MP   1.0000  "
      ]
     },
     "execution_count": 72,
     "metadata": {},
     "output_type": "execute_result"
    }
   ],
   "source": [
    "summary[\"beta\"] = summary.SystRisk_var / summary.loc[\"MP\", \"SystRisk_var\"]\n",
    "summary"
   ]
  },
  {
   "cell_type": "markdown",
   "metadata": {},
   "source": [
    "Stocks with the beta above 1, means that they get largely affected by market condidtions in a postive and a negative way due to systematic risk. If the S&P 500 were to drop around 5%, these stocks would be likely to drop towards 8 to 10% in a day and if the S&P500 would of rallyed 5% then those stocks would gained 8 to 10% in a day. In other words high beta stock tend to have more risk, with greater risk comes greater potential reward. "
   ]
  },
  {
   "cell_type": "markdown",
   "metadata": {},
   "source": [
    "## Determining The Security Market Line\n",
    "\n",
    "The security market line is an investment evaluation tool derived from the CAPM—a model that describes risk-return relationship for securities—and is based on the assumption that investors need to be compensated for both the time value of money (TVM) and the corresponding level of risk associated with any investment, referred to as the risk premium."
   ]
  },
  {
   "cell_type": "code",
   "execution_count": 73,
   "metadata": {},
   "outputs": [
    {
     "data": {
      "image/png": "[encoded data removed]",
      "text/plain": [
       "<Figure size 1080x576 with 1 Axes>"
      ]
     },
     "metadata": {},
     "output_type": "display_data"
    }
   ],
   "source": [
    "plt.figure(figsize = (15, 8))\n",
    "plt.scatter(summary.beta, summary.Return)\n",
    "for i in summary.index:\n",
    "    plt.annotate(i, xy=(summary.loc[i, \"beta\"]+0.00, summary.loc[i, \"Return\"]-0.015), size = 15)\n",
    "plt.plot([rf[1], summary.loc[\"MP\", \"beta\"]], [rf[0], summary.loc[\"MP\", \"Return\"]])\n",
    "plt.scatter(rf[1], rf[0], s = 100, marker = \"o\", c = \"red\")\n",
    "plt.annotate(\"Risk Free Asset\", xy = (rf[1] + 0.002, rf[0] - 0.02), size = 20, color = \"Red\")\n",
    "plt.xlabel(\"Beta\", fontsize = 15)\n",
    "plt.ylabel(\"Annual Return\", fontsize = 15)\n",
    "plt.title(\"Beta / Return Due to COVID-19, Security Market Line\", fontsize = 20)\n",
    "plt.show()"
   ]
  },
  {
   "cell_type": "markdown",
   "metadata": {},
   "source": [
    "Security Market Line Analysis: Stocks that fall below the SML is an indictor that they are underperforming the market. Meanwhile stocks above the SML indicate that they are outperforming the market."
   ]
  },
  {
   "cell_type": "markdown",
   "metadata": {},
   "source": [
    "### Including the Capital Asset Pricing Model and Alpha of the stocks with the Market Portfolio\n",
    "\n",
    "The Capital Asset Pricing Model (CAPM) describes the relationship between systematic risk and expected return for assets, particularly stocks. CAPM is widely used throughout finance for pricing risky securities and generating expected returns for assets given the risk of those assets and cost of capital.\n",
    "\n",
    "\"Alpha\" (the Greek letter α) is a term used in investing to describe a strategy's ability to beat the market, or it's \"edge.\" Alpha is thus also often referred to as “excess return” or “abnormal rate of return,” which refers to the idea that markets are efficient, and so there is no way to systematically earn returns that exceed the broad market as a whole. Alpha is often used in conjunction with beta (the Greek letter β) , which measures the broad market's overall volatility or risk, known as systematic market risk"
   ]
  },
  {
   "cell_type": "code",
   "execution_count": 74,
   "metadata": {},
   "outputs": [],
   "source": [
    "summary[\"capm_ret\"] = rf[0] + (summary.loc[\"MP\", \"Return\"] - rf[0]) * summary.beta"
   ]
  },
  {
   "cell_type": "code",
   "execution_count": 75,
   "metadata": {},
   "outputs": [
    {
     "data": {
      "text/html": [
       "<div>\n",
       "<style scoped>\n",
       "    .dataframe tbody tr th:only-of-type {\n",
       "        vertical-align: middle;\n",
       "    }\n",
       "\n",
       "    .dataframe tbody tr th {\n",
       "        vertical-align: top;\n",
       "    }\n",
       "\n",
       "    .dataframe thead th {\n",
       "        text-align: right;\n",
       "    }\n",
       "</style>\n",
       "<table border=\"1\" class=\"dataframe\">\n",
       "  <thead>\n",
       "    <tr style=\"text-align: right;\">\n",
       "      <th></th>\n",
       "      <th>Return</th>\n",
       "      <th>Risk</th>\n",
       "      <th>Sharpe</th>\n",
       "      <th>TotalRisk_var</th>\n",
       "      <th>SystRisk_var</th>\n",
       "      <th>UnsystRisk_var</th>\n",
       "      <th>beta</th>\n",
       "      <th>capm_ret</th>\n",
       "      <th>alpha</th>\n",
       "    </tr>\n",
       "  </thead>\n",
       "  <tbody>\n",
       "    <tr>\n",
       "      <th>COP</th>\n",
       "      <td>2.0705</td>\n",
       "      <td>0.5361</td>\n",
       "      <td>3.8341</td>\n",
       "      <td>0.2874</td>\n",
       "      <td>0.0928</td>\n",
       "      <td>0.1946</td>\n",
       "      <td>1.9962</td>\n",
       "      <td>1.8814</td>\n",
       "      <td>0.1891</td>\n",
       "    </tr>\n",
       "    <tr>\n",
       "      <th>FANG</th>\n",
       "      <td>2.5820</td>\n",
       "      <td>0.8183</td>\n",
       "      <td>3.1369</td>\n",
       "      <td>0.6697</td>\n",
       "      <td>0.1251</td>\n",
       "      <td>0.5446</td>\n",
       "      <td>2.6901</td>\n",
       "      <td>2.5301</td>\n",
       "      <td>0.0519</td>\n",
       "    </tr>\n",
       "    <tr>\n",
       "      <th>HAL</th>\n",
       "      <td>3.8436</td>\n",
       "      <td>0.9170</td>\n",
       "      <td>4.1752</td>\n",
       "      <td>0.8409</td>\n",
       "      <td>0.1532</td>\n",
       "      <td>0.6877</td>\n",
       "      <td>3.2939</td>\n",
       "      <td>3.0947</td>\n",
       "      <td>0.7489</td>\n",
       "    </tr>\n",
       "    <tr>\n",
       "      <th>KOS</th>\n",
       "      <td>6.2385</td>\n",
       "      <td>1.2274</td>\n",
       "      <td>5.0705</td>\n",
       "      <td>1.5065</td>\n",
       "      <td>0.0739</td>\n",
       "      <td>1.4327</td>\n",
       "      <td>1.5884</td>\n",
       "      <td>1.5001</td>\n",
       "      <td>4.7384</td>\n",
       "    </tr>\n",
       "    <tr>\n",
       "      <th>MRO</th>\n",
       "      <td>2.5539</td>\n",
       "      <td>0.8609</td>\n",
       "      <td>2.9493</td>\n",
       "      <td>0.7411</td>\n",
       "      <td>0.1001</td>\n",
       "      <td>0.6410</td>\n",
       "      <td>2.1517</td>\n",
       "      <td>2.0268</td>\n",
       "      <td>0.5271</td>\n",
       "    </tr>\n",
       "    <tr>\n",
       "      <th>PAA</th>\n",
       "      <td>3.3118</td>\n",
       "      <td>0.5609</td>\n",
       "      <td>5.8777</td>\n",
       "      <td>0.3146</td>\n",
       "      <td>0.0791</td>\n",
       "      <td>0.2355</td>\n",
       "      <td>1.7019</td>\n",
       "      <td>1.6062</td>\n",
       "      <td>1.7055</td>\n",
       "    </tr>\n",
       "    <tr>\n",
       "      <th>SAVE</th>\n",
       "      <td>6.2641</td>\n",
       "      <td>1.6248</td>\n",
       "      <td>3.8461</td>\n",
       "      <td>2.6399</td>\n",
       "      <td>0.1841</td>\n",
       "      <td>2.4558</td>\n",
       "      <td>3.9603</td>\n",
       "      <td>3.7177</td>\n",
       "      <td>2.5464</td>\n",
       "    </tr>\n",
       "    <tr>\n",
       "      <th>TAT</th>\n",
       "      <td>-2.1079</td>\n",
       "      <td>1.0827</td>\n",
       "      <td>-1.9608</td>\n",
       "      <td>1.1722</td>\n",
       "      <td>0.0636</td>\n",
       "      <td>1.1086</td>\n",
       "      <td>1.3672</td>\n",
       "      <td>1.2933</td>\n",
       "      <td>-3.4012</td>\n",
       "    </tr>\n",
       "    <tr>\n",
       "      <th>MP</th>\n",
       "      <td>0.9500</td>\n",
       "      <td>0.2156</td>\n",
       "      <td>4.3359</td>\n",
       "      <td>0.0465</td>\n",
       "      <td>0.0465</td>\n",
       "      <td>0.0000</td>\n",
       "      <td>1.0000</td>\n",
       "      <td>0.9500</td>\n",
       "      <td>0.0000</td>\n",
       "    </tr>\n",
       "  </tbody>\n",
       "</table>\n",
       "</div>"
      ],
      "text/plain": [
       "      Return   Risk  Sharpe  TotalRisk_var  SystRisk_var  UnsystRisk_var  \\\n",
       "COP   2.0705 0.5361  3.8341         0.2874        0.0928          0.1946   \n",
       "FANG  2.5820 0.8183  3.1369         0.6697        0.1251          0.5446   \n",
       "HAL   3.8436 0.9170  4.1752         0.8409        0.1532          0.6877   \n",
       "KOS   6.2385 1.2274  5.0705         1.5065        0.0739          1.4327   \n",
       "MRO   2.5539 0.8609  2.9493         0.7411        0.1001          0.6410   \n",
       "PAA   3.3118 0.5609  5.8777         0.3146        0.0791          0.2355   \n",
       "SAVE  6.2641 1.6248  3.8461         2.6399        0.1841          2.4558   \n",
       "TAT  -2.1079 1.0827 -1.9608         1.1722        0.0636          1.1086   \n",
       "MP    0.9500 0.2156  4.3359         0.0465        0.0465          0.0000   \n",
       "\n",
       "       beta  capm_ret   alpha  \n",
       "COP  1.9962    1.8814  0.1891  \n",
       "FANG 2.6901    2.5301  0.0519  \n",
       "HAL  3.2939    3.0947  0.7489  \n",
       "KOS  1.5884    1.5001  4.7384  \n",
       "MRO  2.1517    2.0268  0.5271  \n",
       "PAA  1.7019    1.6062  1.7055  \n",
       "SAVE 3.9603    3.7177  2.5464  \n",
       "TAT  1.3672    1.2933 -3.4012  \n",
       "MP   1.0000    0.9500  0.0000  "
      ]
     },
     "execution_count": 75,
     "metadata": {},
     "output_type": "execute_result"
    }
   ],
   "source": [
    "summary[\"alpha\"] = summary.Return - summary.capm_ret\n",
    "summary"
   ]
  },
  {
   "cell_type": "markdown",
   "metadata": {},
   "source": [
    "CAPM Analysis: Since we know that the CAPM is used for determining expected returns on stocks, we can notice that each stock is expected to reach positve returns, We can also notice that stocks with the highest betas are expected to have higher returns. This could of course change do to systematic condidtons.  \n",
    "\n",
    "Alpha Analysis: Understanding that Alpha is used to determine whether or not a stock would beat the overall market. We can notice that stocks in the Portfolio that have a chance of not beating the over all market are the stocks below the Security Market Line."
   ]
  }
 ],
 "metadata": {
  "kernelspec": {
   "display_name": "Python 3",
   "language": "python",
   "name": "python3"
  },
  "language_info": {
   "codemirror_mode": {
    "name": "ipython",
    "version": 3
   },
   "file_extension": ".py",
   "mimetype": "text/x-python",
   "name": "python",
   "nbconvert_exporter": "python",
   "pygments_lexer": "ipython3",
   "version": "3.7.6"
  }
 },
 "nbformat": 4,
 "nbformat_minor": 4
}
